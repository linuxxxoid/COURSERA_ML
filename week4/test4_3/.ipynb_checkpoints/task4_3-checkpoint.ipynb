{
 "cells": [
  {
   "cell_type": "markdown",
   "metadata": {},
   "source": [
    "# Введение в рекомендательные системы\n",
    "\n",
    "## Коллаборативная фильтрация"
   ]
  },
  {
   "cell_type": "markdown",
   "metadata": {},
   "source": [
    "В этом задании мы закончим имплементацию коллаборативной фильтрации.\n",
    "\n",
    "Для этого - выполним действия, необходимые для создания матрицы рейтингов"
   ]
  },
  {
   "cell_type": "code",
   "execution_count": 1,
   "metadata": {},
   "outputs": [],
   "source": [
    "import warnings\n",
    "warnings.filterwarnings('ignore')"
   ]
  },
  {
   "cell_type": "code",
   "execution_count": 2,
   "metadata": {},
   "outputs": [],
   "source": [
    "import os\n",
    "import numpy as np\n",
    "import pandas as pd\n",
    "import matplotlib.pyplot as plt\n",
    "from tqdm import tqdm_notebook\n",
    "\n",
    "%matplotlib inline\n",
    "\n",
    "plt.style.use('ggplot')\n",
    "plt.rcParams['figure.figsize'] = (12, 6)"
   ]
  },
  {
   "cell_type": "code",
   "execution_count": 3,
   "metadata": {},
   "outputs": [],
   "source": [
    "filepath = './data/user_ratedmovies.dat'\n",
    "df_rates = pd.read_csv(filepath, sep='\\t')"
   ]
  },
  {
   "cell_type": "code",
   "execution_count": 4,
   "metadata": {},
   "outputs": [],
   "source": [
    "filepath = './data/movies.dat'\n",
    "df_movies = pd.read_csv(filepath, sep='\\t', encoding='iso-8859-1')"
   ]
  },
  {
   "cell_type": "markdown",
   "metadata": {},
   "source": [
    "# Перекодируем ID фильмов и пользователей"
   ]
  },
  {
   "cell_type": "code",
   "execution_count": 5,
   "metadata": {},
   "outputs": [],
   "source": [
    "from sklearn.preprocessing import LabelEncoder"
   ]
  },
  {
   "cell_type": "code",
   "execution_count": 6,
   "metadata": {},
   "outputs": [],
   "source": [
    "enc_user = LabelEncoder()\n",
    "enc_mov = LabelEncoder()"
   ]
  },
  {
   "cell_type": "code",
   "execution_count": 7,
   "metadata": {},
   "outputs": [
    {
     "data": {
      "text/plain": [
       "array([   75,    75,    75, ..., 71534, 71534, 71534])"
      ]
     },
     "execution_count": 7,
     "metadata": {},
     "output_type": "execute_result"
    }
   ],
   "source": [
    "df_rates.userID.values"
   ]
  },
  {
   "cell_type": "code",
   "execution_count": 8,
   "metadata": {},
   "outputs": [
    {
     "data": {
      "text/plain": [
       "array([    3,    32,   110, ..., 48516, 61075, 62049])"
      ]
     },
     "execution_count": 8,
     "metadata": {},
     "output_type": "execute_result"
    }
   ],
   "source": [
    "df_rates.movieID.values"
   ]
  },
  {
   "cell_type": "code",
   "execution_count": 9,
   "metadata": {},
   "outputs": [],
   "source": [
    "enc_user = enc_user.fit(df_rates.userID.values)\n",
    "enc_mov = enc_mov.fit(df_rates.movieID.values)"
   ]
  },
  {
   "cell_type": "code",
   "execution_count": 10,
   "metadata": {},
   "outputs": [
    {
     "data": {
      "text/html": [
       "<div>\n",
       "<style scoped>\n",
       "    .dataframe tbody tr th:only-of-type {\n",
       "        vertical-align: middle;\n",
       "    }\n",
       "\n",
       "    .dataframe tbody tr th {\n",
       "        vertical-align: top;\n",
       "    }\n",
       "\n",
       "    .dataframe thead th {\n",
       "        text-align: right;\n",
       "    }\n",
       "</style>\n",
       "<table border=\"1\" class=\"dataframe\">\n",
       "  <thead>\n",
       "    <tr style=\"text-align: right;\">\n",
       "      <th></th>\n",
       "      <th>userID</th>\n",
       "      <th>movieID</th>\n",
       "      <th>rating</th>\n",
       "      <th>date_day</th>\n",
       "      <th>date_month</th>\n",
       "      <th>date_year</th>\n",
       "      <th>date_hour</th>\n",
       "      <th>date_minute</th>\n",
       "      <th>date_second</th>\n",
       "    </tr>\n",
       "  </thead>\n",
       "  <tbody>\n",
       "    <tr>\n",
       "      <th>0</th>\n",
       "      <td>75</td>\n",
       "      <td>3</td>\n",
       "      <td>1.0</td>\n",
       "      <td>29</td>\n",
       "      <td>10</td>\n",
       "      <td>2006</td>\n",
       "      <td>23</td>\n",
       "      <td>17</td>\n",
       "      <td>16</td>\n",
       "    </tr>\n",
       "    <tr>\n",
       "      <th>1</th>\n",
       "      <td>75</td>\n",
       "      <td>32</td>\n",
       "      <td>4.5</td>\n",
       "      <td>29</td>\n",
       "      <td>10</td>\n",
       "      <td>2006</td>\n",
       "      <td>23</td>\n",
       "      <td>23</td>\n",
       "      <td>44</td>\n",
       "    </tr>\n",
       "    <tr>\n",
       "      <th>2</th>\n",
       "      <td>75</td>\n",
       "      <td>110</td>\n",
       "      <td>4.0</td>\n",
       "      <td>29</td>\n",
       "      <td>10</td>\n",
       "      <td>2006</td>\n",
       "      <td>23</td>\n",
       "      <td>30</td>\n",
       "      <td>8</td>\n",
       "    </tr>\n",
       "    <tr>\n",
       "      <th>3</th>\n",
       "      <td>75</td>\n",
       "      <td>160</td>\n",
       "      <td>2.0</td>\n",
       "      <td>29</td>\n",
       "      <td>10</td>\n",
       "      <td>2006</td>\n",
       "      <td>23</td>\n",
       "      <td>16</td>\n",
       "      <td>52</td>\n",
       "    </tr>\n",
       "    <tr>\n",
       "      <th>4</th>\n",
       "      <td>75</td>\n",
       "      <td>163</td>\n",
       "      <td>4.0</td>\n",
       "      <td>29</td>\n",
       "      <td>10</td>\n",
       "      <td>2006</td>\n",
       "      <td>23</td>\n",
       "      <td>29</td>\n",
       "      <td>30</td>\n",
       "    </tr>\n",
       "    <tr>\n",
       "      <th>...</th>\n",
       "      <td>...</td>\n",
       "      <td>...</td>\n",
       "      <td>...</td>\n",
       "      <td>...</td>\n",
       "      <td>...</td>\n",
       "      <td>...</td>\n",
       "      <td>...</td>\n",
       "      <td>...</td>\n",
       "      <td>...</td>\n",
       "    </tr>\n",
       "    <tr>\n",
       "      <th>855593</th>\n",
       "      <td>71534</td>\n",
       "      <td>44555</td>\n",
       "      <td>4.0</td>\n",
       "      <td>3</td>\n",
       "      <td>12</td>\n",
       "      <td>2007</td>\n",
       "      <td>3</td>\n",
       "      <td>5</td>\n",
       "      <td>38</td>\n",
       "    </tr>\n",
       "    <tr>\n",
       "      <th>855594</th>\n",
       "      <td>71534</td>\n",
       "      <td>46578</td>\n",
       "      <td>4.0</td>\n",
       "      <td>3</td>\n",
       "      <td>12</td>\n",
       "      <td>2007</td>\n",
       "      <td>2</td>\n",
       "      <td>56</td>\n",
       "      <td>44</td>\n",
       "    </tr>\n",
       "    <tr>\n",
       "      <th>855595</th>\n",
       "      <td>71534</td>\n",
       "      <td>48516</td>\n",
       "      <td>4.5</td>\n",
       "      <td>3</td>\n",
       "      <td>12</td>\n",
       "      <td>2007</td>\n",
       "      <td>2</td>\n",
       "      <td>53</td>\n",
       "      <td>46</td>\n",
       "    </tr>\n",
       "    <tr>\n",
       "      <th>855596</th>\n",
       "      <td>71534</td>\n",
       "      <td>61075</td>\n",
       "      <td>5.0</td>\n",
       "      <td>10</td>\n",
       "      <td>10</td>\n",
       "      <td>2008</td>\n",
       "      <td>9</td>\n",
       "      <td>56</td>\n",
       "      <td>5</td>\n",
       "    </tr>\n",
       "    <tr>\n",
       "      <th>855597</th>\n",
       "      <td>71534</td>\n",
       "      <td>62049</td>\n",
       "      <td>4.5</td>\n",
       "      <td>10</td>\n",
       "      <td>10</td>\n",
       "      <td>2008</td>\n",
       "      <td>9</td>\n",
       "      <td>58</td>\n",
       "      <td>10</td>\n",
       "    </tr>\n",
       "  </tbody>\n",
       "</table>\n",
       "<p>855598 rows × 9 columns</p>\n",
       "</div>"
      ],
      "text/plain": [
       "        userID  movieID  rating  date_day  date_month  date_year  date_hour  \\\n",
       "0           75        3     1.0        29          10       2006         23   \n",
       "1           75       32     4.5        29          10       2006         23   \n",
       "2           75      110     4.0        29          10       2006         23   \n",
       "3           75      160     2.0        29          10       2006         23   \n",
       "4           75      163     4.0        29          10       2006         23   \n",
       "...        ...      ...     ...       ...         ...        ...        ...   \n",
       "855593   71534    44555     4.0         3          12       2007          3   \n",
       "855594   71534    46578     4.0         3          12       2007          2   \n",
       "855595   71534    48516     4.5         3          12       2007          2   \n",
       "855596   71534    61075     5.0        10          10       2008          9   \n",
       "855597   71534    62049     4.5        10          10       2008          9   \n",
       "\n",
       "        date_minute  date_second  \n",
       "0                17           16  \n",
       "1                23           44  \n",
       "2                30            8  \n",
       "3                16           52  \n",
       "4                29           30  \n",
       "...             ...          ...  \n",
       "855593            5           38  \n",
       "855594           56           44  \n",
       "855595           53           46  \n",
       "855596           56            5  \n",
       "855597           58           10  \n",
       "\n",
       "[855598 rows x 9 columns]"
      ]
     },
     "execution_count": 10,
     "metadata": {},
     "output_type": "execute_result"
    }
   ],
   "source": [
    "df_rates"
   ]
  },
  {
   "cell_type": "code",
   "execution_count": 11,
   "metadata": {},
   "outputs": [
    {
     "data": {
      "text/plain": [
       "array([   75,    75,    75, ..., 71534, 71534, 71534])"
      ]
     },
     "execution_count": 11,
     "metadata": {},
     "output_type": "execute_result"
    }
   ],
   "source": [
    "df_rates.userID.values"
   ]
  },
  {
   "cell_type": "code",
   "execution_count": 12,
   "metadata": {},
   "outputs": [],
   "source": [
    "idx = df_movies.loc[:, 'id'].isin(df_rates.movieID)\n",
    "df_movies = df_movies.loc[idx]"
   ]
  },
  {
   "cell_type": "code",
   "execution_count": 13,
   "metadata": {},
   "outputs": [
    {
     "data": {
      "text/plain": [
       "0        True\n",
       "1        True\n",
       "2        True\n",
       "3        True\n",
       "4        True\n",
       "         ... \n",
       "10192    True\n",
       "10193    True\n",
       "10194    True\n",
       "10195    True\n",
       "10196    True\n",
       "Name: id, Length: 10197, dtype: bool"
      ]
     },
     "execution_count": 13,
     "metadata": {},
     "output_type": "execute_result"
    }
   ],
   "source": [
    "idx"
   ]
  },
  {
   "cell_type": "code",
   "execution_count": 14,
   "metadata": {},
   "outputs": [
    {
     "data": {
      "text/html": [
       "<div>\n",
       "<style scoped>\n",
       "    .dataframe tbody tr th:only-of-type {\n",
       "        vertical-align: middle;\n",
       "    }\n",
       "\n",
       "    .dataframe tbody tr th {\n",
       "        vertical-align: top;\n",
       "    }\n",
       "\n",
       "    .dataframe thead th {\n",
       "        text-align: right;\n",
       "    }\n",
       "</style>\n",
       "<table border=\"1\" class=\"dataframe\">\n",
       "  <thead>\n",
       "    <tr style=\"text-align: right;\">\n",
       "      <th></th>\n",
       "      <th>id</th>\n",
       "      <th>title</th>\n",
       "      <th>imdbID</th>\n",
       "      <th>spanishTitle</th>\n",
       "      <th>imdbPictureURL</th>\n",
       "      <th>year</th>\n",
       "      <th>rtID</th>\n",
       "      <th>rtAllCriticsRating</th>\n",
       "      <th>rtAllCriticsNumReviews</th>\n",
       "      <th>rtAllCriticsNumFresh</th>\n",
       "      <th>...</th>\n",
       "      <th>rtAllCriticsScore</th>\n",
       "      <th>rtTopCriticsRating</th>\n",
       "      <th>rtTopCriticsNumReviews</th>\n",
       "      <th>rtTopCriticsNumFresh</th>\n",
       "      <th>rtTopCriticsNumRotten</th>\n",
       "      <th>rtTopCriticsScore</th>\n",
       "      <th>rtAudienceRating</th>\n",
       "      <th>rtAudienceNumRatings</th>\n",
       "      <th>rtAudienceScore</th>\n",
       "      <th>rtPictureURL</th>\n",
       "    </tr>\n",
       "  </thead>\n",
       "  <tbody>\n",
       "    <tr>\n",
       "      <th>0</th>\n",
       "      <td>1</td>\n",
       "      <td>Toy story</td>\n",
       "      <td>114709</td>\n",
       "      <td>Toy story (juguetes)</td>\n",
       "      <td>http://ia.media-imdb.com/images/M/MV5BMTMwNDU0...</td>\n",
       "      <td>1995</td>\n",
       "      <td>toy_story</td>\n",
       "      <td>9</td>\n",
       "      <td>73</td>\n",
       "      <td>73</td>\n",
       "      <td>...</td>\n",
       "      <td>100</td>\n",
       "      <td>8.5</td>\n",
       "      <td>17</td>\n",
       "      <td>17</td>\n",
       "      <td>0</td>\n",
       "      <td>100</td>\n",
       "      <td>3.7</td>\n",
       "      <td>102338</td>\n",
       "      <td>81</td>\n",
       "      <td>http://content7.flixster.com/movie/10/93/63/10...</td>\n",
       "    </tr>\n",
       "    <tr>\n",
       "      <th>1</th>\n",
       "      <td>2</td>\n",
       "      <td>Jumanji</td>\n",
       "      <td>113497</td>\n",
       "      <td>Jumanji</td>\n",
       "      <td>http://ia.media-imdb.com/images/M/MV5BMzM5NjE1...</td>\n",
       "      <td>1995</td>\n",
       "      <td>1068044-jumanji</td>\n",
       "      <td>5.6</td>\n",
       "      <td>28</td>\n",
       "      <td>13</td>\n",
       "      <td>...</td>\n",
       "      <td>46</td>\n",
       "      <td>5.8</td>\n",
       "      <td>5</td>\n",
       "      <td>2</td>\n",
       "      <td>3</td>\n",
       "      <td>40</td>\n",
       "      <td>3.2</td>\n",
       "      <td>44587</td>\n",
       "      <td>61</td>\n",
       "      <td>http://content8.flixster.com/movie/56/79/73/56...</td>\n",
       "    </tr>\n",
       "    <tr>\n",
       "      <th>2</th>\n",
       "      <td>3</td>\n",
       "      <td>Grumpy Old Men</td>\n",
       "      <td>107050</td>\n",
       "      <td>Dos viejos gruñones</td>\n",
       "      <td>http://ia.media-imdb.com/images/M/MV5BMTI5MTgy...</td>\n",
       "      <td>1993</td>\n",
       "      <td>grumpy_old_men</td>\n",
       "      <td>5.9</td>\n",
       "      <td>36</td>\n",
       "      <td>24</td>\n",
       "      <td>...</td>\n",
       "      <td>66</td>\n",
       "      <td>7</td>\n",
       "      <td>6</td>\n",
       "      <td>5</td>\n",
       "      <td>1</td>\n",
       "      <td>83</td>\n",
       "      <td>3.2</td>\n",
       "      <td>10489</td>\n",
       "      <td>66</td>\n",
       "      <td>http://content6.flixster.com/movie/25/60/25602...</td>\n",
       "    </tr>\n",
       "    <tr>\n",
       "      <th>3</th>\n",
       "      <td>4</td>\n",
       "      <td>Waiting to Exhale</td>\n",
       "      <td>114885</td>\n",
       "      <td>Esperando un respiro</td>\n",
       "      <td>http://ia.media-imdb.com/images/M/MV5BMTczMTMy...</td>\n",
       "      <td>1995</td>\n",
       "      <td>waiting_to_exhale</td>\n",
       "      <td>5.6</td>\n",
       "      <td>25</td>\n",
       "      <td>14</td>\n",
       "      <td>...</td>\n",
       "      <td>56</td>\n",
       "      <td>5.5</td>\n",
       "      <td>11</td>\n",
       "      <td>5</td>\n",
       "      <td>6</td>\n",
       "      <td>45</td>\n",
       "      <td>3.3</td>\n",
       "      <td>5666</td>\n",
       "      <td>79</td>\n",
       "      <td>http://content9.flixster.com/movie/10/94/17/10...</td>\n",
       "    </tr>\n",
       "    <tr>\n",
       "      <th>4</th>\n",
       "      <td>5</td>\n",
       "      <td>Father of the Bride Part II</td>\n",
       "      <td>113041</td>\n",
       "      <td>Vuelve el padre de la novia (Ahora también abu...</td>\n",
       "      <td>http://ia.media-imdb.com/images/M/MV5BMTg1NDc2...</td>\n",
       "      <td>1995</td>\n",
       "      <td>father_of_the_bride_part_ii</td>\n",
       "      <td>5.3</td>\n",
       "      <td>19</td>\n",
       "      <td>9</td>\n",
       "      <td>...</td>\n",
       "      <td>47</td>\n",
       "      <td>5.4</td>\n",
       "      <td>5</td>\n",
       "      <td>1</td>\n",
       "      <td>4</td>\n",
       "      <td>20</td>\n",
       "      <td>3</td>\n",
       "      <td>13761</td>\n",
       "      <td>64</td>\n",
       "      <td>http://content8.flixster.com/movie/25/54/25542...</td>\n",
       "    </tr>\n",
       "    <tr>\n",
       "      <th>...</th>\n",
       "      <td>...</td>\n",
       "      <td>...</td>\n",
       "      <td>...</td>\n",
       "      <td>...</td>\n",
       "      <td>...</td>\n",
       "      <td>...</td>\n",
       "      <td>...</td>\n",
       "      <td>...</td>\n",
       "      <td>...</td>\n",
       "      <td>...</td>\n",
       "      <td>...</td>\n",
       "      <td>...</td>\n",
       "      <td>...</td>\n",
       "      <td>...</td>\n",
       "      <td>...</td>\n",
       "      <td>...</td>\n",
       "      <td>...</td>\n",
       "      <td>...</td>\n",
       "      <td>...</td>\n",
       "      <td>...</td>\n",
       "      <td>...</td>\n",
       "    </tr>\n",
       "    <tr>\n",
       "      <th>10192</th>\n",
       "      <td>65088</td>\n",
       "      <td>Bedtime Stories</td>\n",
       "      <td>960731</td>\n",
       "      <td>Más allá de los sueños</td>\n",
       "      <td>http://ia.media-imdb.com/images/M/MV5BMjA5Njk5...</td>\n",
       "      <td>2008</td>\n",
       "      <td>bedtime_stories</td>\n",
       "      <td>4.4</td>\n",
       "      <td>104</td>\n",
       "      <td>26</td>\n",
       "      <td>...</td>\n",
       "      <td>25</td>\n",
       "      <td>4.7</td>\n",
       "      <td>26</td>\n",
       "      <td>6</td>\n",
       "      <td>20</td>\n",
       "      <td>23</td>\n",
       "      <td>3.5</td>\n",
       "      <td>108877</td>\n",
       "      <td>63</td>\n",
       "      <td>http://content6.flixster.com/movie/10/94/33/10...</td>\n",
       "    </tr>\n",
       "    <tr>\n",
       "      <th>10193</th>\n",
       "      <td>65091</td>\n",
       "      <td>Manhattan Melodrama</td>\n",
       "      <td>25464</td>\n",
       "      <td>El enemigo público número 1</td>\n",
       "      <td>http://ia.media-imdb.com/images/M/MV5BMTUyODE3...</td>\n",
       "      <td>1934</td>\n",
       "      <td>manhattan_melodrama</td>\n",
       "      <td>7</td>\n",
       "      <td>12</td>\n",
       "      <td>10</td>\n",
       "      <td>...</td>\n",
       "      <td>83</td>\n",
       "      <td>0</td>\n",
       "      <td>4</td>\n",
       "      <td>2</td>\n",
       "      <td>2</td>\n",
       "      <td>50</td>\n",
       "      <td>3.7</td>\n",
       "      <td>344</td>\n",
       "      <td>71</td>\n",
       "      <td>http://content9.flixster.com/movie/66/44/64/66...</td>\n",
       "    </tr>\n",
       "    <tr>\n",
       "      <th>10194</th>\n",
       "      <td>65126</td>\n",
       "      <td>Choke</td>\n",
       "      <td>1024715</td>\n",
       "      <td>Choke</td>\n",
       "      <td>http://ia.media-imdb.com/images/M/MV5BMTMxMDI4...</td>\n",
       "      <td>2008</td>\n",
       "      <td>choke</td>\n",
       "      <td>5.6</td>\n",
       "      <td>135</td>\n",
       "      <td>73</td>\n",
       "      <td>...</td>\n",
       "      <td>54</td>\n",
       "      <td>4.9</td>\n",
       "      <td>26</td>\n",
       "      <td>8</td>\n",
       "      <td>18</td>\n",
       "      <td>30</td>\n",
       "      <td>3.3</td>\n",
       "      <td>13893</td>\n",
       "      <td>55</td>\n",
       "      <td>http://content6.flixster.com/movie/10/85/09/10...</td>\n",
       "    </tr>\n",
       "    <tr>\n",
       "      <th>10195</th>\n",
       "      <td>65130</td>\n",
       "      <td>Revolutionary Road</td>\n",
       "      <td>959337</td>\n",
       "      <td>Revolutionary Road</td>\n",
       "      <td>http://ia.media-imdb.com/images/M/MV5BMTI2MzY2...</td>\n",
       "      <td>2008</td>\n",
       "      <td>revolutionary_road</td>\n",
       "      <td>6.7</td>\n",
       "      <td>194</td>\n",
       "      <td>133</td>\n",
       "      <td>...</td>\n",
       "      <td>68</td>\n",
       "      <td>6.9</td>\n",
       "      <td>36</td>\n",
       "      <td>25</td>\n",
       "      <td>11</td>\n",
       "      <td>69</td>\n",
       "      <td>3.5</td>\n",
       "      <td>46044</td>\n",
       "      <td>70</td>\n",
       "      <td>http://content8.flixster.com/movie/10/88/40/10...</td>\n",
       "    </tr>\n",
       "    <tr>\n",
       "      <th>10196</th>\n",
       "      <td>65133</td>\n",
       "      <td>Blackadder Back &amp; Forth</td>\n",
       "      <td>212579</td>\n",
       "      <td>Blackadder Back &amp; Forth</td>\n",
       "      <td>http://ia.media-imdb.com/images/M/MV5BMjA5MjU4...</td>\n",
       "      <td>1999</td>\n",
       "      <td>blackadder-back-forth</td>\n",
       "      <td>0</td>\n",
       "      <td>0</td>\n",
       "      <td>0</td>\n",
       "      <td>...</td>\n",
       "      <td>0</td>\n",
       "      <td>0</td>\n",
       "      <td>0</td>\n",
       "      <td>0</td>\n",
       "      <td>0</td>\n",
       "      <td>0</td>\n",
       "      <td>0</td>\n",
       "      <td>0</td>\n",
       "      <td>0</td>\n",
       "      <td>http://content7.flixster.com/movie/34/10/69/34...</td>\n",
       "    </tr>\n",
       "  </tbody>\n",
       "</table>\n",
       "<p>10109 rows × 21 columns</p>\n",
       "</div>"
      ],
      "text/plain": [
       "          id                        title   imdbID  \\\n",
       "0          1                    Toy story   114709   \n",
       "1          2                      Jumanji   113497   \n",
       "2          3               Grumpy Old Men   107050   \n",
       "3          4            Waiting to Exhale   114885   \n",
       "4          5  Father of the Bride Part II   113041   \n",
       "...      ...                          ...      ...   \n",
       "10192  65088              Bedtime Stories   960731   \n",
       "10193  65091          Manhattan Melodrama    25464   \n",
       "10194  65126                        Choke  1024715   \n",
       "10195  65130           Revolutionary Road   959337   \n",
       "10196  65133      Blackadder Back & Forth   212579   \n",
       "\n",
       "                                            spanishTitle  \\\n",
       "0                                   Toy story (juguetes)   \n",
       "1                                                Jumanji   \n",
       "2                                    Dos viejos gruñones   \n",
       "3                                   Esperando un respiro   \n",
       "4      Vuelve el padre de la novia (Ahora también abu...   \n",
       "...                                                  ...   \n",
       "10192                             Más allá de los sueños   \n",
       "10193                        El enemigo público número 1   \n",
       "10194                                              Choke   \n",
       "10195                                 Revolutionary Road   \n",
       "10196                            Blackadder Back & Forth   \n",
       "\n",
       "                                          imdbPictureURL  year  \\\n",
       "0      http://ia.media-imdb.com/images/M/MV5BMTMwNDU0...  1995   \n",
       "1      http://ia.media-imdb.com/images/M/MV5BMzM5NjE1...  1995   \n",
       "2      http://ia.media-imdb.com/images/M/MV5BMTI5MTgy...  1993   \n",
       "3      http://ia.media-imdb.com/images/M/MV5BMTczMTMy...  1995   \n",
       "4      http://ia.media-imdb.com/images/M/MV5BMTg1NDc2...  1995   \n",
       "...                                                  ...   ...   \n",
       "10192  http://ia.media-imdb.com/images/M/MV5BMjA5Njk5...  2008   \n",
       "10193  http://ia.media-imdb.com/images/M/MV5BMTUyODE3...  1934   \n",
       "10194  http://ia.media-imdb.com/images/M/MV5BMTMxMDI4...  2008   \n",
       "10195  http://ia.media-imdb.com/images/M/MV5BMTI2MzY2...  2008   \n",
       "10196  http://ia.media-imdb.com/images/M/MV5BMjA5MjU4...  1999   \n",
       "\n",
       "                              rtID rtAllCriticsRating rtAllCriticsNumReviews  \\\n",
       "0                        toy_story                  9                     73   \n",
       "1                  1068044-jumanji                5.6                     28   \n",
       "2                   grumpy_old_men                5.9                     36   \n",
       "3                waiting_to_exhale                5.6                     25   \n",
       "4      father_of_the_bride_part_ii                5.3                     19   \n",
       "...                            ...                ...                    ...   \n",
       "10192              bedtime_stories                4.4                    104   \n",
       "10193          manhattan_melodrama                  7                     12   \n",
       "10194                        choke                5.6                    135   \n",
       "10195           revolutionary_road                6.7                    194   \n",
       "10196        blackadder-back-forth                  0                      0   \n",
       "\n",
       "      rtAllCriticsNumFresh  ... rtAllCriticsScore rtTopCriticsRating  \\\n",
       "0                       73  ...               100                8.5   \n",
       "1                       13  ...                46                5.8   \n",
       "2                       24  ...                66                  7   \n",
       "3                       14  ...                56                5.5   \n",
       "4                        9  ...                47                5.4   \n",
       "...                    ...  ...               ...                ...   \n",
       "10192                   26  ...                25                4.7   \n",
       "10193                   10  ...                83                  0   \n",
       "10194                   73  ...                54                4.9   \n",
       "10195                  133  ...                68                6.9   \n",
       "10196                    0  ...                 0                  0   \n",
       "\n",
       "      rtTopCriticsNumReviews rtTopCriticsNumFresh rtTopCriticsNumRotten  \\\n",
       "0                         17                   17                     0   \n",
       "1                          5                    2                     3   \n",
       "2                          6                    5                     1   \n",
       "3                         11                    5                     6   \n",
       "4                          5                    1                     4   \n",
       "...                      ...                  ...                   ...   \n",
       "10192                     26                    6                    20   \n",
       "10193                      4                    2                     2   \n",
       "10194                     26                    8                    18   \n",
       "10195                     36                   25                    11   \n",
       "10196                      0                    0                     0   \n",
       "\n",
       "      rtTopCriticsScore rtAudienceRating rtAudienceNumRatings rtAudienceScore  \\\n",
       "0                   100              3.7               102338              81   \n",
       "1                    40              3.2                44587              61   \n",
       "2                    83              3.2                10489              66   \n",
       "3                    45              3.3                 5666              79   \n",
       "4                    20                3                13761              64   \n",
       "...                 ...              ...                  ...             ...   \n",
       "10192                23              3.5               108877              63   \n",
       "10193                50              3.7                  344              71   \n",
       "10194                30              3.3                13893              55   \n",
       "10195                69              3.5                46044              70   \n",
       "10196                 0                0                    0               0   \n",
       "\n",
       "                                            rtPictureURL  \n",
       "0      http://content7.flixster.com/movie/10/93/63/10...  \n",
       "1      http://content8.flixster.com/movie/56/79/73/56...  \n",
       "2      http://content6.flixster.com/movie/25/60/25602...  \n",
       "3      http://content9.flixster.com/movie/10/94/17/10...  \n",
       "4      http://content8.flixster.com/movie/25/54/25542...  \n",
       "...                                                  ...  \n",
       "10192  http://content6.flixster.com/movie/10/94/33/10...  \n",
       "10193  http://content9.flixster.com/movie/66/44/64/66...  \n",
       "10194  http://content6.flixster.com/movie/10/85/09/10...  \n",
       "10195  http://content8.flixster.com/movie/10/88/40/10...  \n",
       "10196  http://content7.flixster.com/movie/34/10/69/34...  \n",
       "\n",
       "[10109 rows x 21 columns]"
      ]
     },
     "execution_count": 14,
     "metadata": {},
     "output_type": "execute_result"
    }
   ],
   "source": [
    "df_movies"
   ]
  },
  {
   "cell_type": "code",
   "execution_count": 15,
   "metadata": {},
   "outputs": [],
   "source": [
    "df_rates.loc[:, 'userID'] = enc_user.transform(df_rates.loc[:, 'userID'].values)\n",
    "df_rates.loc[:, 'movieID'] = enc_mov.transform(df_rates.loc[:, 'movieID'].values)\n",
    "df_movies.loc[:, 'id'] = enc_mov.transform(df_movies.loc[:, 'id'].values)"
   ]
  },
  {
   "cell_type": "markdown",
   "metadata": {},
   "source": [
    "## Матрица рейтингов"
   ]
  },
  {
   "cell_type": "code",
   "execution_count": 16,
   "metadata": {},
   "outputs": [],
   "source": [
    "from scipy.sparse import coo_matrix, csr_matrix"
   ]
  },
  {
   "cell_type": "code",
   "execution_count": 17,
   "metadata": {},
   "outputs": [],
   "source": [
    "R = coo_matrix((df_rates.rating.values, (df_rates.userID.values, df_rates.movieID.values)))"
   ]
  },
  {
   "cell_type": "code",
   "execution_count": 18,
   "metadata": {},
   "outputs": [
    {
     "data": {
      "text/plain": [
       "<2113x10109 sparse matrix of type '<class 'numpy.float64'>'\n",
       "\twith 855598 stored elements in COOrdinate format>"
      ]
     },
     "execution_count": 18,
     "metadata": {},
     "output_type": "execute_result"
    }
   ],
   "source": [
    "R"
   ]
  },
  {
   "cell_type": "markdown",
   "metadata": {},
   "source": [
    "## Похожесть между пользователями"
   ]
  },
  {
   "cell_type": "markdown",
   "metadata": {},
   "source": [
    "В дальнейшем нам будет удобнее работать с форматом `Compressed Sparse Row matrix`. К счастью переформатировать полученную нами матрицу можно одной командой:"
   ]
  },
  {
   "cell_type": "code",
   "execution_count": 19,
   "metadata": {
    "scrolled": true
   },
   "outputs": [],
   "source": [
    "R = R.tocsr()"
   ]
  },
  {
   "cell_type": "code",
   "execution_count": 20,
   "metadata": {},
   "outputs": [
    {
     "data": {
      "text/plain": [
       "<2113x10109 sparse matrix of type '<class 'numpy.float64'>'\n",
       "\twith 855598 stored elements in Compressed Sparse Row format>"
      ]
     },
     "execution_count": 20,
     "metadata": {},
     "output_type": "execute_result"
    }
   ],
   "source": [
    "R"
   ]
  },
  {
   "cell_type": "markdown",
   "metadata": {},
   "source": [
    "Теперь, например, рейтинги для первого пользователя можно достать так:"
   ]
  },
  {
   "cell_type": "code",
   "execution_count": 21,
   "metadata": {},
   "outputs": [
    {
     "data": {
      "text/plain": [
       "<1x10109 sparse matrix of type '<class 'numpy.float64'>'\n",
       "\twith 55 stored elements in Compressed Sparse Row format>"
      ]
     },
     "execution_count": 21,
     "metadata": {},
     "output_type": "execute_result"
    }
   ],
   "source": [
    "user_1 = R[0]\n",
    "user_1"
   ]
  },
  {
   "cell_type": "markdown",
   "metadata": {},
   "source": [
    "Так как вы возможно не работали с разреженным форматом матриц, устроим небольшой ликбез.\n",
    "\n",
    "Первым делом, надо понадобится вектор для другого пользователя:"
   ]
  },
  {
   "cell_type": "code",
   "execution_count": 22,
   "metadata": {},
   "outputs": [
    {
     "data": {
      "text/plain": [
       "<1x10109 sparse matrix of type '<class 'numpy.float64'>'\n",
       "\twith 468 stored elements in Compressed Sparse Row format>"
      ]
     },
     "execution_count": 22,
     "metadata": {},
     "output_type": "execute_result"
    }
   ],
   "source": [
    "user_2 = R[1]\n",
    "user_2"
   ]
  },
  {
   "cell_type": "markdown",
   "metadata": {},
   "source": [
    "Мы можем сравнивать элементы с 0"
   ]
  },
  {
   "cell_type": "code",
   "execution_count": 23,
   "metadata": {},
   "outputs": [
    {
     "data": {
      "text/plain": [
       "<1x10109 sparse matrix of type '<class 'numpy.bool_'>'\n",
       "\twith 55 stored elements in Compressed Sparse Row format>"
      ]
     },
     "execution_count": 23,
     "metadata": {},
     "output_type": "execute_result"
    }
   ],
   "source": [
    "user_1_rated = (user_1 != 0)\n",
    "user_1_rated"
   ]
  },
  {
   "cell_type": "markdown",
   "metadata": {},
   "source": [
    "Можем их \"индексировать\""
   ]
  },
  {
   "cell_type": "code",
   "execution_count": 24,
   "metadata": {},
   "outputs": [
    {
     "data": {
      "text/plain": [
       "matrix([[1. , 4.5, 4. , 2. , 4. , 4.5, 3.5, 5. , 3.5, 2. , 4. , 3. , 4.5,\n",
       "         0.5, 4.5, 4. , 3.5, 4.5, 4. , 2.5, 4. , 4. , 4. , 4.5, 2.5, 2. ,\n",
       "         1.5, 4. , 4. , 4.5, 3. , 3. , 4.5, 3.5, 4.5, 1.5, 3. , 3. , 3.5,\n",
       "         3.5, 3. , 2.5, 3.5, 4. , 0.5, 4. , 3.5, 4.5, 3.5, 4.5, 5. , 3.5,\n",
       "         3.5, 3.5, 4.5]])"
      ]
     },
     "execution_count": 24,
     "metadata": {},
     "output_type": "execute_result"
    }
   ],
   "source": [
    "user_1[user_1_rated]"
   ]
  },
  {
   "cell_type": "markdown",
   "metadata": {},
   "source": [
    "Можем считать количество ненулевых элементов"
   ]
  },
  {
   "cell_type": "code",
   "execution_count": 25,
   "metadata": {},
   "outputs": [
    {
     "data": {
      "text/plain": [
       "55"
      ]
     },
     "execution_count": 25,
     "metadata": {},
     "output_type": "execute_result"
    }
   ],
   "source": [
    "user_1.nnz"
   ]
  },
  {
   "cell_type": "markdown",
   "metadata": {},
   "source": [
    "Можем умножать 2 разреженных вектора поэлементно:"
   ]
  },
  {
   "cell_type": "code",
   "execution_count": 26,
   "metadata": {},
   "outputs": [
    {
     "data": {
      "text/plain": [
       "<1x10109 sparse matrix of type '<class 'numpy.float64'>'\n",
       "\twith 14 stored elements in Compressed Sparse Row format>"
      ]
     },
     "execution_count": 26,
     "metadata": {},
     "output_type": "execute_result"
    }
   ],
   "source": [
    "(user_1).multiply(user_2)"
   ]
  },
  {
   "cell_type": "markdown",
   "metadata": {},
   "source": [
    "и скалярно"
   ]
  },
  {
   "cell_type": "code",
   "execution_count": 27,
   "metadata": {},
   "outputs": [
    {
     "data": {
      "text/plain": [
       "<1x1 sparse matrix of type '<class 'numpy.float64'>'\n",
       "\twith 1 stored elements in Compressed Sparse Row format>"
      ]
     },
     "execution_count": 27,
     "metadata": {},
     "output_type": "execute_result"
    }
   ],
   "source": [
    "user_1.dot(user_2.T)"
   ]
  },
  {
   "cell_type": "code",
   "execution_count": 28,
   "metadata": {},
   "outputs": [
    {
     "data": {
      "text/plain": [
       "216.75"
      ]
     },
     "execution_count": 28,
     "metadata": {},
     "output_type": "execute_result"
    }
   ],
   "source": [
    "user_1.dot(user_2.T)[0, 0]"
   ]
  },
  {
   "cell_type": "markdown",
   "metadata": {},
   "source": [
    "И превращать разреженную матрицу (вектор) в плотную"
   ]
  },
  {
   "cell_type": "code",
   "execution_count": 29,
   "metadata": {},
   "outputs": [
    {
     "data": {
      "text/plain": [
       "array([[0., 0., 1., ..., 0., 0., 0.]])"
      ]
     },
     "execution_count": 29,
     "metadata": {},
     "output_type": "execute_result"
    }
   ],
   "source": [
    "user_1_dense = user_1.toarray()\n",
    "user_1_dense"
   ]
  },
  {
   "cell_type": "markdown",
   "metadata": {},
   "source": [
    "Этого ликбеза вам будет должно быть достаточно, чтобы реализовать функцию расчета похожести между парой пользователей $u$ и $v$:\n",
    "\n",
    "$$ s_{uv} = \\frac{\\sum\\limits_{i \\in I_u\\cap I_v} R_{ui} R_{vi}}{\\sqrt{{\\sum\\limits_{i \\in I_u\\cap I_v}R_{ui}^2}}\\sqrt{{\\sum\\limits_{i \\in I_u\\cap I_v}R_{vi}^2}}}$$\n",
    "\n",
    "Давайте будем считать, что если количество фильмов которые пользователь $u$ и $v$ посмотрели вместе $<= 2$, то их косинусная мера равна 0.0\n"
   ]
  },
  {
   "cell_type": "markdown",
   "metadata": {},
   "source": [
    "### _Решение_"
   ]
  },
  {
   "cell_type": "code",
   "execution_count": 30,
   "metadata": {},
   "outputs": [],
   "source": [
    "def cosine_similarity_pair_users(u, v):\n",
    "    rated_u = (u != 0)\n",
    "    rated_v = (v != 0)\n",
    "    common_items = (rated_u).multiply(rated_v)\n",
    "    if common_items.nnz > 2:\n",
    "        up = u.dot(v.T)[0, 0]\n",
    "        down1 = u.dot(u.T)[0, 0]\n",
    "        down2 = v.dot(v.T)[0, 0]\n",
    "        down1 = down1 ** 0.5\n",
    "        down2 = down2 ** 0.5\n",
    "        down = down1 * down2\n",
    "        s = up / down\n",
    "        return s\n",
    "    else:\n",
    "        return 0"
   ]
  },
  {
   "cell_type": "code",
   "execution_count": 31,
   "metadata": {},
   "outputs": [
    {
     "data": {
      "text/plain": [
       "0.17772036"
      ]
     },
     "execution_count": 31,
     "metadata": {},
     "output_type": "execute_result"
    }
   ],
   "source": [
    "round(cosine_similarity_pair_users(R[146], R[239]), 8)"
   ]
  },
  {
   "cell_type": "code",
   "execution_count": 32,
   "metadata": {},
   "outputs": [
    {
     "name": "stdout",
     "output_type": "stream",
     "text": [
      "[[0.17772036]]\n"
     ]
    }
   ],
   "source": [
    "from sklearn.metrics.pairwise import cosine_similarity\n",
    "\n",
    "print(cosine_similarity(R[146], R[239]))\n"
   ]
  },
  {
   "cell_type": "code",
   "execution_count": 33,
   "metadata": {},
   "outputs": [],
   "source": [
    "def cosine_similarity_pair_users(u, v):\n",
    "    u_rated = (u != 0)\n",
    "    v_rated = (v != 0)\n",
    "    common_items = (u_rated).multiply(v_rated)\n",
    "    if common_items.nnz > 2:\n",
    "        up = u.dot(v.T)[0, 0]\n",
    "        down = np.linalg.norm(u[common_items]) * np.linalg.norm(v[common_items])\n",
    "        return up / down\n",
    "    else:\n",
    "        return 0.0"
   ]
  },
  {
   "cell_type": "code",
   "execution_count": 34,
   "metadata": {},
   "outputs": [
    {
     "data": {
      "text/plain": [
       "0.9228878934866824"
      ]
     },
     "execution_count": 34,
     "metadata": {},
     "output_type": "execute_result"
    }
   ],
   "source": [
    "cosine_similarity_pair_users(R[146], R[239])"
   ]
  },
  {
   "cell_type": "code",
   "execution_count": 35,
   "metadata": {},
   "outputs": [
    {
     "name": "stdout",
     "output_type": "stream",
     "text": [
      "0.923\n"
     ]
    }
   ],
   "source": [
    "answer1 = round(cosine_similarity_pair_users(R[146], R[239]),3)\n",
    "print(answer1)"
   ]
  },
  {
   "cell_type": "markdown",
   "metadata": {},
   "source": [
    "Введите значение answer1 на странице https://www.coursera.org/learn/python-for-data-science/exam/fSPxW/sozdaniie-riekomiendatiel-noi-sistiemy"
   ]
  },
  {
   "cell_type": "markdown",
   "metadata": {},
   "source": [
    "## Функция нахождения пользователей, схожих с данным. "
   ]
  },
  {
   "cell_type": "markdown",
   "metadata": {},
   "source": [
    "Реализуйте функцию <font color = \"blue\">similar_users</font>(u, R, n_neigbours) которая принимает на входе\n",
    "* Индекс пользователя\n",
    "* Матрицу рейтингов\n",
    "* Количество ближайших соседей \n",
    "и возвращает отсортированный массив пользователей (сортировка по неубыванию), максимально похожих на данного. Для сортировки используйте np.argsort без параметров. (https://docs.scipy.org/doc/numpy/reference/generated/numpy.argsort.html) (Сам пользователь будет в этом списке на первом месте). Эту функцию вы сможете использовать далее. "
   ]
  },
  {
   "cell_type": "code",
   "execution_count": 36,
   "metadata": {},
   "outputs": [],
   "source": [
    "def similar_users(u, R, n_neigbours):\n",
    "    return [cosine_similarity_pair_users(R[u], R[x])\n",
    "                  for x in range(R.shape[0])]"
   ]
  },
  {
   "cell_type": "code",
   "execution_count": 37,
   "metadata": {},
   "outputs": [
    {
     "data": {
      "text/plain": [
       "[0.9763098382685473,\n",
       " 0.9812618624864466,\n",
       " 0.9936145992563616,\n",
       " 0.9605113957257359,\n",
       " 0.9628831495544733,\n",
       " 0.9166904540041484,\n",
       " 0.9625052521193127,\n",
       " 0.95625926439942,\n",
       " 0.9431394093994782,\n",
       " 0.978724470911071,\n",
       " 0.9801051972750358,\n",
       " 0.9756806575746247,\n",
       " 0.9816555652542659,\n",
       " 0.9724709325699408,\n",
       " 0.9727200749774173,\n",
       " 0.9861993375448909,\n",
       " 0.8837296772722445,\n",
       " 0.9797841073628432,\n",
       " 0.9601217501861145,\n",
       " 0.9757587185624222,\n",
       " 0.9658541321978608,\n",
       " 0.9558780972669719,\n",
       " 0.9365737677561641,\n",
       " 0.9752856867523659,\n",
       " 0.9601269121187832,\n",
       " 0.9613962936367306,\n",
       " 0.9685640873778264,\n",
       " 0.9739732885237145,\n",
       " 0.9524808261483962,\n",
       " 0.9808552017709151,\n",
       " 0.9644366093719039,\n",
       " 0.9780770267951381,\n",
       " 0.9734932197745109,\n",
       " 0.9754757433555121,\n",
       " 0.9820310254975614,\n",
       " 0.9709389483261317,\n",
       " 0.9773990374278256,\n",
       " 0.9702673465728662,\n",
       " 0.9727111038706799,\n",
       " 0.9420553381257555,\n",
       " 0.9563612943701708,\n",
       " 0.9658124326306499,\n",
       " 1.0000000000000002,\n",
       " 0.9543173311186227,\n",
       " 0.9778858220606851,\n",
       " 0.9819154090293745,\n",
       " 0.9170961412186058,\n",
       " 0.9645233661595558,\n",
       " 0.9649418225596111,\n",
       " 0.955854726756457,\n",
       " 0.9642641286502004,\n",
       " 0.9875078505014084,\n",
       " 0.9747248817214826,\n",
       " 0.9139551238580788,\n",
       " 0.9601380690670528,\n",
       " 0.9729923279793732,\n",
       " 0.9797404206678059,\n",
       " 0.9683519973188531,\n",
       " 0.9242437602397366,\n",
       " 0.9631762621262061,\n",
       " 0.9797416320297098,\n",
       " 0.9688719961032647,\n",
       " 0.9729494279559743,\n",
       " 0.9793296472415066,\n",
       " 0.9885436616944435,\n",
       " 0.9724085074979022,\n",
       " 0.9633850388092352,\n",
       " 0.9572427504151879,\n",
       " 0.9519537851368731,\n",
       " 0.9472198683314015,\n",
       " 0.9582879631366078,\n",
       " 0.9558714986911846,\n",
       " 0.9768949295160636,\n",
       " 0.9775688750411341,\n",
       " 0.9677737648446332,\n",
       " 0.9532105625864837,\n",
       " 0.9781731194853064,\n",
       " 0.9734574734739657,\n",
       " 0.9646177117245865,\n",
       " 0.9729260066382038,\n",
       " 0.9799612624469131,\n",
       " 0.9552144419234744,\n",
       " 0.982267326145424,\n",
       " 0.9752512713373849,\n",
       " 0.9693414169440536,\n",
       " 0.9699876103907947,\n",
       " 0.9802292265417198,\n",
       " 0.985151116415325,\n",
       " 0.9701162594108997,\n",
       " 0.9806112010744877,\n",
       " 0.9755414292206084,\n",
       " 0.9670586975649149,\n",
       " 0.9706946987865994,\n",
       " 0.9881723075792184,\n",
       " 0.9801949863388312,\n",
       " 0.9731496654857603,\n",
       " 0.9765114416469541,\n",
       " 0.9572601393430251,\n",
       " 0.9234688748397287,\n",
       " 0.9705338229228726,\n",
       " 0.9633963531177389,\n",
       " 0.9845177672415394,\n",
       " 0.9830243253787162,\n",
       " 0.9401142983755698,\n",
       " 0.9420532985396824,\n",
       " 0.9780101786935163,\n",
       " 0.9852357644414772,\n",
       " 0.9505381061320687,\n",
       " 0.9781099662424209,\n",
       " 0.9546690337662816,\n",
       " 0.934540610317884,\n",
       " 0.9742124106718067,\n",
       " 0.9631538767253933,\n",
       " 0.9730306790552498,\n",
       " 0.9646082474860869,\n",
       " 0.8401827374992418,\n",
       " 0.963248003674089,\n",
       " 0.9781884670271772,\n",
       " 0.9262007084795388,\n",
       " 0.985420533174407,\n",
       " 0.9412451192032615,\n",
       " 0.9792684259847106,\n",
       " 0.974736087003567,\n",
       " 0.9717532749419195,\n",
       " 0.9667130380315111,\n",
       " 0.9701655175101567,\n",
       " 0.9418116565011667,\n",
       " 0.9721205337133684,\n",
       " 0.9741322856185605,\n",
       " 0.9691099262021142,\n",
       " 0.9476931548198128,\n",
       " 0.9338079142467468,\n",
       " 0.9408999720749954,\n",
       " 0.9100435579485229,\n",
       " 0.969217286417456,\n",
       " 0.9761534707912507,\n",
       " 0.9683982340029809,\n",
       " 0.9825215170144279,\n",
       " 0.9642781576313668,\n",
       " 0.973657135876247,\n",
       " 0.977490951074395,\n",
       " 0.9693556383980187,\n",
       " 0.9634595782761677,\n",
       " 0.9525456066789743,\n",
       " 0.9716999619141145,\n",
       " 0.9251291310674581,\n",
       " 0.8987536065296987,\n",
       " 0.9406062936989347,\n",
       " 0.9666839609963387,\n",
       " 0.9676329950467405,\n",
       " 0.9748441432000063,\n",
       " 0.9650609262787376,\n",
       " 0.9922985586119046,\n",
       " 0.9567305273901375,\n",
       " 0.9422309068057501,\n",
       " 0.9710269215965129,\n",
       " 0.945524395836466,\n",
       " 0.9919808068665564,\n",
       " 0.9859281562686977,\n",
       " 0.9789290399974129,\n",
       " 0.9777386351490753,\n",
       " 0.9755371913191389,\n",
       " 0.970608220316205,\n",
       " 0.9380460452928637,\n",
       " 0.8628130732458795,\n",
       " 0.9311264585580353,\n",
       " 0.9745252412913462,\n",
       " 0.970937701371798,\n",
       " 0.9747290126198479,\n",
       " 0.9563921387994804,\n",
       " 0.9538321218702472,\n",
       " 0.9698102076246172,\n",
       " 0.9508955762266156,\n",
       " 0.965111688574033,\n",
       " 0.9491669338121357,\n",
       " 0.9829890615408161,\n",
       " 0.9268091060065449,\n",
       " 0.9550334349389953,\n",
       " 0.9828669127953279,\n",
       " 0.9486850988358073,\n",
       " 0.9750348759369768,\n",
       " 0.9707336273245751,\n",
       " 0.9623661473863495,\n",
       " 0.9593968967967034,\n",
       " 0.9772438654159303,\n",
       " 0.9852512766425363,\n",
       " 0.9704993077963551,\n",
       " 0.94100493462759,\n",
       " 0.9531360567618904,\n",
       " 0.9401507565866701,\n",
       " 0.9382720027926849,\n",
       " 0.97490978333236,\n",
       " 0.9709604440070905,\n",
       " 0.953906900332351,\n",
       " 0.9735391952252903,\n",
       " 0.9795116318187415,\n",
       " 0.9820112030431906,\n",
       " 0.9747958015465221,\n",
       " 0.9663295268952308,\n",
       " 0.9717581141156462,\n",
       " 0.9379738515338414,\n",
       " 0.9656041992229709,\n",
       " 0.9741119636094501,\n",
       " 0.9764033768154484,\n",
       " 0.9714128572623721,\n",
       " 0.9625707516063752,\n",
       " 0.9578155794125705,\n",
       " 0.9629641868955532,\n",
       " 0.9649319380907816,\n",
       " 0.9747408998789233,\n",
       " 0.9704799647822355,\n",
       " 0.9802483797352525,\n",
       " 0.9786553145178974,\n",
       " 0.9585270635427066,\n",
       " 0.9729555949652305,\n",
       " 0.9544633196916052,\n",
       " 0.9577670721613393,\n",
       " 0.8936476613814469,\n",
       " 0.9582838298415457,\n",
       " 0.9649128568472506,\n",
       " 0.9812487873213115,\n",
       " 0.9588796485878731,\n",
       " 0.9675139959491454,\n",
       " 0.989192256386179,\n",
       " 0.9549136006920933,\n",
       " 0.9785852271430111,\n",
       " 0.9624455174328533,\n",
       " 0.9571378737535035,\n",
       " 0.9350984389587189,\n",
       " 0.974168047808013,\n",
       " 0.9744056729966788,\n",
       " 0.9690606078167875,\n",
       " 0.9012922743215702,\n",
       " 0.9621347884280981,\n",
       " 0.9704470017942538,\n",
       " 0.9794931095077382,\n",
       " 0.965514780323123,\n",
       " 0.9578844832236318,\n",
       " 0.977707981365482,\n",
       " 0.9783313093530854,\n",
       " 0.8690381458551151,\n",
       " 0.9490581395543713,\n",
       " 0.9784298578049053,\n",
       " 0.9719966942686338,\n",
       " 0.9730329277657269,\n",
       " 0.9728477611931394,\n",
       " 0.939390800229555,\n",
       " 0.978067357889799,\n",
       " 0.978971116070193,\n",
       " 0.9092947747157906,\n",
       " 0.9642674102291177,\n",
       " 0.9710682894547018,\n",
       " 0.9722915628042704,\n",
       " 0.9552023719268333,\n",
       " 0.9729627961214438,\n",
       " 0.9733901477167686,\n",
       " 0.9456569012243965,\n",
       " 0.9616119932194503,\n",
       " 0.9699564100338695,\n",
       " 0.9834424305575322,\n",
       " 0.962110284964534,\n",
       " 0.9663828754240436,\n",
       " 0.9561937135891345,\n",
       " 0.9815317519554073,\n",
       " 0.9745149996028548,\n",
       " 0.9733741838815619,\n",
       " 0.9747175572754246,\n",
       " 0.8796863225668426,\n",
       " 0.959283216678264,\n",
       " 0.9804691173148999,\n",
       " 0.9849055511030237,\n",
       " 0.9404243853830887,\n",
       " 0.9765051270877408,\n",
       " 0.9816690044967565,\n",
       " 0.9797213261343612,\n",
       " 0.9766956671499615,\n",
       " 0.9752924161845014,\n",
       " 0.9652216019312984,\n",
       " 0.9689254588325602,\n",
       " 0.937005314889616,\n",
       " 0.9580703018112607,\n",
       " 0.9968640410822807,\n",
       " 0.9516385622964472,\n",
       " 0.9337035177606609,\n",
       " 0.9516398380621792,\n",
       " 0.9761439200635424,\n",
       " 0.9399864755395532,\n",
       " 0.9489179410751082,\n",
       " 0.9740813703500537,\n",
       " 0.9593255343154907,\n",
       " 0.9528761663039258,\n",
       " 0.9733152503849624,\n",
       " 0.8923880696087841,\n",
       " 0.8214366157299668,\n",
       " 0.9315829710781273,\n",
       " 0.9818043150468545,\n",
       " 0.9851739395609722,\n",
       " 0.9422561596341933,\n",
       " 0.9690866321761492,\n",
       " 0.9792317714231994,\n",
       " 0.9619639258429893,\n",
       " 0.9502474593859224,\n",
       " 0.9697812602785271,\n",
       " 0.9718558438720113,\n",
       " 0.9237765176619115,\n",
       " 0.9791133078598451,\n",
       " 0.9771490106994922,\n",
       " 0.9633603936540955,\n",
       " 0.9766108345307823,\n",
       " 0.9670453762650535,\n",
       " 0.964461956936502,\n",
       " 0.975433943343322,\n",
       " 0.9662805399531236,\n",
       " 0.9747135859571173,\n",
       " 0.9829850466409142,\n",
       " 0.9633942482779536,\n",
       " 0.973979927800428,\n",
       " 0.9508451696139041,\n",
       " 0.9739920034808887,\n",
       " 0.9557417786294791,\n",
       " 0.9802392636771398,\n",
       " 0.9834857742304443,\n",
       " 0.9604782138608594,\n",
       " 0.9734547629246664,\n",
       " 0.9735603055547978,\n",
       " 0.9557450289691427,\n",
       " 0.9860517656230269,\n",
       " 0.9501420354801119,\n",
       " 0.9751156111847884,\n",
       " 0.9733001387152688,\n",
       " 0.9651252993649287,\n",
       " 0.9785158371132899,\n",
       " 0.9653582073426324,\n",
       " 0.9690831456306338,\n",
       " 0.9625519104492222,\n",
       " 0.9756981096720455,\n",
       " 0.955903376436501,\n",
       " 0.9490116234134863,\n",
       " 0.9649741955155385,\n",
       " 0.97248915129398,\n",
       " 0.9669763260081192,\n",
       " 0.9309230315402157,\n",
       " 0.9503521740052664,\n",
       " 0.9710451122196321,\n",
       " 0.9342928398515757,\n",
       " 0.9824842186613607,\n",
       " 0.9605557324750472,\n",
       " 0.9837185194717203,\n",
       " 0.9758310238658038,\n",
       " 0.9769099003690542,\n",
       " 0.9783317121773522,\n",
       " 0.9818662254061223,\n",
       " 0.9644517493042338,\n",
       " 0.9732141873259931,\n",
       " 0.9808287037017184,\n",
       " 0.9907369244205816,\n",
       " 0.9727912724449119,\n",
       " 0.9832922161909702,\n",
       " 0.9777087121183101,\n",
       " 0.9614166941572359,\n",
       " 0.9770789264227987,\n",
       " 0.9636487204792371,\n",
       " 0.9670176187161919,\n",
       " 0.9802682569803468,\n",
       " 0.9852819038215951,\n",
       " 0.9759660407186701,\n",
       " 0.9775568026089444,\n",
       " 0.9627718614911851,\n",
       " 0.9280264295743502,\n",
       " 0.9765387683305013,\n",
       " 0.9773877823435608,\n",
       " 0.9696235870353913,\n",
       " 0.9818816517736337,\n",
       " 0.9790245552170288,\n",
       " 0.9523591503957314,\n",
       " 0.9729533787930152,\n",
       " 0.9753054422239762,\n",
       " 0.9789073539442315,\n",
       " 0.9368722036620096,\n",
       " 0.9317690675419998,\n",
       " 0.9775229014839624,\n",
       " 0.9687763338082852,\n",
       " 0.9338112561294449,\n",
       " 0.9839335390600479,\n",
       " 0.9503059999203788,\n",
       " 0.9749954948814448,\n",
       " 0.9319241978203622,\n",
       " 0.972761625229746,\n",
       " 0.9760306977366783,\n",
       " 0.9791676115223139,\n",
       " 0.9206798744664941,\n",
       " 0.9816986170189846,\n",
       " 0.9816703413491443,\n",
       " 0.9520924349692201,\n",
       " 0.9518400866718427,\n",
       " 0.9822325871056614,\n",
       " 0.889840204518554,\n",
       " 0.9608194598575573,\n",
       " 0.984008333995975,\n",
       " 0.960601102746191,\n",
       " 0.9807452324190898,\n",
       " 0.9157761963359325,\n",
       " 0.9298423947392991,\n",
       " 0.8553296884606038,\n",
       " 0.9656833180522373,\n",
       " 0.9690627579559107,\n",
       " 0.9473084164979628,\n",
       " 0.9366920646554392,\n",
       " 0.975724355434693,\n",
       " 0.9786725920333135,\n",
       " 0.9503169123724927,\n",
       " 0.9749289376457937,\n",
       " 0.9589304241474027,\n",
       " 0.0,\n",
       " 0.9705988007702994,\n",
       " 0.945655264031699,\n",
       " 0.9710048630676306,\n",
       " 0.9750473386609477,\n",
       " 0.9707903715877969,\n",
       " 0.9313068798352163,\n",
       " 0.9748389663233162,\n",
       " 0.9746193630321869,\n",
       " 0.9435404432987177,\n",
       " 0.9613614008517426,\n",
       " 0.9638289471544847,\n",
       " 0.9566004583162918,\n",
       " 0.9149599690402742,\n",
       " 0.8692212391481947,\n",
       " 0.9247334560885013,\n",
       " 0.9797418138158289,\n",
       " 0.9838656029896437,\n",
       " 0.9660993758717075,\n",
       " 0.9670299068386476,\n",
       " 0.9802387123762019,\n",
       " 0.9788109557448,\n",
       " 0.9534239390982069,\n",
       " 0.9769698369913241,\n",
       " 0.9688172120226429,\n",
       " 0.9719047475222776,\n",
       " 0.9925250664326825,\n",
       " 0.9352324656501063,\n",
       " 0.9592000842063138,\n",
       " 0.9737481070933867,\n",
       " 0.9519239247096327,\n",
       " 0.9699436861888534,\n",
       " 0.9573493157551054,\n",
       " 0.9192016931698417,\n",
       " 0.9774843827094563,\n",
       " 0.9686946325213253,\n",
       " 0.9758354692555034,\n",
       " 0.9783040962699584,\n",
       " 0.9797083364478683,\n",
       " 0.9666231416061123,\n",
       " 0.9569693863646983,\n",
       " 0.9479343594577684,\n",
       " 0.9497098776323437,\n",
       " 0.9691918991065411,\n",
       " 0.9806671501115759,\n",
       " 0.9650722958024629,\n",
       " 0.9821729339426515,\n",
       " 0.9661145087298445,\n",
       " 0.962634468278219,\n",
       " 0.9588508822039458,\n",
       " 0.9720506853525527,\n",
       " 0.9310194249233343,\n",
       " 0.9653179146848446,\n",
       " 0.972872708222719,\n",
       " 0.9604522405958527,\n",
       " 0.934791988484947,\n",
       " 0.966717355821492,\n",
       " 0.968948763720932,\n",
       " 0.9780597865257777,\n",
       " 0.9794407900231031,\n",
       " 0.9694204729455669,\n",
       " 0.9325375234375735,\n",
       " 0.958358765687419,\n",
       " 0.9684281487078301,\n",
       " 0.9750923640112166,\n",
       " 0.9762681971277581,\n",
       " 0.8960767134163675,\n",
       " 0.9584691344811331,\n",
       " 0.9412258178930584,\n",
       " 0.9750520409740482,\n",
       " 0.8161947895365527,\n",
       " 0.9699395952919315,\n",
       " 0.9824119013728686,\n",
       " 0.9832925867697969,\n",
       " 0.9838334670014391,\n",
       " 0.9616263496185261,\n",
       " 0.9608799005961428,\n",
       " 0.9828634911725505,\n",
       " 0.9874194182421265,\n",
       " 0.9575926703400067,\n",
       " 0.95306522677985,\n",
       " 0.9765605124178192,\n",
       " 0.9707709103828082,\n",
       " 0.9799201661364647,\n",
       " 0.964715219184934,\n",
       " 0.9406737637086372,\n",
       " 0.9821163419973912,\n",
       " 0.9723993084074968,\n",
       " 0.958545541486455,\n",
       " 0.9603896900713,\n",
       " 0.9771889371620676,\n",
       " 0.9702946330577181,\n",
       " 0.9322152223743315,\n",
       " 0.0,\n",
       " 0.9816201037855905,\n",
       " 0.9792173871657459,\n",
       " 0.9539923771643397,\n",
       " 0.9666598905517162,\n",
       " 0.9682101406894986,\n",
       " 0.990471605020727,\n",
       " 0.9846210457920979,\n",
       " 0.9465952033741025,\n",
       " 0.9483864665312338,\n",
       " 0.9846675025025591,\n",
       " 0.9826278743046594,\n",
       " 0.9785833935927034,\n",
       " 0.9733829543363298,\n",
       " 0.9641647501288908,\n",
       " 0.9751760523336402,\n",
       " 0.9697790642320745,\n",
       " 0.9620429040352139,\n",
       " 0.9229175835950951,\n",
       " 0.9409640391620636,\n",
       " 0.9835896814112098,\n",
       " 0.9704899667362575,\n",
       " 0.9644484112530012,\n",
       " 0.9646152945033234,\n",
       " 0.9784800743713984,\n",
       " 0.9534377080150545,\n",
       " 0.9454126408474678,\n",
       " 0.9628710070344528,\n",
       " 0.9590130958433604,\n",
       " 0.9817721640188531,\n",
       " 0.9736402478030886,\n",
       " 0.9815166907922491,\n",
       " 0.9521799638977654,\n",
       " 0.9747041129994146,\n",
       " 0.9793292799379724,\n",
       " 0.9788766155859262,\n",
       " 0.9774573677303874,\n",
       " 0.966271994498017,\n",
       " 0.9563955611458329,\n",
       " 0.9863145826676233,\n",
       " 0.9647154602494731,\n",
       " 0.9693424211818634,\n",
       " 0.975543466550669,\n",
       " 0.9887689527866208,\n",
       " 0.9731891236956316,\n",
       " 0.9763971910861576,\n",
       " 0.9716185061183328,\n",
       " 0.9806638499992728,\n",
       " 0.97622541494553,\n",
       " 0.95047224802828,\n",
       " 0.9565886548948023,\n",
       " 0.9692302295496545,\n",
       " 0.9823915721015137,\n",
       " 0.9748686963304173,\n",
       " 0.9861535491094183,\n",
       " 0.972383773813432,\n",
       " 0.9708931759233254,\n",
       " 0.9687999195815109,\n",
       " 0.9721137488542508,\n",
       " 0.9737801559098527,\n",
       " 0.9801018337445538,\n",
       " 0.9666219274029103,\n",
       " 0.972177735628036,\n",
       " 0.9768058015754637,\n",
       " 0.9318213279901286,\n",
       " 0.8921829931752392,\n",
       " 0.9749166643272856,\n",
       " 0.9775370194442038,\n",
       " 0.9496364037859322,\n",
       " 0.9820088649365224,\n",
       " 0.9696226262504768,\n",
       " 0.9652647985786798,\n",
       " 0.9668562013996503,\n",
       " 0.9736772499488149,\n",
       " 0.9647673753687256,\n",
       " 0.9622044024089227,\n",
       " 0.9579544417612379,\n",
       " 0.9849637138675366,\n",
       " 0.9868068395162148,\n",
       " 0.9815138272873728,\n",
       " 0.9710038764588557,\n",
       " 0.9732538956928074,\n",
       " 0.9680046139303756,\n",
       " 0.9709071171196244,\n",
       " 0.9722080069425221,\n",
       " 0.9833393052323487,\n",
       " 0.9331478675541985,\n",
       " 0.9626366638415772,\n",
       " 0.9840450005836658,\n",
       " 0.9791500848952396,\n",
       " 0.9801686266750046,\n",
       " 0.9443426990372997,\n",
       " 0.9528365368442664,\n",
       " 0.9812039297469943,\n",
       " 0.9649041952324787,\n",
       " 0.9754558699320202,\n",
       " 0.9706004065685649,\n",
       " 0.9776540781530985,\n",
       " 0.9791830767606495,\n",
       " 0.967712047646777,\n",
       " 0.9769187727028548,\n",
       " 0.9742145397200356,\n",
       " 0.9745208262847301,\n",
       " 0.9687118380782581,\n",
       " 0.9673029658159706,\n",
       " 0.9804418505053656,\n",
       " 0.9512293471217355,\n",
       " 0.9718845898111175,\n",
       " 0.9742430645899681,\n",
       " 0.9802708994147664,\n",
       " 0.978637080624197,\n",
       " 0.9551394812127851,\n",
       " 0.9652067142410018,\n",
       " 0.9752235739982614,\n",
       " 0.9933809269777035,\n",
       " 0.9726696579181063,\n",
       " 0.9570061678434963,\n",
       " 0.9730970553154482,\n",
       " 0.9764730081191555,\n",
       " 0.9828212743954515,\n",
       " 0.9786702499163885,\n",
       " 0.9844094860911465,\n",
       " 0.9016015725824562,\n",
       " 0.9806734207163985,\n",
       " 0.9223595753035004,\n",
       " 0.9804546650601857,\n",
       " 0.9742166972274966,\n",
       " 0.9960192126181785,\n",
       " 0.9724150948103396,\n",
       " 0.973527043019306,\n",
       " 0.0,\n",
       " 0.935584846080546,\n",
       " 0.9714971703965976,\n",
       " 0.9756056174119985,\n",
       " 0.9696623599589124,\n",
       " 0.9660610132701123,\n",
       " 0.9721854462550449,\n",
       " 0.9742967939900188,\n",
       " 0.9645684264442529,\n",
       " 0.9526441381759774,\n",
       " 0.9851400647405111,\n",
       " 0.9747900325260473,\n",
       " 0.9658533884257554,\n",
       " 0.9715239250557091,\n",
       " 0.9932974129346572,\n",
       " 0.9651225041945871,\n",
       " 0.9873489299155715,\n",
       " 0.981638573688427,\n",
       " 0.975596338545152,\n",
       " 0.9676363518590672,\n",
       " 0.980714790982089,\n",
       " 0.9112512043282083,\n",
       " 0.9001072925094498,\n",
       " 0.9691422739212862,\n",
       " 0.9703012233041,\n",
       " 0.9440960689282202,\n",
       " 0.9591683619688013,\n",
       " 0.9678816821046229,\n",
       " 0.966743192507004,\n",
       " 0.9735335222580197,\n",
       " 0.9692882358075359,\n",
       " 0.96657155818885,\n",
       " 0.9708510322485127,\n",
       " 0.9729132149092959,\n",
       " 0.9674336218440419,\n",
       " 0.9857441592917299,\n",
       " 0.9674896208380567,\n",
       " 0.9838661578286627,\n",
       " 0.9614735227645551,\n",
       " 0.9161755020690779,\n",
       " 0.986597865372829,\n",
       " 0.9824039364295107,\n",
       " 0.9618390558148232,\n",
       " 0.9523079739793299,\n",
       " 0.9710269608223292,\n",
       " 0.9727438651197079,\n",
       " 0.9629925503396547,\n",
       " 0.9616840913905453,\n",
       " 0.9788664113828774,\n",
       " 0.9624510620270693,\n",
       " 0.9692597997607498,\n",
       " 0.9775812226215114,\n",
       " 0.9669958603740159,\n",
       " 0.9755155126721039,\n",
       " 0.9650143408943369,\n",
       " 0.9763629527704314,\n",
       " 0.9588264291190497,\n",
       " 0.9699707465042847,\n",
       " 0.9565259407545726,\n",
       " 0.9684771199501194,\n",
       " 0.9589357331623807,\n",
       " 0.9712537770054778,\n",
       " 0.9687576604720273,\n",
       " 0.978407197245472,\n",
       " 0.9822257635983491,\n",
       " 0.975447599003381,\n",
       " 0.9569207112575929,\n",
       " 0.9715595559593004,\n",
       " 0.985879897754457,\n",
       " 0.9666885538492888,\n",
       " 0.966324186802033,\n",
       " 0.9723220824113055,\n",
       " 0.9731543779792522,\n",
       " 0.9658039232970794,\n",
       " 0.9725237552175292,\n",
       " 0.9773543135190746,\n",
       " 0.9767292609914284,\n",
       " 0.9812597757159357,\n",
       " 0.9629900367318481,\n",
       " 0.9722096188162155,\n",
       " 0.9529413018973536,\n",
       " 0.9836667537907489,\n",
       " 0.9594643846124804,\n",
       " 0.9776917880932356,\n",
       " 0.9807212001378715,\n",
       " 0.9760377565489037,\n",
       " 0.9689342777667668,\n",
       " 0.9608903515496059,\n",
       " 0.9959100033104787,\n",
       " 0.9771998240510451,\n",
       " 0.9819927379958258,\n",
       " 0.9791322110868846,\n",
       " 0.9785335759708724,\n",
       " 0.9740948237623746,\n",
       " 0.959555616556278,\n",
       " 0.9404822936708278,\n",
       " 0.9560625408318393,\n",
       " 0.9718862216616894,\n",
       " 0.9670559527751057,\n",
       " 0.9772423980958161,\n",
       " 0.9791961151518525,\n",
       " 0.9523999884221326,\n",
       " 0.9549499256031933,\n",
       " 0.9521680649637647,\n",
       " 0.9754364325696584,\n",
       " 0.9728667885093698,\n",
       " 0.9605265458666239,\n",
       " 0.9659757513356224,\n",
       " 0.961189896378267,\n",
       " 0.955105791062653,\n",
       " 0.9031840361434935,\n",
       " 0.9750459547778038,\n",
       " 0.9593690096655659,\n",
       " 0.91758938488558,\n",
       " 0.9470943236406854,\n",
       " 0.9613877303960245,\n",
       " 0.9848689761936865,\n",
       " 0.9764370930143098,\n",
       " 0.9773126787475248,\n",
       " 0.9814268519557091,\n",
       " 0.9427494335582544,\n",
       " 0.886504646977234,\n",
       " 0.9199780956749016,\n",
       " 0.8980708483290496,\n",
       " 0.9769164113305129,\n",
       " 0.9706209472411017,\n",
       " 0.9563653929504592,\n",
       " 0.9655479017721325,\n",
       " 0.9722196196147146,\n",
       " 0.9758524004194824,\n",
       " 0.9779722658379792,\n",
       " 0.9683757865146068,\n",
       " 0.9666078109214776,\n",
       " 0.9582048952223604,\n",
       " 0.9753393295159148,\n",
       " 0.9472585318034301,\n",
       " 0.9441187601422527,\n",
       " 0.970434391117724,\n",
       " 0.9641206966731076,\n",
       " 0.9724824595303645,\n",
       " 0.9488608262304339,\n",
       " 0.9732879334595477,\n",
       " 0.9768717046091039,\n",
       " 0.919128949208926,\n",
       " 0.9562618511558519,\n",
       " 0.9685694461239833,\n",
       " 0.9772721260431079,\n",
       " 0.9731893314616932,\n",
       " 0.9727201875535109,\n",
       " 0.987272791440763,\n",
       " 0.9481901026776305,\n",
       " 0.9763886012491321,\n",
       " 0.9591009840415311,\n",
       " 0.9411260311114985,\n",
       " 0.9926738940125374,\n",
       " 0.9419653015589757,\n",
       " 0.9322301299899138,\n",
       " 0.9504005633507475,\n",
       " 0.9305188982131436,\n",
       " 0.9804168418437553,\n",
       " 0.9717619778997884,\n",
       " 0.9643962938079509,\n",
       " 0.9630813753799232,\n",
       " 0.9318805522976796,\n",
       " 0.930552818797181,\n",
       " 0.9662617343938003,\n",
       " 0.9782110144368595,\n",
       " 0.984677833194622,\n",
       " 0.9393859192628928,\n",
       " 0.9816608570872047,\n",
       " 0.9817383417556557,\n",
       " 0.9711908320009105,\n",
       " 0.9653620928090839,\n",
       " 0.9567789813951698,\n",
       " 0.8616090735523703,\n",
       " 0.9663478039059175,\n",
       " 0.9212579892048218,\n",
       " 0.9702267947840217,\n",
       " 0.9755790029918506,\n",
       " 0.9958705948858224,\n",
       " 0.9700236853389141,\n",
       " 0.9744051552592267,\n",
       " 0.9771663906520196,\n",
       " 0.9713738532149166,\n",
       " 0.9784441879091856,\n",
       " 0.9122406352054891,\n",
       " 0.9504874551070795,\n",
       " 0.9352887560904909,\n",
       " 0.9610783231702633,\n",
       " 0.9691107669883311,\n",
       " 0.9855180123203575,\n",
       " 0.9550839990078771,\n",
       " 0.9823442669447264,\n",
       " 0.9842074678313704,\n",
       " 0.9664693876208023,\n",
       " 0.9602973430596577,\n",
       " 0.9710053566620566,\n",
       " 0.9691143539626537,\n",
       " 0.9378485802017539,\n",
       " 0.9851009396095054,\n",
       " 0.9599456850620209,\n",
       " 0.9663418964618277,\n",
       " 0.9847821679779476,\n",
       " 0.9751579818901097,\n",
       " 0.9736225545800972,\n",
       " 0.9670776038395665,\n",
       " 0.980420025044454,\n",
       " 0.9402575744127922,\n",
       " 0.9704950049649729,\n",
       " 0.9724046153283868,\n",
       " 0.9754818978391259,\n",
       " 0.9778533476008182,\n",
       " 0.9725765732644486,\n",
       " 0.9819099269337598,\n",
       " 0.8753820217728148,\n",
       " 0.9377598076049598,\n",
       " 0.9634802771207029,\n",
       " 0.9699550912339863,\n",
       " 0.9460744779102725,\n",
       " 0.9749105059353587,\n",
       " 0.9640515398222207,\n",
       " 0.9297669829352486,\n",
       " 0.9688875136725889,\n",
       " 0.981245638455099,\n",
       " 0.9520896191000461,\n",
       " 0.980873987596694,\n",
       " 0.9683047273398689,\n",
       " 0.9635012993621694,\n",
       " 0.9553070457995276,\n",
       " 0.9435813795435607,\n",
       " 0.9546734855609236,\n",
       " 0.9795269094281353,\n",
       " 0.9579522641029461,\n",
       " 0.9569891226641841,\n",
       " 0.9786406860717765,\n",
       " 0.9775228151997921,\n",
       " 0.9394263349809538,\n",
       " 0.9381113072982107,\n",
       " 0.8333531912527595,\n",
       " 0.9767141540855669,\n",
       " 0.9689432003873331,\n",
       " 0.9747175620891829,\n",
       " 0.9076554250244053,\n",
       " 0.9592704660338969,\n",
       " 0.9486999930993331,\n",
       " 0.9589542314755176,\n",
       " 0.9639638050479796,\n",
       " 0.9484612585163928,\n",
       " 0.9634252246372157,\n",
       " 0.9532819289322034,\n",
       " 0.9801263106198452,\n",
       " 0.9577053415909758,\n",
       " 0.9622244939179665,\n",
       " 0.9728319665423044,\n",
       " 0.9599373038331898,\n",
       " 0.9652011601626659,\n",
       " 0.9753506459344107,\n",
       " 0.9727824501873111,\n",
       " 0.9806820984119368,\n",
       " 0.9151356556930164,\n",
       " 0.969926284201801,\n",
       " 0.9681674532063022,\n",
       " 0.9825167008768906,\n",
       " 0.9191373784392873,\n",
       " 0.9286875217679279,\n",
       " 0.9567979085498057,\n",
       " 0.974094111412852,\n",
       " 0.9799253837488614,\n",
       " 0.947265926794851,\n",
       " 0.9762883205859368,\n",
       " 0.9881063821805773,\n",
       " 0.9749664057306233,\n",
       " 0.9679435782104185,\n",
       " 0.9471773447553193,\n",
       " 0.9222974147635682,\n",
       " 0.9684009123493107,\n",
       " 0.9429344366271913,\n",
       " 0.9576842369432366,\n",
       " 0.9573830643664827,\n",
       " 0.9793045519426983,\n",
       " 0.966873151184234,\n",
       " 0.9390241783347978,\n",
       " 0.9756913305685913,\n",
       " 0.9683342040122062,\n",
       " 0.9620738475788359,\n",
       " 0.9731399147371823,\n",
       " 0.9709648293592114,\n",
       " 0.9735131991447266,\n",
       " 0.9432299709988609,\n",
       " 0.9661819940798508,\n",
       " 0.9753859414861894,\n",
       " 0.955559800578651,\n",
       " 0.9500192498737369,\n",
       " 0.665449561161702,\n",
       " 0.942454826570461,\n",
       " 0.9723168558353353,\n",
       " 0.9582509934753254,\n",
       " 0.9750244704081564,\n",
       " 0.9814691136167848,\n",
       " 0.9722888375928418,\n",
       " 0.9825627616552371,\n",
       " 0.9780815053916894,\n",
       " 0.9681233025620041,\n",
       " 0.9595688876122959,\n",
       " 0.9720276442337489,\n",
       " 0.9157821284826962,\n",
       " 0.9770286575946385,\n",
       " 0.9571693904352825,\n",
       " 0.9621846441548051,\n",
       " 0.9723538350006682,\n",
       " 0.9384195616451504,\n",
       " 0.9515613704095013,\n",
       " 0.9685048313490987,\n",
       " 0.9326733179802504,\n",
       " 0.9332894178027856,\n",
       " 0.9658131110434471,\n",
       " 0.9362572261227531,\n",
       " 0.9780871217778543,\n",
       " 0.9754320517712249,\n",
       " 0.9688600395775462,\n",
       " 0.955956651367723,\n",
       " 0.9499487975377039,\n",
       " 0.963150481170436,\n",
       " 0.9730363254592691,\n",
       " 0.9771933018498526,\n",
       " 0.9511383218055974,\n",
       " 0.919496557674452,\n",
       " 0.9780743818542077,\n",
       " 0.9692143496580976,\n",
       " 0.9283478709010112,\n",
       " 0.965889202312072,\n",
       " 0.9654681459097144,\n",
       " 0.9568754951535952,\n",
       " 0.9811218902766974,\n",
       " 0.9646375680487358,\n",
       " 0.9802864614845861,\n",
       " 0.9785364437158831,\n",
       " 0.9718364867091666,\n",
       " 0.9677318081570677,\n",
       " 0.9656905400538488,\n",
       " 0.9225231973900047,\n",
       " 0.9804728181782969,\n",
       " 0.98351610637938,\n",
       " 0.974022716777526,\n",
       " 0.9521142653903507,\n",
       " 0.9728422109991434,\n",
       " 0.9552958614575922,\n",
       " 0.9196057602446015,\n",
       " 0.9595554092506031,\n",
       " 0.9912600807352865,\n",
       " 0.9764138904143654,\n",
       " 0.9819328719633259,\n",
       " 0.9731583170194105,\n",
       " 0.9457514296531165,\n",
       " 0.9741545082083106,\n",
       " 0.9672811753204174,\n",
       " 0.955784466841933,\n",
       " 0.9702942777063709,\n",
       " 0.9825609760074251,\n",
       " 0.9634142134335716,\n",
       " 0.9776485961862624,\n",
       " 0.9663471396606619,\n",
       " 0.9386062189531108,\n",
       " 0.9471399302086217,\n",
       " ...]"
      ]
     },
     "execution_count": 37,
     "metadata": {},
     "output_type": "execute_result"
    }
   ],
   "source": [
    "g = similar_users(42, R, 10)\n",
    "g"
   ]
  },
  {
   "cell_type": "code",
   "execution_count": 38,
   "metadata": {},
   "outputs": [
    {
     "data": {
      "text/plain": [
       "[1.0000000000000002,\n",
       " 0.9968640410822807,\n",
       " 0.9960192126181785,\n",
       " 0.9959100033104787,\n",
       " 0.9958705948858224,\n",
       " 0.9936145992563616,\n",
       " 0.9933809269777035,\n",
       " 0.9932974129346572,\n",
       " 0.9929666136638231]"
      ]
     },
     "execution_count": 38,
     "metadata": {},
     "output_type": "execute_result"
    }
   ],
   "source": [
    "g.sort()\n",
    "g[:-10:-1]"
   ]
  },
  {
   "cell_type": "code",
   "execution_count": 39,
   "metadata": {},
   "outputs": [],
   "source": [
    "def similar_users(u, R, n_neigbours):\n",
    "    return np.argsort([cosine_similarity_pair_users(R[u], R[x])\n",
    "                  for x in range(R.shape[0])])[:-n_neigbours:-1]"
   ]
  },
  {
   "cell_type": "code",
   "execution_count": 40,
   "metadata": {},
   "outputs": [
    {
     "data": {
      "text/plain": [
       "array([  42,  281,  633,  724,  815,    2,  620,  650, 1692])"
      ]
     },
     "execution_count": 40,
     "metadata": {},
     "output_type": "execute_result"
    }
   ],
   "source": [
    "s=similar_users(42, R, 10)\n",
    "s"
   ]
  },
  {
   "cell_type": "code",
   "execution_count": 41,
   "metadata": {},
   "outputs": [],
   "source": [
    "answer2 = np.array2string(similar_users(42, R, 10)).replace(' ','').replace('[','').replace(']','')"
   ]
  },
  {
   "cell_type": "code",
   "execution_count": 42,
   "metadata": {},
   "outputs": [
    {
     "data": {
      "text/plain": [
       "25"
      ]
     },
     "execution_count": 42,
     "metadata": {},
     "output_type": "execute_result"
    }
   ],
   "source": [
    "len(answer2)"
   ]
  },
  {
   "cell_type": "code",
   "execution_count": 43,
   "metadata": {},
   "outputs": [
    {
     "data": {
      "text/plain": [
       "'4228163372481526206501692'"
      ]
     },
     "execution_count": 43,
     "metadata": {},
     "output_type": "execute_result"
    }
   ],
   "source": [
    "answer2"
   ]
  },
  {
   "cell_type": "markdown",
   "metadata": {},
   "source": [
    "Введите значение answer2 без кавычек  на странице https://www.coursera.org/learn/python-for-data-science/exam/fSPxW/sozdaniie-riekomiendatiel-noi-sistiemy. Это будет строка из 29 символов, которая начинается на 42."
   ]
  },
  {
   "cell_type": "markdown",
   "metadata": {},
   "source": [
    "## Функция прогнозирования рейтинга"
   ]
  },
  {
   "cell_type": "markdown",
   "metadata": {},
   "source": [
    "Реализуйте функцию <font color = \"blue\">rate_items_user</font>(u, R, n_neigbours), которая принимает на входе:\n",
    "* Индекс пользователя\n",
    "* Матрицу рейтингов\n",
    "* Количество ближайших соседей <font color = \"red\">(Теперь обратите внимание, несмотря на то, что каждый пользователь - ближайший сосед самому себе, в расчетах он использоваться не должен)</font>\n",
    "\n",
    "и возвращает вектор с предсказанными рейтингами по всем фильмам для этого пользователя\n",
    "\n",
    "Для того, чтобы считать прогноз по рейтингу мы воспользуемся упрощенной формулой из лекции:\n",
    "\n",
    "$$ \\hat{R}_{ui} = \\frac{\\sum_{v \\in N(u)} s_{uv}R_{vi}}{\\sum_{v \\in N(u)} \\left| s_{uv}\\right|} $$\n"
   ]
  },
  {
   "cell_type": "markdown",
   "metadata": {},
   "source": [
    "### _Решение_"
   ]
  },
  {
   "cell_type": "code",
   "execution_count": 44,
   "metadata": {},
   "outputs": [],
   "source": [
    "def rate_items_user(u, R, n_neigbours):\n",
    "    predictions = csr_matrix((1, R.shape[1]))\n",
    "    s_uv = np.array([cosine_similarity_pair_users(R[u], R[i]) for i in range(R.shape[0])]) # все косинусные меры до ближайщих соседей\n",
    "    similar_users = np.argsort(s_uv)[::-1]\n",
    "    znam = 0\n",
    "    for v in similar_users[: n_neigbours]:\n",
    "        if v != u:\n",
    "            predictions += s_uv[v] * R[v]\n",
    "            znam += abs(s_uv[v])\n",
    "    return (predictions / znam)"
   ]
  },
  {
   "cell_type": "markdown",
   "metadata": {},
   "source": [
    "В качестве ответа к этому заданию верните 5 идентификаторов фильмов с наивысшим предсказанным рейтингом для пользователя с id 19 (20-я строчка в матрице рейтингов).\n",
    "\n",
    "* Для усреднения используйте 30 ближайших соседей\n",
    "* Среди этих 5-и фильмов не должно быть ранее просмотренных фильмов\n",
    "\n",
    "Т.е. предсказанные рейтинги можно получить так:\n",
    "R_hat = <font color = \"blue\">rate_items_user</font>(20, R, n_neigbours=30). При сортировке фильмов по рейтингу используйте функцию <font color = \"blue\">argsort </font> без параметров."
   ]
  },
  {
   "cell_type": "markdown",
   "metadata": {},
   "source": [
    "### _Решение_"
   ]
  },
  {
   "cell_type": "code",
   "execution_count": 45,
   "metadata": {},
   "outputs": [
    {
     "data": {
      "text/plain": [
       "<1x10109 sparse matrix of type '<class 'numpy.bool_'>'\n",
       "\twith 10076 stored elements in Compressed Sparse Row format>"
      ]
     },
     "execution_count": 45,
     "metadata": {},
     "output_type": "execute_result"
    }
   ],
   "source": [
    "rated_items = (R[20] == 0)\n",
    "rated_items"
   ]
  },
  {
   "cell_type": "code",
   "execution_count": 46,
   "metadata": {},
   "outputs": [],
   "source": [
    "R_hat = rate_items_user(20, R, n_neigbours=30)"
   ]
  },
  {
   "cell_type": "code",
   "execution_count": 47,
   "metadata": {},
   "outputs": [
    {
     "data": {
      "text/plain": [
       "<1x10109 sparse matrix of type '<class 'numpy.float64'>'\n",
       "\twith 1437 stored elements in Compressed Sparse Row format>"
      ]
     },
     "execution_count": 47,
     "metadata": {},
     "output_type": "execute_result"
    }
   ],
   "source": [
    "unseen_ratings = R_hat.multiply(rated_items)\n",
    "unseen_ratings"
   ]
  },
  {
   "cell_type": "code",
   "execution_count": 48,
   "metadata": {},
   "outputs": [
    {
     "data": {
      "text/plain": [
       "array([1.08599581, 0.58590957, 0.10334154, ..., 0.        , 0.        ,\n",
       "       0.        ])"
      ]
     },
     "execution_count": 48,
     "metadata": {},
     "output_type": "execute_result"
    }
   ],
   "source": [
    "unseen_ratings = unseen_ratings.toarray()[0]\n",
    "unseen_ratings"
   ]
  },
  {
   "cell_type": "code",
   "execution_count": 49,
   "metadata": {},
   "outputs": [],
   "source": [
    "idxTop = unseen_ratings.argsort()[::-1]"
   ]
  },
  {
   "cell_type": "code",
   "execution_count": 50,
   "metadata": {},
   "outputs": [
    {
     "data": {
      "text/plain": [
       "array([2.5174164 , 2.24147475, 2.15522858, ..., 0.        , 0.        ,\n",
       "       0.        ])"
      ]
     },
     "execution_count": 50,
     "metadata": {},
     "output_type": "execute_result"
    }
   ],
   "source": [
    "unseen_ratings[idxTop]"
   ]
  },
  {
   "cell_type": "code",
   "execution_count": 51,
   "metadata": {},
   "outputs": [],
   "source": [
    "top5 = idxTop[:5]"
   ]
  },
  {
   "cell_type": "markdown",
   "metadata": {},
   "source": [
    "## Генерация ответа"
   ]
  },
  {
   "cell_type": "code",
   "execution_count": 52,
   "metadata": {},
   "outputs": [],
   "source": [
    "answer3 = ', '.join(str(i) for i in top5)"
   ]
  },
  {
   "cell_type": "code",
   "execution_count": 53,
   "metadata": {},
   "outputs": [
    {
     "data": {
      "text/plain": [
       "'2614, 306, 343, 5573, 6720'"
      ]
     },
     "execution_count": 53,
     "metadata": {},
     "output_type": "execute_result"
    }
   ],
   "source": [
    "answer3"
   ]
  },
  {
   "cell_type": "markdown",
   "metadata": {},
   "source": [
    "Полученную строку введите на странице https://www.coursera.org/learn/python-for-data-science/exam/fSPxW/sozdaniie-riekomiendatiel-noi-sistiemy Формат ответа - строка вида \"X, X, X, X, X\", где X - идентификаторы. Вводить ответ следует без кавычек."
   ]
  },
  {
   "cell_type": "code",
   "execution_count": null,
   "metadata": {},
   "outputs": [],
   "source": []
  }
 ],
 "metadata": {
  "anaconda-cloud": {},
  "kernelspec": {
   "display_name": "Python 3",
   "language": "python",
   "name": "python3"
  },
  "language_info": {
   "codemirror_mode": {
    "name": "ipython",
    "version": 3
   },
   "file_extension": ".py",
   "mimetype": "text/x-python",
   "name": "python",
   "nbconvert_exporter": "python",
   "pygments_lexer": "ipython3",
   "version": "3.7.1"
  },
  "toc": {
   "base_numbering": 1,
   "nav_menu": {
    "height": "69px",
    "width": "253px"
   },
   "number_sections": true,
   "sideBar": true,
   "skip_h1_title": false,
   "title_cell": "Table of Contents",
   "title_sidebar": "Contents",
   "toc_cell": false,
   "toc_position": {},
   "toc_section_display": "block",
   "toc_window_display": false
  }
 },
 "nbformat": 4,
 "nbformat_minor": 2
}
