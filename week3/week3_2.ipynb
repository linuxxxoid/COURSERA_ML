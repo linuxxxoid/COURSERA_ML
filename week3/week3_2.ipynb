{
 "cells": [
  {
   "cell_type": "markdown",
   "metadata": {},
   "source": [
    "### Метрики и разбиение данных"
   ]
  },
  {
   "cell_type": "code",
   "execution_count": 1,
   "metadata": {},
   "outputs": [
    {
     "name": "stdout",
     "output_type": "stream",
     "text": [
      "Accuracy: 0.95\n"
     ]
    },
    {
     "name": "stderr",
     "output_type": "stream",
     "text": [
      "/Users/linuxoid/.virtualenvs/dl4cv/lib/python3.7/site-packages/sklearn/linear_model/_logistic.py:940: ConvergenceWarning: lbfgs failed to converge (status=1):\n",
      "STOP: TOTAL NO. of ITERATIONS REACHED LIMIT.\n",
      "\n",
      "Increase the number of iterations (max_iter) or scale the data as shown in:\n",
      "    https://scikit-learn.org/stable/modules/preprocessing.html\n",
      "Please also refer to the documentation for alternative solver options:\n",
      "    https://scikit-learn.org/stable/modules/linear_model.html#logistic-regression\n",
      "  extra_warning_msg=_LOGISTIC_SOLVER_CONVERGENCE_MSG)\n"
     ]
    }
   ],
   "source": [
    "from sklearn import datasets\n",
    "from sklearn import metrics\n",
    "from sklearn.linear_model import LogisticRegression\n",
    "\n",
    "cancer = datasets.load_breast_cancer()\n",
    "logistics_regression = LogisticRegression()\n",
    "model = logistics_regression.fit(cancer.data, cancer.target)\n",
    "\n",
    "print('Accuracy: {:.2f}'.format(model.score(cancer.data, cancer.target)))"
   ]
  },
  {
   "cell_type": "code",
   "execution_count": 2,
   "metadata": {},
   "outputs": [
    {
     "name": "stdout",
     "output_type": "stream",
     "text": [
      "Accuracy: 0.95\n",
      "ROC AUC: 0.94\n",
      "F1: 0.96\n"
     ]
    }
   ],
   "source": [
    "predictions = model.predict(cancer.data)\n",
    "\n",
    "print('Accuracy: {:.2f}'.format(metrics.accuracy_score(cancer.target, predictions)))\n",
    "print('ROC AUC: {:.2f}'.format(metrics.roc_auc_score(cancer.target, predictions)))\n",
    "print('F1: {:.2f}'.format(metrics.f1_score(cancer.target, predictions)))"
   ]
  },
  {
   "cell_type": "code",
   "execution_count": 3,
   "metadata": {},
   "outputs": [
    {
     "name": "stdout",
     "output_type": "stream",
     "text": [
      "Train accuracy: 0.95\n",
      "Test accuracy: 0.94\n"
     ]
    }
   ],
   "source": [
    "from sklearn.model_selection import train_test_split\n",
    "\n",
    "x_train, x_test, y_train, y_test = train_test_split(cancer.data, cancer.target, test_size = 0.2, random_state = 12)\n",
    "\n",
    "print('Train accuracy: {:.2f}'.format(model.score(x_train, y_train)))\n",
    "print('Test accuracy: {:.2f}'.format(model.score(x_test, y_test)))"
   ]
  },
  {
   "cell_type": "markdown",
   "metadata": {},
   "source": [
    "Мы будем делать это с помощью какого то случайного сида random_state 12, для того, чтобы у нас зафиксировало качество раз навсегда\n",
    "\n",
    "на тесте у нас качество чуть хуже. Это достаточно логичная ситуация, мы обучались на одних данных а смотрим качество немного других. Если у нас отличия небольшое как в данном случае, это не страшно. Если у нас был например 0,6, то скорее всего можно считать, что модель у нас переобучилась под тренировочную выборку."
   ]
  },
  {
   "cell_type": "code",
   "execution_count": 4,
   "metadata": {},
   "outputs": [
    {
     "name": "stdout",
     "output_type": "stream",
     "text": [
      "<class 'sklearn.linear_model._coordinate_descent.Lasso'>\n",
      "MSE: 0.11\n",
      "\n",
      "<class 'sklearn.linear_model._ridge.Ridge'>\n",
      "MSE: 0.06\n",
      "\n",
      "<class 'sklearn.linear_model._coordinate_descent.ElasticNet'>\n",
      "MSE: 0.09\n",
      "\n"
     ]
    }
   ],
   "source": [
    "from sklearn.linear_model import Lasso, Ridge, ElasticNet\n",
    "\n",
    "boston = datasets.load_boston()\n",
    "\n",
    "lasso = Lasso() # L1 regul\n",
    "ridge = Ridge() # L2 \n",
    "elastic = ElasticNet() # L1 and L2\n",
    "\n",
    "for model in (lasso, ridge, elastic):\n",
    "    x_train, x_test, y_train, y_test = train_test_split(\n",
    "    cancer.data, cancer.target,\n",
    "    test_size = 0.2\n",
    "    )\n",
    "    model.fit(x_train, y_train)\n",
    "    \n",
    "    predictions = model.predict(x_test)\n",
    "    print(model.__class__)\n",
    "    print('MSE: {:.2f}\\n'.format(metrics.mean_squared_error(y_test, predictions)))"
   ]
  },
  {
   "cell_type": "code",
   "execution_count": 5,
   "metadata": {},
   "outputs": [
    {
     "name": "stdout",
     "output_type": "stream",
     "text": [
      "R2: 0.59\n",
      "R2: 0.59\n"
     ]
    }
   ],
   "source": [
    "print('R2: {:.2f}'.format(model.score(x_test, y_test)))\n",
    "print('R2: {:.2f}'.format(metrics.r2_score(y_test, predictions)))"
   ]
  },
  {
   "cell_type": "markdown",
   "metadata": {},
   "source": [
    "### Кросс-валидация\n",
    "\n",
    "использовать все данные для обучения, делается это так, чтобы знать что наша модель не переобучается и работает хорошо\n",
    "\n",
    "kFold, класс который позволяет вам делать как раз кросс-валидацию"
   ]
  },
  {
   "cell_type": "code",
   "execution_count": 6,
   "metadata": {},
   "outputs": [
    {
     "data": {
      "text/plain": [
       "dict_keys(['data', 'target', 'target_names', 'DESCR', 'feature_names', 'filename'])"
      ]
     },
     "execution_count": 6,
     "metadata": {},
     "output_type": "execute_result"
    }
   ],
   "source": [
    "from sklearn.model_selection import KFold, cross_val_score\n",
    "\n",
    "iris = datasets.load_iris()\n",
    "iris.keys()"
   ]
  },
  {
   "cell_type": "markdown",
   "metadata": {},
   "source": [
    "Решает задачу классификации. У нас четыре признака у цветка: длина лепестка, ширина лепестка, длина чашелистника и его ширина.\n",
    "\n",
    "У нас три класса:\n",
    " \n",
    "- Iris-Setosa\n",
    "- Iris-Versicolour\n",
    "- Iris-Vi\n",
    "                \n",
    "мы пытаемся угадать к какому из классов относится цветок по его характеристикам."
   ]
  },
  {
   "cell_type": "code",
   "execution_count": 7,
   "metadata": {},
   "outputs": [
    {
     "name": "stdout",
     "output_type": "stream",
     "text": [
      ".. _iris_dataset:\n",
      "\n",
      "Iris plants dataset\n",
      "--------------------\n",
      "\n",
      "**Data Set Characteristics:**\n",
      "\n",
      "    :Number of Instances: 150 (50 in each of three classes)\n",
      "    :Number of Attributes: 4 numeric, predictive attributes and the class\n",
      "    :Attribute Information:\n",
      "        - sepal length in cm\n",
      "        - sepal width in cm\n",
      "        - petal length in cm\n",
      "        - petal width in cm\n",
      "        - class:\n",
      "                - Iris-Setosa\n",
      "                - Iris-Versicolour\n",
      "                - Iris-Vi\n"
     ]
    }
   ],
   "source": [
    "print(iris.DESCR[:475])"
   ]
  },
  {
   "cell_type": "code",
   "execution_count": 8,
   "metadata": {},
   "outputs": [
    {
     "name": "stderr",
     "output_type": "stream",
     "text": [
      "/Users/linuxoid/.virtualenvs/dl4cv/lib/python3.7/site-packages/sklearn/linear_model/_logistic.py:940: ConvergenceWarning: lbfgs failed to converge (status=1):\n",
      "STOP: TOTAL NO. of ITERATIONS REACHED LIMIT.\n",
      "\n",
      "Increase the number of iterations (max_iter) or scale the data as shown in:\n",
      "    https://scikit-learn.org/stable/modules/preprocessing.html\n",
      "Please also refer to the documentation for alternative solver options:\n",
      "    https://scikit-learn.org/stable/modules/linear_model.html#logistic-regression\n",
      "  extra_warning_msg=_LOGISTIC_SOLVER_CONVERGENCE_MSG)\n",
      "/Users/linuxoid/.virtualenvs/dl4cv/lib/python3.7/site-packages/sklearn/linear_model/_logistic.py:940: ConvergenceWarning: lbfgs failed to converge (status=1):\n",
      "STOP: TOTAL NO. of ITERATIONS REACHED LIMIT.\n",
      "\n",
      "Increase the number of iterations (max_iter) or scale the data as shown in:\n",
      "    https://scikit-learn.org/stable/modules/preprocessing.html\n",
      "Please also refer to the documentation for alternative solver options:\n",
      "    https://scikit-learn.org/stable/modules/linear_model.html#logistic-regression\n",
      "  extra_warning_msg=_LOGISTIC_SOLVER_CONVERGENCE_MSG)\n"
     ]
    },
    {
     "name": "stdout",
     "output_type": "stream",
     "text": [
      "Split 0 Score: 1.00\n",
      "Split 1 Score: 1.00\n",
      "Split 2 Score: 0.87\n",
      "Split 3 Score: 0.93\n",
      "Split 4 Score: 0.83\n"
     ]
    }
   ],
   "source": [
    "logistics_regression = LogisticRegression()\n",
    "\n",
    "# выборка разбивается на блоки, у нас их 5\n",
    "# 4 блока для обучения, 1 для оценки качества\n",
    "# потом берем след четыре блока\n",
    "# и какой-то новый из этих пяти блоков\n",
    "# выступает в качестве революционного блока и тд\n",
    "# то есть в цикле итерируемся по разным разбиениям\n",
    "\n",
    "cv = KFold(n_splits = 5) # StratifiedFold\n",
    "\n",
    "for split_idx, (train_idx, test_idx) in enumerate(cv.split(iris.data)):\n",
    "    x_train, x_test = iris.data[train_idx], iris.data[test_idx]\n",
    "    y_train, y_test = iris.target[train_idx], iris.target[test_idx]\n",
    "\n",
    "    logistics_regression.fit(x_train, y_train)\n",
    "    score = logistics_regression.score(x_test, y_test)\n",
    "    print('Split {} Score: {:.2f}'.format(split_idx, score))"
   ]
  },
  {
   "cell_type": "code",
   "execution_count": 9,
   "metadata": {},
   "outputs": [
    {
     "name": "stdout",
     "output_type": "stream",
     "text": [
      "Cross val score: [1.         1.         0.86666667 0.93333333 0.83333333]\n",
      "Mean cross val score: 0.93\n"
     ]
    },
    {
     "name": "stderr",
     "output_type": "stream",
     "text": [
      "/Users/linuxoid/.virtualenvs/dl4cv/lib/python3.7/site-packages/sklearn/linear_model/_logistic.py:940: ConvergenceWarning: lbfgs failed to converge (status=1):\n",
      "STOP: TOTAL NO. of ITERATIONS REACHED LIMIT.\n",
      "\n",
      "Increase the number of iterations (max_iter) or scale the data as shown in:\n",
      "    https://scikit-learn.org/stable/modules/preprocessing.html\n",
      "Please also refer to the documentation for alternative solver options:\n",
      "    https://scikit-learn.org/stable/modules/linear_model.html#logistic-regression\n",
      "  extra_warning_msg=_LOGISTIC_SOLVER_CONVERGENCE_MSG)\n",
      "/Users/linuxoid/.virtualenvs/dl4cv/lib/python3.7/site-packages/sklearn/linear_model/_logistic.py:940: ConvergenceWarning: lbfgs failed to converge (status=1):\n",
      "STOP: TOTAL NO. of ITERATIONS REACHED LIMIT.\n",
      "\n",
      "Increase the number of iterations (max_iter) or scale the data as shown in:\n",
      "    https://scikit-learn.org/stable/modules/preprocessing.html\n",
      "Please also refer to the documentation for alternative solver options:\n",
      "    https://scikit-learn.org/stable/modules/linear_model.html#logistic-regression\n",
      "  extra_warning_msg=_LOGISTIC_SOLVER_CONVERGENCE_MSG)\n"
     ]
    }
   ],
   "source": [
    "cv_score = cross_val_score(\n",
    "    logistics_regression, iris.data, iris.target,\n",
    "    scoring = 'accuracy', cv = cv)\n",
    "\n",
    "print('Cross val score: {}'.format(cv_score))\n",
    "print('Mean cross val score: {:.2f}'.format(cv_score.mean()))"
   ]
  },
  {
   "cell_type": "markdown",
   "metadata": {},
   "source": [
    "Test"
   ]
  },
  {
   "cell_type": "code",
   "execution_count": 11,
   "metadata": {},
   "outputs": [
    {
     "name": "stdout",
     "output_type": "stream",
     "text": [
      "accuracy: 0.935\n",
      "precision: 0.75\n",
      "recall: 0.2\n",
      "f1: 0.31578947368421056\n"
     ]
    }
   ],
   "source": [
    "TP = 15\n",
    "FP = 5\n",
    "\n",
    "TN = 920\n",
    "FN = 60\n",
    "\n",
    "accuracy = (TP + TN) / (TP + FP + TN + FN)\n",
    "precision = TP / (TP + FP)\n",
    "recall = TP / (TP + FN)\n",
    "f1 = (2 * precision * recall) / (precision + recall)\n",
    "\n",
    "print('accuracy: {}'.format(accuracy))\n",
    "print('precision: {}'.format(precision))\n",
    "print('recall: {}'.format(recall))\n",
    "print('f1: {}'.format(f1))"
   ]
  },
  {
   "cell_type": "code",
   "execution_count": 12,
   "metadata": {},
   "outputs": [
    {
     "data": {
      "text/plain": [
       "0.3333333333333333"
      ]
     },
     "execution_count": 12,
     "metadata": {},
     "output_type": "execute_result"
    }
   ],
   "source": [
    "1/3"
   ]
  },
  {
   "cell_type": "code",
   "execution_count": 14,
   "metadata": {},
   "outputs": [
    {
     "data": {
      "text/plain": [
       "3.75"
      ]
     },
     "execution_count": 14,
     "metadata": {},
     "output_type": "execute_result"
    }
   ],
   "source": [
    "precision / recall"
   ]
  }
 ],
 "metadata": {
  "kernelspec": {
   "display_name": "Python 3",
   "language": "python",
   "name": "python3"
  },
  "language_info": {
   "codemirror_mode": {
    "name": "ipython",
    "version": 3
   },
   "file_extension": ".py",
   "mimetype": "text/x-python",
   "name": "python",
   "nbconvert_exporter": "python",
   "pygments_lexer": "ipython3",
   "version": "3.7.1"
  }
 },
 "nbformat": 4,
 "nbformat_minor": 4
}
