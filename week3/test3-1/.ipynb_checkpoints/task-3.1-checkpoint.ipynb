{
 "cells": [
  {
   "cell_type": "markdown",
   "metadata": {},
   "source": [
    "# Практическое задание"
   ]
  },
  {
   "cell_type": "markdown",
   "metadata": {},
   "source": [
    "В этом практическом задании мы поработаем с алгоритмом линейной регрессии и нормализацией признаков. Для начала загрузите данные из файла `data.csv`, который содержит 100 признаков f1, f2, ..., f100 и целевую переменную target. Для загрузки данных используете функцию `read_csv` из библиотеки `pandas`. Выделите матрицу признаков и целевую переменную из загруженных данных."
   ]
  },
  {
   "cell_type": "markdown",
   "metadata": {},
   "source": [
    "### *РЕШЕНИЕ*"
   ]
  },
  {
   "cell_type": "code",
   "execution_count": 1,
   "metadata": {},
   "outputs": [
    {
     "data": {
      "text/html": [
       "<div>\n",
       "<style scoped>\n",
       "    .dataframe tbody tr th:only-of-type {\n",
       "        vertical-align: middle;\n",
       "    }\n",
       "\n",
       "    .dataframe tbody tr th {\n",
       "        vertical-align: top;\n",
       "    }\n",
       "\n",
       "    .dataframe thead th {\n",
       "        text-align: right;\n",
       "    }\n",
       "</style>\n",
       "<table border=\"1\" class=\"dataframe\">\n",
       "  <thead>\n",
       "    <tr style=\"text-align: right;\">\n",
       "      <th></th>\n",
       "      <th>f1</th>\n",
       "      <th>f2</th>\n",
       "      <th>f3</th>\n",
       "      <th>f4</th>\n",
       "      <th>f5</th>\n",
       "      <th>f6</th>\n",
       "      <th>f7</th>\n",
       "      <th>f8</th>\n",
       "      <th>f9</th>\n",
       "      <th>f10</th>\n",
       "      <th>...</th>\n",
       "      <th>f92</th>\n",
       "      <th>f93</th>\n",
       "      <th>f94</th>\n",
       "      <th>f95</th>\n",
       "      <th>f96</th>\n",
       "      <th>f97</th>\n",
       "      <th>f98</th>\n",
       "      <th>f99</th>\n",
       "      <th>f100</th>\n",
       "      <th>target</th>\n",
       "    </tr>\n",
       "  </thead>\n",
       "  <tbody>\n",
       "    <tr>\n",
       "      <th>0</th>\n",
       "      <td>-1.979019</td>\n",
       "      <td>0.392456</td>\n",
       "      <td>1.195177</td>\n",
       "      <td>0.209349</td>\n",
       "      <td>-1.209435</td>\n",
       "      <td>0.868798</td>\n",
       "      <td>0.384209</td>\n",
       "      <td>-0.426571</td>\n",
       "      <td>-0.977939</td>\n",
       "      <td>-1.419877</td>\n",
       "      <td>...</td>\n",
       "      <td>-1.587188</td>\n",
       "      <td>-0.612423</td>\n",
       "      <td>-0.281845</td>\n",
       "      <td>-0.625773</td>\n",
       "      <td>-0.907327</td>\n",
       "      <td>-0.800223</td>\n",
       "      <td>0.065892</td>\n",
       "      <td>0.271684</td>\n",
       "      <td>-0.201420</td>\n",
       "      <td>-45.587910</td>\n",
       "    </tr>\n",
       "    <tr>\n",
       "      <th>1</th>\n",
       "      <td>0.613518</td>\n",
       "      <td>0.051946</td>\n",
       "      <td>0.238789</td>\n",
       "      <td>-0.071601</td>\n",
       "      <td>-0.080717</td>\n",
       "      <td>1.727543</td>\n",
       "      <td>-0.483886</td>\n",
       "      <td>0.635172</td>\n",
       "      <td>0.038003</td>\n",
       "      <td>1.573987</td>\n",
       "      <td>...</td>\n",
       "      <td>0.059630</td>\n",
       "      <td>0.120031</td>\n",
       "      <td>0.399223</td>\n",
       "      <td>0.494030</td>\n",
       "      <td>0.197600</td>\n",
       "      <td>0.652323</td>\n",
       "      <td>0.916328</td>\n",
       "      <td>-1.556582</td>\n",
       "      <td>-0.370614</td>\n",
       "      <td>137.329473</td>\n",
       "    </tr>\n",
       "    <tr>\n",
       "      <th>2</th>\n",
       "      <td>0.444198</td>\n",
       "      <td>-0.535317</td>\n",
       "      <td>0.664927</td>\n",
       "      <td>-0.327017</td>\n",
       "      <td>1.935154</td>\n",
       "      <td>-1.776012</td>\n",
       "      <td>0.207803</td>\n",
       "      <td>0.126178</td>\n",
       "      <td>0.252569</td>\n",
       "      <td>0.889037</td>\n",
       "      <td>...</td>\n",
       "      <td>0.195482</td>\n",
       "      <td>1.384532</td>\n",
       "      <td>0.522251</td>\n",
       "      <td>-0.127655</td>\n",
       "      <td>-0.403076</td>\n",
       "      <td>-0.111509</td>\n",
       "      <td>-0.183150</td>\n",
       "      <td>0.977816</td>\n",
       "      <td>-1.171654</td>\n",
       "      <td>141.355900</td>\n",
       "    </tr>\n",
       "    <tr>\n",
       "      <th>3</th>\n",
       "      <td>-1.485186</td>\n",
       "      <td>-0.101987</td>\n",
       "      <td>0.817982</td>\n",
       "      <td>-0.846498</td>\n",
       "      <td>-0.660834</td>\n",
       "      <td>-0.073107</td>\n",
       "      <td>-0.247340</td>\n",
       "      <td>-0.775607</td>\n",
       "      <td>1.015937</td>\n",
       "      <td>-1.075737</td>\n",
       "      <td>...</td>\n",
       "      <td>0.753417</td>\n",
       "      <td>-0.403380</td>\n",
       "      <td>0.087974</td>\n",
       "      <td>-1.525572</td>\n",
       "      <td>2.404838</td>\n",
       "      <td>0.011863</td>\n",
       "      <td>0.994299</td>\n",
       "      <td>-2.152914</td>\n",
       "      <td>-0.213593</td>\n",
       "      <td>-65.882640</td>\n",
       "    </tr>\n",
       "    <tr>\n",
       "      <th>4</th>\n",
       "      <td>0.276582</td>\n",
       "      <td>-0.208468</td>\n",
       "      <td>0.185689</td>\n",
       "      <td>0.508608</td>\n",
       "      <td>-1.527168</td>\n",
       "      <td>-1.373403</td>\n",
       "      <td>-0.481766</td>\n",
       "      <td>-2.854627</td>\n",
       "      <td>1.868818</td>\n",
       "      <td>-1.179460</td>\n",
       "      <td>...</td>\n",
       "      <td>-0.985540</td>\n",
       "      <td>0.419706</td>\n",
       "      <td>-0.610858</td>\n",
       "      <td>0.209534</td>\n",
       "      <td>-0.538048</td>\n",
       "      <td>0.164295</td>\n",
       "      <td>-0.984655</td>\n",
       "      <td>-0.598438</td>\n",
       "      <td>-0.887770</td>\n",
       "      <td>-333.409221</td>\n",
       "    </tr>\n",
       "  </tbody>\n",
       "</table>\n",
       "<p>5 rows × 101 columns</p>\n",
       "</div>"
      ],
      "text/plain": [
       "         f1        f2        f3        f4        f5        f6        f7  \\\n",
       "0 -1.979019  0.392456  1.195177  0.209349 -1.209435  0.868798  0.384209   \n",
       "1  0.613518  0.051946  0.238789 -0.071601 -0.080717  1.727543 -0.483886   \n",
       "2  0.444198 -0.535317  0.664927 -0.327017  1.935154 -1.776012  0.207803   \n",
       "3 -1.485186 -0.101987  0.817982 -0.846498 -0.660834 -0.073107 -0.247340   \n",
       "4  0.276582 -0.208468  0.185689  0.508608 -1.527168 -1.373403 -0.481766   \n",
       "\n",
       "         f8        f9       f10  ...       f92       f93       f94       f95  \\\n",
       "0 -0.426571 -0.977939 -1.419877  ... -1.587188 -0.612423 -0.281845 -0.625773   \n",
       "1  0.635172  0.038003  1.573987  ...  0.059630  0.120031  0.399223  0.494030   \n",
       "2  0.126178  0.252569  0.889037  ...  0.195482  1.384532  0.522251 -0.127655   \n",
       "3 -0.775607  1.015937 -1.075737  ...  0.753417 -0.403380  0.087974 -1.525572   \n",
       "4 -2.854627  1.868818 -1.179460  ... -0.985540  0.419706 -0.610858  0.209534   \n",
       "\n",
       "        f96       f97       f98       f99      f100      target  \n",
       "0 -0.907327 -0.800223  0.065892  0.271684 -0.201420  -45.587910  \n",
       "1  0.197600  0.652323  0.916328 -1.556582 -0.370614  137.329473  \n",
       "2 -0.403076 -0.111509 -0.183150  0.977816 -1.171654  141.355900  \n",
       "3  2.404838  0.011863  0.994299 -2.152914 -0.213593  -65.882640  \n",
       "4 -0.538048  0.164295 -0.984655 -0.598438 -0.887770 -333.409221  \n",
       "\n",
       "[5 rows x 101 columns]"
      ]
     },
     "execution_count": 1,
     "metadata": {},
     "output_type": "execute_result"
    }
   ],
   "source": [
    "import numpy as np\n",
    "import pandas as pd\n",
    "\n",
    "ds = pd.read_csv('data.csv')\n",
    "ds.head()"
   ]
  },
  {
   "cell_type": "code",
   "execution_count": 2,
   "metadata": {},
   "outputs": [
    {
     "data": {
      "text/plain": [
       "0      -45.587910\n",
       "1      137.329473\n",
       "2      141.355900\n",
       "3      -65.882640\n",
       "4     -333.409221\n",
       "          ...    \n",
       "120     82.055263\n",
       "121     65.950817\n",
       "122     77.147045\n",
       "123    -13.136238\n",
       "124      1.627152\n",
       "Name: target, Length: 125, dtype: float64"
      ]
     },
     "execution_count": 2,
     "metadata": {},
     "output_type": "execute_result"
    }
   ],
   "source": [
    "ds.target"
   ]
  },
  {
   "cell_type": "code",
   "execution_count": 3,
   "metadata": {},
   "outputs": [
    {
     "data": {
      "image/png": "[encoded data removed]",
      "text/plain": [
       "<Figure size 432x288 with 1 Axes>"
      ]
     },
     "metadata": {
      "needs_background": "light"
     },
     "output_type": "display_data"
    }
   ],
   "source": [
    "import matplotlib.pyplot as plt\n",
    "import seaborn as sns\n",
    "\n",
    "plt.figure(figsize = (6, 4))\n",
    "sns.distplot(ds.target)\n",
    "\n",
    "plt.xlabel('Target')\n",
    "plt.ylabel('Count')\n",
    "plt.tight_layout()"
   ]
  },
  {
   "cell_type": "code",
   "execution_count": 4,
   "metadata": {},
   "outputs": [],
   "source": [
    "y = ds['target']\n",
    "\n",
    "ds.drop(['target'], axis = 1, inplace = True)\n",
    "\n",
    "x = ds"
   ]
  },
  {
   "cell_type": "code",
   "execution_count": 5,
   "metadata": {},
   "outputs": [
    {
     "data": {
      "text/html": [
       "<div>\n",
       "<style scoped>\n",
       "    .dataframe tbody tr th:only-of-type {\n",
       "        vertical-align: middle;\n",
       "    }\n",
       "\n",
       "    .dataframe tbody tr th {\n",
       "        vertical-align: top;\n",
       "    }\n",
       "\n",
       "    .dataframe thead th {\n",
       "        text-align: right;\n",
       "    }\n",
       "</style>\n",
       "<table border=\"1\" class=\"dataframe\">\n",
       "  <thead>\n",
       "    <tr style=\"text-align: right;\">\n",
       "      <th></th>\n",
       "      <th>f1</th>\n",
       "      <th>f2</th>\n",
       "      <th>f3</th>\n",
       "      <th>f4</th>\n",
       "      <th>f5</th>\n",
       "      <th>f6</th>\n",
       "      <th>f7</th>\n",
       "      <th>f8</th>\n",
       "      <th>f9</th>\n",
       "      <th>f10</th>\n",
       "      <th>...</th>\n",
       "      <th>f91</th>\n",
       "      <th>f92</th>\n",
       "      <th>f93</th>\n",
       "      <th>f94</th>\n",
       "      <th>f95</th>\n",
       "      <th>f96</th>\n",
       "      <th>f97</th>\n",
       "      <th>f98</th>\n",
       "      <th>f99</th>\n",
       "      <th>f100</th>\n",
       "    </tr>\n",
       "  </thead>\n",
       "  <tbody>\n",
       "    <tr>\n",
       "      <th>0</th>\n",
       "      <td>-1.979019</td>\n",
       "      <td>0.392456</td>\n",
       "      <td>1.195177</td>\n",
       "      <td>0.209349</td>\n",
       "      <td>-1.209435</td>\n",
       "      <td>0.868798</td>\n",
       "      <td>0.384209</td>\n",
       "      <td>-0.426571</td>\n",
       "      <td>-0.977939</td>\n",
       "      <td>-1.419877</td>\n",
       "      <td>...</td>\n",
       "      <td>-0.435248</td>\n",
       "      <td>-1.587188</td>\n",
       "      <td>-0.612423</td>\n",
       "      <td>-0.281845</td>\n",
       "      <td>-0.625773</td>\n",
       "      <td>-0.907327</td>\n",
       "      <td>-0.800223</td>\n",
       "      <td>0.065892</td>\n",
       "      <td>0.271684</td>\n",
       "      <td>-0.201420</td>\n",
       "    </tr>\n",
       "    <tr>\n",
       "      <th>1</th>\n",
       "      <td>0.613518</td>\n",
       "      <td>0.051946</td>\n",
       "      <td>0.238789</td>\n",
       "      <td>-0.071601</td>\n",
       "      <td>-0.080717</td>\n",
       "      <td>1.727543</td>\n",
       "      <td>-0.483886</td>\n",
       "      <td>0.635172</td>\n",
       "      <td>0.038003</td>\n",
       "      <td>1.573987</td>\n",
       "      <td>...</td>\n",
       "      <td>-0.349258</td>\n",
       "      <td>0.059630</td>\n",
       "      <td>0.120031</td>\n",
       "      <td>0.399223</td>\n",
       "      <td>0.494030</td>\n",
       "      <td>0.197600</td>\n",
       "      <td>0.652323</td>\n",
       "      <td>0.916328</td>\n",
       "      <td>-1.556582</td>\n",
       "      <td>-0.370614</td>\n",
       "    </tr>\n",
       "    <tr>\n",
       "      <th>2</th>\n",
       "      <td>0.444198</td>\n",
       "      <td>-0.535317</td>\n",
       "      <td>0.664927</td>\n",
       "      <td>-0.327017</td>\n",
       "      <td>1.935154</td>\n",
       "      <td>-1.776012</td>\n",
       "      <td>0.207803</td>\n",
       "      <td>0.126178</td>\n",
       "      <td>0.252569</td>\n",
       "      <td>0.889037</td>\n",
       "      <td>...</td>\n",
       "      <td>-2.603137</td>\n",
       "      <td>0.195482</td>\n",
       "      <td>1.384532</td>\n",
       "      <td>0.522251</td>\n",
       "      <td>-0.127655</td>\n",
       "      <td>-0.403076</td>\n",
       "      <td>-0.111509</td>\n",
       "      <td>-0.183150</td>\n",
       "      <td>0.977816</td>\n",
       "      <td>-1.171654</td>\n",
       "    </tr>\n",
       "    <tr>\n",
       "      <th>3</th>\n",
       "      <td>-1.485186</td>\n",
       "      <td>-0.101987</td>\n",
       "      <td>0.817982</td>\n",
       "      <td>-0.846498</td>\n",
       "      <td>-0.660834</td>\n",
       "      <td>-0.073107</td>\n",
       "      <td>-0.247340</td>\n",
       "      <td>-0.775607</td>\n",
       "      <td>1.015937</td>\n",
       "      <td>-1.075737</td>\n",
       "      <td>...</td>\n",
       "      <td>0.667245</td>\n",
       "      <td>0.753417</td>\n",
       "      <td>-0.403380</td>\n",
       "      <td>0.087974</td>\n",
       "      <td>-1.525572</td>\n",
       "      <td>2.404838</td>\n",
       "      <td>0.011863</td>\n",
       "      <td>0.994299</td>\n",
       "      <td>-2.152914</td>\n",
       "      <td>-0.213593</td>\n",
       "    </tr>\n",
       "    <tr>\n",
       "      <th>4</th>\n",
       "      <td>0.276582</td>\n",
       "      <td>-0.208468</td>\n",
       "      <td>0.185689</td>\n",
       "      <td>0.508608</td>\n",
       "      <td>-1.527168</td>\n",
       "      <td>-1.373403</td>\n",
       "      <td>-0.481766</td>\n",
       "      <td>-2.854627</td>\n",
       "      <td>1.868818</td>\n",
       "      <td>-1.179460</td>\n",
       "      <td>...</td>\n",
       "      <td>-1.511883</td>\n",
       "      <td>-0.985540</td>\n",
       "      <td>0.419706</td>\n",
       "      <td>-0.610858</td>\n",
       "      <td>0.209534</td>\n",
       "      <td>-0.538048</td>\n",
       "      <td>0.164295</td>\n",
       "      <td>-0.984655</td>\n",
       "      <td>-0.598438</td>\n",
       "      <td>-0.887770</td>\n",
       "    </tr>\n",
       "    <tr>\n",
       "      <th>...</th>\n",
       "      <td>...</td>\n",
       "      <td>...</td>\n",
       "      <td>...</td>\n",
       "      <td>...</td>\n",
       "      <td>...</td>\n",
       "      <td>...</td>\n",
       "      <td>...</td>\n",
       "      <td>...</td>\n",
       "      <td>...</td>\n",
       "      <td>...</td>\n",
       "      <td>...</td>\n",
       "      <td>...</td>\n",
       "      <td>...</td>\n",
       "      <td>...</td>\n",
       "      <td>...</td>\n",
       "      <td>...</td>\n",
       "      <td>...</td>\n",
       "      <td>...</td>\n",
       "      <td>...</td>\n",
       "      <td>...</td>\n",
       "      <td>...</td>\n",
       "    </tr>\n",
       "    <tr>\n",
       "      <th>120</th>\n",
       "      <td>0.372648</td>\n",
       "      <td>-0.450202</td>\n",
       "      <td>-0.637809</td>\n",
       "      <td>0.113971</td>\n",
       "      <td>1.193587</td>\n",
       "      <td>1.637212</td>\n",
       "      <td>1.178419</td>\n",
       "      <td>-0.047799</td>\n",
       "      <td>-1.285599</td>\n",
       "      <td>-1.671761</td>\n",
       "      <td>...</td>\n",
       "      <td>1.015221</td>\n",
       "      <td>-0.657035</td>\n",
       "      <td>-1.615846</td>\n",
       "      <td>-0.404157</td>\n",
       "      <td>0.810027</td>\n",
       "      <td>-1.333148</td>\n",
       "      <td>1.419036</td>\n",
       "      <td>0.144310</td>\n",
       "      <td>1.040058</td>\n",
       "      <td>-1.298104</td>\n",
       "    </tr>\n",
       "    <tr>\n",
       "      <th>121</th>\n",
       "      <td>-2.291293</td>\n",
       "      <td>0.441420</td>\n",
       "      <td>-0.080816</td>\n",
       "      <td>-0.258764</td>\n",
       "      <td>-0.278120</td>\n",
       "      <td>0.638957</td>\n",
       "      <td>0.748936</td>\n",
       "      <td>-0.893833</td>\n",
       "      <td>-0.435053</td>\n",
       "      <td>-3.232565</td>\n",
       "      <td>...</td>\n",
       "      <td>-1.631068</td>\n",
       "      <td>-0.421483</td>\n",
       "      <td>-1.478002</td>\n",
       "      <td>-0.518134</td>\n",
       "      <td>-2.248497</td>\n",
       "      <td>2.116012</td>\n",
       "      <td>-0.181734</td>\n",
       "      <td>0.043710</td>\n",
       "      <td>-1.572231</td>\n",
       "      <td>-0.903293</td>\n",
       "    </tr>\n",
       "    <tr>\n",
       "      <th>122</th>\n",
       "      <td>-0.735201</td>\n",
       "      <td>-2.426392</td>\n",
       "      <td>-0.716043</td>\n",
       "      <td>0.395799</td>\n",
       "      <td>-0.495878</td>\n",
       "      <td>0.307677</td>\n",
       "      <td>-1.890010</td>\n",
       "      <td>1.356583</td>\n",
       "      <td>-0.880754</td>\n",
       "      <td>-0.388243</td>\n",
       "      <td>...</td>\n",
       "      <td>-0.509213</td>\n",
       "      <td>1.351073</td>\n",
       "      <td>1.798725</td>\n",
       "      <td>1.070365</td>\n",
       "      <td>0.086111</td>\n",
       "      <td>-0.777371</td>\n",
       "      <td>0.388376</td>\n",
       "      <td>-3.007632</td>\n",
       "      <td>-0.009289</td>\n",
       "      <td>0.084168</td>\n",
       "    </tr>\n",
       "    <tr>\n",
       "      <th>123</th>\n",
       "      <td>1.288076</td>\n",
       "      <td>1.704102</td>\n",
       "      <td>0.505021</td>\n",
       "      <td>-1.820760</td>\n",
       "      <td>-0.345919</td>\n",
       "      <td>2.277086</td>\n",
       "      <td>2.042178</td>\n",
       "      <td>0.487775</td>\n",
       "      <td>-1.031966</td>\n",
       "      <td>2.394362</td>\n",
       "      <td>...</td>\n",
       "      <td>0.135925</td>\n",
       "      <td>-1.795643</td>\n",
       "      <td>-0.440259</td>\n",
       "      <td>0.731001</td>\n",
       "      <td>0.341660</td>\n",
       "      <td>0.733548</td>\n",
       "      <td>-2.074486</td>\n",
       "      <td>-0.766864</td>\n",
       "      <td>0.041287</td>\n",
       "      <td>-0.423890</td>\n",
       "    </tr>\n",
       "    <tr>\n",
       "      <th>124</th>\n",
       "      <td>-1.375634</td>\n",
       "      <td>-0.345104</td>\n",
       "      <td>0.314339</td>\n",
       "      <td>1.282795</td>\n",
       "      <td>-1.835769</td>\n",
       "      <td>0.474633</td>\n",
       "      <td>1.243428</td>\n",
       "      <td>1.436368</td>\n",
       "      <td>1.178253</td>\n",
       "      <td>0.301407</td>\n",
       "      <td>...</td>\n",
       "      <td>0.395374</td>\n",
       "      <td>-0.456698</td>\n",
       "      <td>0.408136</td>\n",
       "      <td>2.369287</td>\n",
       "      <td>-0.502869</td>\n",
       "      <td>-0.756004</td>\n",
       "      <td>-0.822166</td>\n",
       "      <td>0.381353</td>\n",
       "      <td>0.464251</td>\n",
       "      <td>1.943529</td>\n",
       "    </tr>\n",
       "  </tbody>\n",
       "</table>\n",
       "<p>125 rows × 100 columns</p>\n",
       "</div>"
      ],
      "text/plain": [
       "           f1        f2        f3        f4        f5        f6        f7  \\\n",
       "0   -1.979019  0.392456  1.195177  0.209349 -1.209435  0.868798  0.384209   \n",
       "1    0.613518  0.051946  0.238789 -0.071601 -0.080717  1.727543 -0.483886   \n",
       "2    0.444198 -0.535317  0.664927 -0.327017  1.935154 -1.776012  0.207803   \n",
       "3   -1.485186 -0.101987  0.817982 -0.846498 -0.660834 -0.073107 -0.247340   \n",
       "4    0.276582 -0.208468  0.185689  0.508608 -1.527168 -1.373403 -0.481766   \n",
       "..        ...       ...       ...       ...       ...       ...       ...   \n",
       "120  0.372648 -0.450202 -0.637809  0.113971  1.193587  1.637212  1.178419   \n",
       "121 -2.291293  0.441420 -0.080816 -0.258764 -0.278120  0.638957  0.748936   \n",
       "122 -0.735201 -2.426392 -0.716043  0.395799 -0.495878  0.307677 -1.890010   \n",
       "123  1.288076  1.704102  0.505021 -1.820760 -0.345919  2.277086  2.042178   \n",
       "124 -1.375634 -0.345104  0.314339  1.282795 -1.835769  0.474633  1.243428   \n",
       "\n",
       "           f8        f9       f10  ...       f91       f92       f93  \\\n",
       "0   -0.426571 -0.977939 -1.419877  ... -0.435248 -1.587188 -0.612423   \n",
       "1    0.635172  0.038003  1.573987  ... -0.349258  0.059630  0.120031   \n",
       "2    0.126178  0.252569  0.889037  ... -2.603137  0.195482  1.384532   \n",
       "3   -0.775607  1.015937 -1.075737  ...  0.667245  0.753417 -0.403380   \n",
       "4   -2.854627  1.868818 -1.179460  ... -1.511883 -0.985540  0.419706   \n",
       "..        ...       ...       ...  ...       ...       ...       ...   \n",
       "120 -0.047799 -1.285599 -1.671761  ...  1.015221 -0.657035 -1.615846   \n",
       "121 -0.893833 -0.435053 -3.232565  ... -1.631068 -0.421483 -1.478002   \n",
       "122  1.356583 -0.880754 -0.388243  ... -0.509213  1.351073  1.798725   \n",
       "123  0.487775 -1.031966  2.394362  ...  0.135925 -1.795643 -0.440259   \n",
       "124  1.436368  1.178253  0.301407  ...  0.395374 -0.456698  0.408136   \n",
       "\n",
       "          f94       f95       f96       f97       f98       f99      f100  \n",
       "0   -0.281845 -0.625773 -0.907327 -0.800223  0.065892  0.271684 -0.201420  \n",
       "1    0.399223  0.494030  0.197600  0.652323  0.916328 -1.556582 -0.370614  \n",
       "2    0.522251 -0.127655 -0.403076 -0.111509 -0.183150  0.977816 -1.171654  \n",
       "3    0.087974 -1.525572  2.404838  0.011863  0.994299 -2.152914 -0.213593  \n",
       "4   -0.610858  0.209534 -0.538048  0.164295 -0.984655 -0.598438 -0.887770  \n",
       "..        ...       ...       ...       ...       ...       ...       ...  \n",
       "120 -0.404157  0.810027 -1.333148  1.419036  0.144310  1.040058 -1.298104  \n",
       "121 -0.518134 -2.248497  2.116012 -0.181734  0.043710 -1.572231 -0.903293  \n",
       "122  1.070365  0.086111 -0.777371  0.388376 -3.007632 -0.009289  0.084168  \n",
       "123  0.731001  0.341660  0.733548 -2.074486 -0.766864  0.041287 -0.423890  \n",
       "124  2.369287 -0.502869 -0.756004 -0.822166  0.381353  0.464251  1.943529  \n",
       "\n",
       "[125 rows x 100 columns]"
      ]
     },
     "execution_count": 5,
     "metadata": {},
     "output_type": "execute_result"
    }
   ],
   "source": [
    "x"
   ]
  },
  {
   "cell_type": "code",
   "execution_count": 6,
   "metadata": {},
   "outputs": [
    {
     "data": {
      "text/plain": [
       "0      -45.587910\n",
       "1      137.329473\n",
       "2      141.355900\n",
       "3      -65.882640\n",
       "4     -333.409221\n",
       "          ...    \n",
       "120     82.055263\n",
       "121     65.950817\n",
       "122     77.147045\n",
       "123    -13.136238\n",
       "124      1.627152\n",
       "Name: target, Length: 125, dtype: float64"
      ]
     },
     "execution_count": 6,
     "metadata": {},
     "output_type": "execute_result"
    }
   ],
   "source": [
    "y"
   ]
  },
  {
   "cell_type": "markdown",
   "metadata": {},
   "source": [
    "Далее, разделите загруженный датасет на тренировочную и тестовую выборку. Для этого используйте функцию `train_test_split` из модуля `sklearn.model_selection` с параметрами `random_state=42` и `test_size=0.33`. Обучите линейную регрессию на тренировочных данных и оцените среднеквадратическую ошибку на тестовых данных. Один из вариантов линейной регрессии в `scikit-learn` представлен классом `Ridge` из `sklearn.linear_model`.\n",
    "Используйте параметр `random_state=42` в конструкторе класса при создании его экземпляра. Оценку среднеквадратичной ошибки проведите с помощью функции `mean_squared_error` из модуля `sklearn.metrics`. В качестве ответа `answer1` приведите это значение округлённое с точностью до двух знаков."
   ]
  },
  {
   "cell_type": "markdown",
   "metadata": {},
   "source": [
    "### *РЕШЕНИЕ*"
   ]
  },
  {
   "cell_type": "code",
   "execution_count": 7,
   "metadata": {},
   "outputs": [],
   "source": [
    "from sklearn.model_selection import train_test_split\n",
    "from sklearn.linear_model import Ridge\n",
    "from sklearn.metrics import mean_squared_error\n",
    "\n",
    "\n",
    "x_train, x_test, y_train, y_test = train_test_split(x, y, random_state = 42, test_size = 0.33)"
   ]
  },
  {
   "cell_type": "code",
   "execution_count": 8,
   "metadata": {},
   "outputs": [
    {
     "name": "stdout",
     "output_type": "stream",
     "text": [
      "Train set:   (83, 100) (83,)\n",
      "Test set:    (42, 100) (42,)\n"
     ]
    }
   ],
   "source": [
    "print('Train set:  ', x_train.shape,  y_train.shape)\n",
    "print('Test set:   ', x_test.shape,  y_test.shape)"
   ]
  },
  {
   "cell_type": "code",
   "execution_count": 9,
   "metadata": {},
   "outputs": [
    {
     "data": {
      "text/html": [
       "<div>\n",
       "<style scoped>\n",
       "    .dataframe tbody tr th:only-of-type {\n",
       "        vertical-align: middle;\n",
       "    }\n",
       "\n",
       "    .dataframe tbody tr th {\n",
       "        vertical-align: top;\n",
       "    }\n",
       "\n",
       "    .dataframe thead th {\n",
       "        text-align: right;\n",
       "    }\n",
       "</style>\n",
       "<table border=\"1\" class=\"dataframe\">\n",
       "  <thead>\n",
       "    <tr style=\"text-align: right;\">\n",
       "      <th></th>\n",
       "      <th>f1</th>\n",
       "      <th>f2</th>\n",
       "      <th>f3</th>\n",
       "      <th>f4</th>\n",
       "      <th>f5</th>\n",
       "      <th>f6</th>\n",
       "      <th>f7</th>\n",
       "      <th>f8</th>\n",
       "      <th>f9</th>\n",
       "      <th>f10</th>\n",
       "      <th>...</th>\n",
       "      <th>f91</th>\n",
       "      <th>f92</th>\n",
       "      <th>f93</th>\n",
       "      <th>f94</th>\n",
       "      <th>f95</th>\n",
       "      <th>f96</th>\n",
       "      <th>f97</th>\n",
       "      <th>f98</th>\n",
       "      <th>f99</th>\n",
       "      <th>f100</th>\n",
       "    </tr>\n",
       "  </thead>\n",
       "  <tbody>\n",
       "    <tr>\n",
       "      <th>9</th>\n",
       "      <td>1.392039</td>\n",
       "      <td>-0.664651</td>\n",
       "      <td>-1.422230</td>\n",
       "      <td>-1.941859</td>\n",
       "      <td>0.809265</td>\n",
       "      <td>-0.491562</td>\n",
       "      <td>-0.528947</td>\n",
       "      <td>0.856976</td>\n",
       "      <td>-0.516847</td>\n",
       "      <td>0.084094</td>\n",
       "      <td>...</td>\n",
       "      <td>-1.438411</td>\n",
       "      <td>0.958816</td>\n",
       "      <td>0.619033</td>\n",
       "      <td>-0.443263</td>\n",
       "      <td>-1.353755</td>\n",
       "      <td>1.212129</td>\n",
       "      <td>-0.432295</td>\n",
       "      <td>0.880066</td>\n",
       "      <td>0.357661</td>\n",
       "      <td>-1.499181</td>\n",
       "    </tr>\n",
       "    <tr>\n",
       "      <th>33</th>\n",
       "      <td>-0.182161</td>\n",
       "      <td>0.091125</td>\n",
       "      <td>0.632216</td>\n",
       "      <td>0.604052</td>\n",
       "      <td>0.998218</td>\n",
       "      <td>-0.333486</td>\n",
       "      <td>0.338976</td>\n",
       "      <td>0.818766</td>\n",
       "      <td>0.879014</td>\n",
       "      <td>-0.122436</td>\n",
       "      <td>...</td>\n",
       "      <td>0.297160</td>\n",
       "      <td>-0.480574</td>\n",
       "      <td>-0.946491</td>\n",
       "      <td>0.281192</td>\n",
       "      <td>-0.504423</td>\n",
       "      <td>-1.932065</td>\n",
       "      <td>0.627680</td>\n",
       "      <td>2.206469</td>\n",
       "      <td>1.600098</td>\n",
       "      <td>-0.761941</td>\n",
       "    </tr>\n",
       "    <tr>\n",
       "      <th>62</th>\n",
       "      <td>0.072681</td>\n",
       "      <td>-0.617642</td>\n",
       "      <td>0.893698</td>\n",
       "      <td>-0.409687</td>\n",
       "      <td>-1.880010</td>\n",
       "      <td>-0.139397</td>\n",
       "      <td>-0.755792</td>\n",
       "      <td>0.572390</td>\n",
       "      <td>-1.909356</td>\n",
       "      <td>0.443002</td>\n",
       "      <td>...</td>\n",
       "      <td>0.522143</td>\n",
       "      <td>1.649481</td>\n",
       "      <td>1.318302</td>\n",
       "      <td>-1.731201</td>\n",
       "      <td>-2.906988</td>\n",
       "      <td>-0.283139</td>\n",
       "      <td>-0.707626</td>\n",
       "      <td>-0.372319</td>\n",
       "      <td>-1.466785</td>\n",
       "      <td>0.313184</td>\n",
       "    </tr>\n",
       "    <tr>\n",
       "      <th>25</th>\n",
       "      <td>0.522521</td>\n",
       "      <td>-0.216419</td>\n",
       "      <td>-0.335516</td>\n",
       "      <td>1.251947</td>\n",
       "      <td>-0.778309</td>\n",
       "      <td>-0.176134</td>\n",
       "      <td>0.001804</td>\n",
       "      <td>0.976507</td>\n",
       "      <td>-1.688034</td>\n",
       "      <td>1.054621</td>\n",
       "      <td>...</td>\n",
       "      <td>-0.242583</td>\n",
       "      <td>2.305637</td>\n",
       "      <td>-0.600748</td>\n",
       "      <td>-0.455342</td>\n",
       "      <td>0.686774</td>\n",
       "      <td>-0.701957</td>\n",
       "      <td>0.268413</td>\n",
       "      <td>1.612868</td>\n",
       "      <td>1.896123</td>\n",
       "      <td>2.054092</td>\n",
       "    </tr>\n",
       "    <tr>\n",
       "      <th>119</th>\n",
       "      <td>-1.179369</td>\n",
       "      <td>0.751099</td>\n",
       "      <td>-0.548200</td>\n",
       "      <td>-1.689183</td>\n",
       "      <td>0.028458</td>\n",
       "      <td>-0.262660</td>\n",
       "      <td>0.548320</td>\n",
       "      <td>-1.406815</td>\n",
       "      <td>0.960305</td>\n",
       "      <td>0.388312</td>\n",
       "      <td>...</td>\n",
       "      <td>1.640615</td>\n",
       "      <td>1.669070</td>\n",
       "      <td>0.462484</td>\n",
       "      <td>0.887504</td>\n",
       "      <td>2.184097</td>\n",
       "      <td>0.218534</td>\n",
       "      <td>0.537630</td>\n",
       "      <td>1.643378</td>\n",
       "      <td>0.506241</td>\n",
       "      <td>0.186416</td>\n",
       "    </tr>\n",
       "  </tbody>\n",
       "</table>\n",
       "<p>5 rows × 100 columns</p>\n",
       "</div>"
      ],
      "text/plain": [
       "           f1        f2        f3        f4        f5        f6        f7  \\\n",
       "9    1.392039 -0.664651 -1.422230 -1.941859  0.809265 -0.491562 -0.528947   \n",
       "33  -0.182161  0.091125  0.632216  0.604052  0.998218 -0.333486  0.338976   \n",
       "62   0.072681 -0.617642  0.893698 -0.409687 -1.880010 -0.139397 -0.755792   \n",
       "25   0.522521 -0.216419 -0.335516  1.251947 -0.778309 -0.176134  0.001804   \n",
       "119 -1.179369  0.751099 -0.548200 -1.689183  0.028458 -0.262660  0.548320   \n",
       "\n",
       "           f8        f9       f10  ...       f91       f92       f93  \\\n",
       "9    0.856976 -0.516847  0.084094  ... -1.438411  0.958816  0.619033   \n",
       "33   0.818766  0.879014 -0.122436  ...  0.297160 -0.480574 -0.946491   \n",
       "62   0.572390 -1.909356  0.443002  ...  0.522143  1.649481  1.318302   \n",
       "25   0.976507 -1.688034  1.054621  ... -0.242583  2.305637 -0.600748   \n",
       "119 -1.406815  0.960305  0.388312  ...  1.640615  1.669070  0.462484   \n",
       "\n",
       "          f94       f95       f96       f97       f98       f99      f100  \n",
       "9   -0.443263 -1.353755  1.212129 -0.432295  0.880066  0.357661 -1.499181  \n",
       "33   0.281192 -0.504423 -1.932065  0.627680  2.206469  1.600098 -0.761941  \n",
       "62  -1.731201 -2.906988 -0.283139 -0.707626 -0.372319 -1.466785  0.313184  \n",
       "25  -0.455342  0.686774 -0.701957  0.268413  1.612868  1.896123  2.054092  \n",
       "119  0.887504  2.184097  0.218534  0.537630  1.643378  0.506241  0.186416  \n",
       "\n",
       "[5 rows x 100 columns]"
      ]
     },
     "execution_count": 9,
     "metadata": {},
     "output_type": "execute_result"
    }
   ],
   "source": [
    "x_train.head()"
   ]
  },
  {
   "cell_type": "markdown",
   "metadata": {},
   "source": [
    "Оценку среднеквадратичной ошибки проведите с помощью функции mean_squared_error из модуля sklearn.metrics. В качестве ответа answer1 приведите это значение округлённое с точностью до двух знаков."
   ]
  },
  {
   "cell_type": "code",
   "execution_count": 10,
   "metadata": {},
   "outputs": [],
   "source": [
    "model = Ridge()"
   ]
  },
  {
   "cell_type": "code",
   "execution_count": 11,
   "metadata": {},
   "outputs": [
    {
     "data": {
      "text/plain": [
       "Ridge(alpha=1.0, copy_X=True, fit_intercept=True, max_iter=None,\n",
       "      normalize=False, random_state=None, solver='auto', tol=0.001)"
      ]
     },
     "execution_count": 11,
     "metadata": {},
     "output_type": "execute_result"
    }
   ],
   "source": [
    "model.fit(x_train, y_train)"
   ]
  },
  {
   "cell_type": "code",
   "execution_count": 12,
   "metadata": {},
   "outputs": [
    {
     "name": "stdout",
     "output_type": "stream",
     "text": [
      "Accuracy: 0.9990067128806532\n"
     ]
    }
   ],
   "source": [
    "print('Accuracy: {}'.format(model.score(x_train, y_train)))"
   ]
  },
  {
   "cell_type": "code",
   "execution_count": 13,
   "metadata": {},
   "outputs": [
    {
     "data": {
      "text/plain": [
       "array([ -15.32270816, -129.7391101 ,  102.22966322,  200.44003412,\n",
       "       -233.14913305,   97.75088143,  244.27617319,   99.87514912,\n",
       "        208.76555175, -217.55127944])"
      ]
     },
     "execution_count": 13,
     "metadata": {},
     "output_type": "execute_result"
    }
   ],
   "source": [
    "y_pred = model.predict(x_test)\n",
    "y_pred[:10]"
   ]
  },
  {
   "cell_type": "code",
   "execution_count": 14,
   "metadata": {},
   "outputs": [
    {
     "data": {
      "text/plain": [
       "(42,)"
      ]
     },
     "execution_count": 14,
     "metadata": {},
     "output_type": "execute_result"
    }
   ],
   "source": [
    "y_test.shape"
   ]
  },
  {
   "cell_type": "code",
   "execution_count": 15,
   "metadata": {},
   "outputs": [
    {
     "data": {
      "text/plain": [
       "(42,)"
      ]
     },
     "execution_count": 15,
     "metadata": {},
     "output_type": "execute_result"
    }
   ],
   "source": [
    "y_pred.shape"
   ]
  },
  {
   "cell_type": "code",
   "execution_count": 16,
   "metadata": {},
   "outputs": [
    {
     "data": {
      "text/plain": [
       "4921.829721173698"
      ]
     },
     "execution_count": 16,
     "metadata": {},
     "output_type": "execute_result"
    }
   ],
   "source": [
    "mse = mean_squared_error(y_test, y_pred)\n",
    "answer1 = round(mse, 2)\n",
    "mse"
   ]
  },
  {
   "cell_type": "code",
   "execution_count": 17,
   "metadata": {},
   "outputs": [
    {
     "data": {
      "image/png": "[encoded data removed]",
      "text/plain": [
       "<Figure size 432x288 with 1 Axes>"
      ]
     },
     "metadata": {
      "needs_background": "light"
     },
     "output_type": "display_data"
    }
   ],
   "source": [
    "plt.figure(figsize = (6, 4))\n",
    "plt.scatter(y_pred, y_test)\n",
    "plt.xlabel('Predicted')\n",
    "plt.ylabel('Truth')\n",
    "\n",
    "plt.plot([-300, 300], [-400, 450], color = 'red')\n",
    "plt.tight_layout()"
   ]
  },
  {
   "cell_type": "markdown",
   "metadata": {},
   "source": [
    "Далее вам предлагается стандартизовать данные используя `StandardScaler` из `sklearn.preprocessing`. По своей сути операция стандартизации в данном случае представляет из себя вычитание среднего из матрицы признаков и деление на среднеквадратическое отклонение. \n",
    "\n",
    "<font color  = \"red\">Важно:</font> Сначала следует разбить выборку на тренировочную и тестовую и лишь потом стандартизировать их по отдельности. Помните, что к тренировочной выборке мы должны применять метод `fit_transform()`, а к тестовой только `transform()`. Как изменилось качество на тестовых данных? В `answer2` запишите значение среднеквадратической ошибки, округлённое с точностью до двух знаков после запятой."
   ]
  },
  {
   "cell_type": "code",
   "execution_count": 18,
   "metadata": {},
   "outputs": [],
   "source": [
    "from sklearn.preprocessing import StandardScaler\n",
    "\n",
    "\n",
    "sc = StandardScaler()\n",
    "x_train = sc.fit_transform(x_train)\n",
    "x_test = sc.transform(x_test)\n"
   ]
  },
  {
   "cell_type": "code",
   "execution_count": 19,
   "metadata": {},
   "outputs": [
    {
     "data": {
      "text/plain": [
       "Ridge(alpha=1.0, copy_X=True, fit_intercept=True, max_iter=None,\n",
       "      normalize=False, random_state=None, solver='auto', tol=0.001)"
      ]
     },
     "execution_count": 19,
     "metadata": {},
     "output_type": "execute_result"
    }
   ],
   "source": [
    "model2 = Ridge()\n",
    "model2.fit(x_train, y_train)"
   ]
  },
  {
   "cell_type": "code",
   "execution_count": 20,
   "metadata": {},
   "outputs": [
    {
     "name": "stdout",
     "output_type": "stream",
     "text": [
      "Accuracy: 0.9992784011276867\n"
     ]
    }
   ],
   "source": [
    "print('Accuracy: {}'.format(model2.score(x_train, y_train)))"
   ]
  },
  {
   "cell_type": "code",
   "execution_count": 21,
   "metadata": {},
   "outputs": [
    {
     "data": {
      "text/plain": [
       "array([ -29.05928558, -131.04450753,  130.49274591,  196.90577218,\n",
       "       -223.63282983,   88.34498911,  250.69710657,   95.56443307,\n",
       "        219.10385992, -225.68259752])"
      ]
     },
     "execution_count": 21,
     "metadata": {},
     "output_type": "execute_result"
    }
   ],
   "source": [
    "y_pred2 = model2.predict(x_test)\n",
    "y_pred2[:10]"
   ]
  },
  {
   "cell_type": "code",
   "execution_count": 22,
   "metadata": {},
   "outputs": [
    {
     "data": {
      "text/plain": [
       "(42,)"
      ]
     },
     "execution_count": 22,
     "metadata": {},
     "output_type": "execute_result"
    }
   ],
   "source": [
    "y_test.shape"
   ]
  },
  {
   "cell_type": "code",
   "execution_count": 27,
   "metadata": {},
   "outputs": [
    {
     "data": {
      "text/plain": [
       "(42,)"
      ]
     },
     "execution_count": 27,
     "metadata": {},
     "output_type": "execute_result"
    }
   ],
   "source": [
    "y_pred2.shape"
   ]
  },
  {
   "cell_type": "code",
   "execution_count": 24,
   "metadata": {},
   "outputs": [
    {
     "data": {
      "text/plain": [
       "4194.998953266731"
      ]
     },
     "execution_count": 24,
     "metadata": {},
     "output_type": "execute_result"
    }
   ],
   "source": [
    "mse2 = mean_squared_error(y_test, y_pred2)\n",
    "answer2 = mse2\n",
    "mse2"
   ]
  },
  {
   "cell_type": "code",
   "execution_count": 25,
   "metadata": {},
   "outputs": [
    {
     "data": {
      "image/png": "[encoded data removed]",
      "text/plain": [
       "<Figure size 432x288 with 1 Axes>"
      ]
     },
     "metadata": {
      "needs_background": "light"
     },
     "output_type": "display_data"
    }
   ],
   "source": [
    "plt.figure(figsize = (6, 4))\n",
    "plt.scatter(y_pred2, y_test)\n",
    "plt.xlabel('Predicted')\n",
    "plt.ylabel('Truth')\n",
    "\n",
    "plt.plot([-300, 300], [-400, 450], color = 'red')\n",
    "plt.tight_layout()"
   ]
  },
  {
   "cell_type": "markdown",
   "metadata": {},
   "source": [
    "## Строка с ответами"
   ]
  },
  {
   "cell_type": "code",
   "execution_count": 26,
   "metadata": {},
   "outputs": [
    {
     "name": "stdout",
     "output_type": "stream",
     "text": [
      "mse 1: 4921.83\n",
      "mse 2: 4195.00\n"
     ]
    }
   ],
   "source": [
    "print('mse 1: {0:.2f}\\nmse 2: {1:.2f}'.format(answer1, answer2))"
   ]
  }
 ],
 "metadata": {
  "kernelspec": {
   "display_name": "Python 3",
   "language": "python",
   "name": "python3"
  },
  "language_info": {
   "codemirror_mode": {
    "name": "ipython",
    "version": 3
   },
   "file_extension": ".py",
   "mimetype": "text/x-python",
   "name": "python",
   "nbconvert_exporter": "python",
   "pygments_lexer": "ipython3",
   "version": "3.7.1"
  }
 },
 "nbformat": 4,
 "nbformat_minor": 2
}
