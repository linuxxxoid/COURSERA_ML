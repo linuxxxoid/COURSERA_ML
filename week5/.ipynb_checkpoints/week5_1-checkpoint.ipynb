{
 "cells": [
  {
   "cell_type": "markdown",
   "metadata": {},
   "source": [
    "в TensoFrlow есть вычислительный граф, в который мы можем записывать определенные данные и добавлять операторы. Вычисляя наш граф, вычисляя определенный оператор, мы получаем результат. \n",
    "\n",
    "\n",
    "TensoFrlow позволяет вам описать вычислительный граф или Computational Graph, в который вы можете добавить данные и добавить какие-то операторы. Эти операторы могут передавать данные друг-другу. Операторы могут зависеть друг от друга. Таким образом, вы строите вычислительный граф, который приходит к определенному результату. Чтобы запустить этот граф вам нужно создать сессию и запустить граф в рамках сессии. Таким образом, вы можете обучать вашу модель. "
   ]
  },
  {
   "cell_type": "code",
   "execution_count": 13,
   "metadata": {},
   "outputs": [],
   "source": [
    "import tensorflow as tf"
   ]
  },
  {
   "cell_type": "code",
   "execution_count": 14,
   "metadata": {},
   "outputs": [],
   "source": [
    "tf.compat.v1.disable_eager_execution() # need to disable eager in TF2.x"
   ]
  },
  {
   "cell_type": "code",
   "execution_count": 15,
   "metadata": {},
   "outputs": [],
   "source": [
    "hello = tf.constant('Hello world!')"
   ]
  },
  {
   "cell_type": "code",
   "execution_count": 16,
   "metadata": {},
   "outputs": [
    {
     "name": "stdout",
     "output_type": "stream",
     "text": [
      "b'Hello world!'\n"
     ]
    }
   ],
   "source": [
    "sess = tf.compat.v1.Session()\n",
    "print(sess.run(hello))"
   ]
  },
  {
   "cell_type": "code",
   "execution_count": 17,
   "metadata": {},
   "outputs": [
    {
     "name": "stdout",
     "output_type": "stream",
     "text": [
      "30.0\n"
     ]
    }
   ],
   "source": [
    "tf.compat.v1.disable_eager_execution() # need to disable eager in TF2.x\n",
    "# Build a graph.\n",
    "a = tf.constant(5.0)\n",
    "b = tf.constant(6.0)\n",
    "c = a * b\n",
    "\n",
    "# Launch the graph in a session.\n",
    "sess = tf.compat.v1.Session()\n",
    "\n",
    "# Evaluate the tensor `c`.\n",
    "print(sess.run(c)) # prints 30.0\n"
   ]
  },
  {
   "cell_type": "markdown",
   "metadata": {},
   "source": [
    "Произведем вычислительные операции с графом."
   ]
  },
  {
   "cell_type": "code",
   "execution_count": 18,
   "metadata": {},
   "outputs": [
    {
     "name": "stdout",
     "output_type": "stream",
     "text": [
      "a = 2.0, b = 3.0, c = [1 2 3 4], d = [2 3 4 5]\n",
      "\n",
      "a + b = 5.0\n",
      "a * b = 6.0\n",
      "c + d = [3 5 7 9]\n",
      "c * d = [ 2  6 12 20]\n"
     ]
    }
   ],
   "source": [
    "a = tf.constant(2.0)\n",
    "b = tf.constant(3.0)\n",
    "c = tf.constant([1, 2, 3, 4])\n",
    "d = tf.constant([2, 3, 4, 5])\n",
    "\n",
    "with tf.compat.v1.Session() as sess:\n",
    "    print('a = {}, b = {}, c = {}, d = {}\\n'.format(\n",
    "        sess.run(a), sess.run(b), sess.run(c), sess.run(d)))\n",
    "    \n",
    "    print('a + b = {}\\n'\n",
    "         'a * b = {}'.format(sess.run(a + b), sess.run(a * b)))\n",
    "    print('c + d = {}\\n'\n",
    "         'c * d = {}'.format(sess.run(c + d), sess.run(c * d)))\n",
    "    "
   ]
  },
  {
   "cell_type": "markdown",
   "metadata": {},
   "source": [
    "placeholder говорит о том, что нужно добавить в вычислительный граф определенный объект, который потом получит свое значение в момент выполнения нашего графа"
   ]
  },
  {
   "cell_type": "code",
   "execution_count": 20,
   "metadata": {},
   "outputs": [],
   "source": [
    "a = tf.compat.v1.placeholder(tf.int16)\n",
    "b = tf.compat.v1.placeholder(tf.int16)"
   ]
  },
  {
   "cell_type": "code",
   "execution_count": 21,
   "metadata": {},
   "outputs": [],
   "source": [
    "add = tf.add(a, b)\n",
    "mul = tf.multiply(a, b)"
   ]
  },
  {
   "cell_type": "markdown",
   "metadata": {},
   "source": [
    "в рамках нашей сессии мы можем вычислять операции с помощью определенных функций, отдельных операторов"
   ]
  },
  {
   "cell_type": "code",
   "execution_count": 24,
   "metadata": {},
   "outputs": [
    {
     "name": "stdout",
     "output_type": "stream",
     "text": [
      "a + b = 4\n",
      "a * b = 56\n"
     ]
    }
   ],
   "source": [
    "with tf.compat.v1.Session() as sess:\n",
    "    # сюда записывается инфа о сессии в вычисл графе\n",
    "    writer = tf.compat.v1.summary.FileWriter('logs', sess.graph)\n",
    "    # запустив команду в консоли, увидим как выглядит вычисл граф\n",
    "    # > tensorboard --logdir logs/\n",
    "    \n",
    "    print('a + b = {}'.format(sess.run(add, feed_dict = {a: 3, b: 1})))\n",
    "    print('a * b = {}'.format(sess.run(mul, feed_dict = {a: 7, b: 8})))"
   ]
  },
  {
   "cell_type": "code",
   "execution_count": null,
   "metadata": {},
   "outputs": [],
   "source": []
  },
  {
   "cell_type": "code",
   "execution_count": 26,
   "metadata": {},
   "outputs": [],
   "source": [
    "import matplotlib.pyplot as plt\n",
    "import numpy as np\n",
    "\n",
    "%matplotlib inline"
   ]
  },
  {
   "cell_type": "markdown",
   "metadata": {},
   "source": [
    "создадим задачу регрессии\n",
    "\n",
    "с помощью функции make_regression, которая создает какой-то набор данных, который можно использовать для того, чтобы обучать нейронную сеть, обучать линейную регрессию, конечно же. "
   ]
  },
  {
   "cell_type": "code",
   "execution_count": null,
   "metadata": {},
   "outputs": [],
   "source": []
  },
  {
   "cell_type": "code",
   "execution_count": 34,
   "metadata": {},
   "outputs": [],
   "source": [
    "from sklearn.datasets import make_regression\n",
    "\n",
    "n_samples = 42\n",
    "\n",
    "x_train, y_train = make_regression(\n",
    "    n_samples = n_samples, n_features=1,\n",
    "    noise=15, random_state=7\n",
    ")"
   ]
  },
  {
   "cell_type": "code",
   "execution_count": 35,
   "metadata": {},
   "outputs": [],
   "source": [
    "# нормализуем, чтобы обучать нашу модель\n",
    "x_train = (x_train - x_train.mean()) / x_train.std()\n",
    "y_train = (y_train - y_train.mean()) / y_train.std()"
   ]
  },
  {
   "cell_type": "code",
   "execution_count": 36,
   "metadata": {},
   "outputs": [
    {
     "data": {
      "text/plain": [
       "array([[ 0.03264883],\n",
       "       [ 2.00453732],\n",
       "       [-0.09529635],\n",
       "       [-0.29220736],\n",
       "       [ 0.19354651]])"
      ]
     },
     "execution_count": 36,
     "metadata": {},
     "output_type": "execute_result"
    }
   ],
   "source": [
    "x_train[:5]"
   ]
  },
  {
   "cell_type": "markdown",
   "metadata": {},
   "source": [
    "Получились числа с определенным шумом, которые позволят нам провести определенную прямую в этих точках"
   ]
  },
  {
   "cell_type": "code",
   "execution_count": 37,
   "metadata": {},
   "outputs": [],
   "source": [
    "X = tf.compat.v1.placeholder('float')\n",
    "Y = tf.compat.v1.placeholder('float')\n",
    "\n",
    "W = tf.compat.v1.Variable(np.random.rand(), name = 'weight')\n",
    "b = tf.compat.v1.Variable(np.random.rand(), name = 'bias')"
   ]
  },
  {
   "cell_type": "markdown",
   "metadata": {},
   "source": [
    "здесь мы получаем какую-то вершину в графе (node), которая соответствует получению предсказаний\n",
    "эта вершина взаимодействует с предыдущими операциями"
   ]
  },
  {
   "cell_type": "code",
   "execution_count": 38,
   "metadata": {},
   "outputs": [],
   "source": [
    "prediction = tf.add(tf.multiply(X, W), b)"
   ]
  },
  {
   "cell_type": "markdown",
   "metadata": {},
   "source": [
    "learning_rate отвечает за то, как наша модель изменяет веса.\n",
    "\n",
    "learning_rate часто константа, есть определенные методы оптимизации, которые изменяют автоматически внутри себя learning_rate. Мы сделаем его placeholder-ом, чтобы мы могли передавать разные значения learning_rate. И, например, уменьшать его по мере обучения, часто это бывает полезным. \n",
    "\n",
    "Также мы определим функцию потерь с помощью стандартных операций TensorFlow. Здесь мы будем просто минимизировать квадратичную функцию ошибки. мы вычитаем предсказанное значение из нашего графа со значением корректных лейблов. И возводим в квадрат разницу. И говорим, что мы хотим уменьшать сумму квадратов этой разности. И нормируем мы на количество samples в нашей выборке.\n",
    "\n",
    "Обучаем с помощью градиентного спуска с определенным learning_rate и минимизируя функцию потерь"
   ]
  },
  {
   "cell_type": "code",
   "execution_count": 40,
   "metadata": {},
   "outputs": [],
   "source": [
    "learning_rate = tf.compat.v1.placeholder(tf.float32, shape = [])\n",
    "\n",
    "cost = tf.reduce_sum(tf.pow(prediction - Y, 2)) / n_samples #loss func\n",
    "\n",
    "optimizer = tf.compat.v1.train.GradientDescentOptimizer(learning_rate).minimize(cost)"
   ]
  },
  {
   "cell_type": "markdown",
   "metadata": {},
   "source": [
    "Инициализируем глобальные переменные, чтобы переменные variable приняли параметры, которые мы им указали."
   ]
  },
  {
   "cell_type": "code",
   "execution_count": 41,
   "metadata": {},
   "outputs": [],
   "source": [
    "init = tf.compat.v1.global_variables_initializer()"
   ]
  },
  {
   "cell_type": "markdown",
   "metadata": {},
   "source": [
    "- У нас есть сессия и есть наш вычислительный граф. \n",
    "\n",
    "- Чтобы нам обучить нашу модель, мы запускаем наш оптимизационный алгоритм на функции потерь. \n",
    "\n",
    "- Функция потерь определена так, что минимизирует нашу квадратичную ошибку предсказания.\n",
    "\n",
    "- Предсказание, в свою очередь, строится на основе линейной модели\n",
    "\n",
    "\n",
    "по мере наших эпох получать числа и обучать линейную регрессию. Чтобы ее обучить, нам нужно запустить сессию с оптимизатором, который будет оптимизировать заданную функцию потерь с заданным learning_rate. И будем передавать ему наши данные, на которых он будет обучаться. Здесь он будет обучаться на x и y batch с определенным learning_rate. И каждую сотую эпоху мы будем выводить отладочную информацию, для того чтобы понять, как хорошо наша модель обучается. "
   ]
  },
  {
   "cell_type": "code",
   "execution_count": 42,
   "metadata": {},
   "outputs": [
    {
     "name": "stdout",
     "output_type": "stream",
     "text": [
      "Epoch #0: cost = 81.21943664550781\n",
      "Epoch #100: cost = 67.6355972290039\n",
      "Epoch #200: cost = 67.46206665039062\n",
      "Epoch #300: cost = 67.3815689086914\n",
      "Epoch #400: cost = 67.34587097167969\n",
      "Epoch #500: cost = 67.32942962646484\n",
      "Epoch #600: cost = 67.32154083251953\n",
      "Epoch #700: cost = 67.31765747070312\n",
      "Epoch #800: cost = 67.3145523071289\n",
      "Epoch #900: cost = 67.31415557861328\n"
     ]
    }
   ],
   "source": [
    "epochs = 1000\n",
    "#получаем верх нашей сессии\n",
    "sess = tf.compat.v1.Session()\n",
    "#инициализируем переменные\n",
    "sess.run(init)\n",
    "\n",
    "lr = 0.1\n",
    "for epoch in range(epochs):\n",
    "    for (x_batch, y_batch) in zip(x_train, y_train):\n",
    "        sess.run(optimizer, feed_dict = {X: x_batch, Y: y_batch, learning_rate: lr})\n",
    "        \n",
    "    if epoch % 100 == 0:\n",
    "        lr /= 2\n",
    "        c = sess.run(cost, feed_dict = {X: x_train, Y: y_train})\n",
    "        print('Epoch #{}: cost = {}'.format(epoch, c))"
   ]
  },
  {
   "cell_type": "markdown",
   "metadata": {},
   "source": [
    "Модель обучилась, посмотрим, как хорошо она описала наши данные"
   ]
  },
  {
   "cell_type": "code",
   "execution_count": 43,
   "metadata": {},
   "outputs": [
    {
     "data": {
      "image/png": "[encoded data removed]",
      "text/plain": [
       "<Figure size 432x288 with 1 Axes>"
      ]
     },
     "metadata": {
      "needs_background": "light"
     },
     "output_type": "display_data"
    }
   ],
   "source": [
    "plt.plot(x_train, y_train, 'ro', label = 'Original data')\n",
    "plt.plot(x_train, sess.run(W) * x_train + sess.run(b), label = 'Fitted line')\n",
    "plt.legend()\n",
    "plt.show()"
   ]
  },
  {
   "cell_type": "code",
   "execution_count": 44,
   "metadata": {},
   "outputs": [],
   "source": [
    "sess.close()"
   ]
  }
 ],
 "metadata": {
  "kernelspec": {
   "display_name": "Python 3",
   "language": "python",
   "name": "python3"
  },
  "language_info": {
   "codemirror_mode": {
    "name": "ipython",
    "version": 3
   },
   "file_extension": ".py",
   "mimetype": "text/x-python",
   "name": "python",
   "nbconvert_exporter": "python",
   "pygments_lexer": "ipython3",
   "version": "3.7.1"
  }
 },
 "nbformat": 4,
 "nbformat_minor": 4
}
