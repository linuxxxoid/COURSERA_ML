{
  "nbformat": 4,
  "nbformat_minor": 0,
  "metadata": {
    "kernelspec": {
      "display_name": "Python 3",
      "language": "python",
      "name": "python3"
    },
    "language_info": {
      "codemirror_mode": {
        "name": "ipython",
        "version": 3
      },
      "file_extension": ".py",
      "mimetype": "text/x-python",
      "name": "python",
      "nbconvert_exporter": "python",
      "pygments_lexer": "ipython3",
      "version": "3.7.1"
    },
    "colab": {
      "name": "week6_course_work.ipynb",
      "provenance": [],
      "collapsed_sections": []
    },
    "accelerator": "GPU"
  },
  "cells": [
    {
      "cell_type": "markdown",
      "metadata": {
        "id": "oMiY6NKvYcuU",
        "colab_type": "text"
      },
      "source": [
        "В качестве итогового проекта вам предлагается решить задачу классификации на наборе данных Fashion-MNIST"
      ]
    },
    {
      "cell_type": "markdown",
      "metadata": {
        "id": "m_X4-fmdYcuV",
        "colab_type": "text"
      },
      "source": [
        "Fashion-MNIST – это датасет состоящий из 70000 черно-белых изображений одежды 28х28 пикселей каждое. 60000 из них содержатся в тренировочной выборке, и 10000 – в тестовой. "
      ]
    },
    {
      "cell_type": "markdown",
      "metadata": {
        "id": "dG4pP0PLYcuX",
        "colab_type": "text"
      },
      "source": [
        "### Загрузка данных\n",
        "\n",
        "Перед решением задачи классификации на приведенном наборе данных предлагается нормализовать данные. Датасет доступен для скачивания в формате CSV. В данном случае удобно использовать библиотеку Pandas для загрузки данных."
      ]
    },
    {
      "cell_type": "code",
      "metadata": {
        "id": "4jd0aDh_aiH7",
        "colab_type": "code",
        "colab": {
          "base_uri": "https://localhost:8080/",
          "height": 54
        },
        "outputId": "779b4d7c-5494-4272-87e2-adb2e378ae68"
      },
      "source": [
        "from google.colab import drive\n",
        "drive.mount('/content/drive')"
      ],
      "execution_count": null,
      "outputs": [
        {
          "output_type": "stream",
          "text": [
            "Drive already mounted at /content/drive; to attempt to forcibly remount, call drive.mount(\"/content/drive\", force_remount=True).\n"
          ],
          "name": "stdout"
        }
      ]
    },
    {
      "cell_type": "code",
      "metadata": {
        "id": "bzm4oIECYcua",
        "colab_type": "code",
        "colab": {}
      },
      "source": [
        "import pandas as pd\n",
        "import numpy as np\n",
        "import matplotlib.pyplot as plt\n",
        "%matplotlib inline"
      ],
      "execution_count": null,
      "outputs": []
    },
    {
      "cell_type": "code",
      "metadata": {
        "id": "YadZJFLHYcuf",
        "colab_type": "code",
        "colab": {}
      },
      "source": [
        "np.random.seed(7)"
      ],
      "execution_count": null,
      "outputs": []
    },
    {
      "cell_type": "code",
      "metadata": {
        "id": "V2ukmPM7Ycul",
        "colab_type": "code",
        "colab": {}
      },
      "source": [
        "train = pd.read_csv('/fashion-mnist_train.csv')\n",
        "test = pd.read_csv('/fashion-mnist_test.csv')"
      ],
      "execution_count": null,
      "outputs": []
    },
    {
      "cell_type": "code",
      "metadata": {
        "id": "HDl6ao2sYcup",
        "colab_type": "code",
        "colab": {}
      },
      "source": [
        "trainLabel = train.label\n",
        "testLabel = test.label\n",
        "trainSeq = train.drop('label', axis=1)\n",
        "testSeq = test.drop('label', axis=1)"
      ],
      "execution_count": null,
      "outputs": []
    },
    {
      "cell_type": "code",
      "metadata": {
        "id": "Uztgha9RYcus",
        "colab_type": "code",
        "colab": {
          "base_uri": "https://localhost:8080/",
          "height": 119
        },
        "outputId": "39e1c9a9-525e-49af-e3c3-1f77712b2954"
      },
      "source": [
        "trainLabel.head()"
      ],
      "execution_count": null,
      "outputs": [
        {
          "output_type": "execute_result",
          "data": {
            "text/plain": [
              "0    2\n",
              "1    9\n",
              "2    6\n",
              "3    0\n",
              "4    3\n",
              "Name: label, dtype: int64"
            ]
          },
          "metadata": {
            "tags": []
          },
          "execution_count": 21
        }
      ]
    },
    {
      "cell_type": "code",
      "metadata": {
        "id": "rJdRk-DtYcuw",
        "colab_type": "code",
        "colab": {
          "base_uri": "https://localhost:8080/",
          "height": 253
        },
        "outputId": "b8a3e5ba-564d-44db-d0b3-858fe3b4b374"
      },
      "source": [
        "trainSeq.head()"
      ],
      "execution_count": null,
      "outputs": [
        {
          "output_type": "execute_result",
          "data": {
            "text/html": [
              "<div>\n",
              "<style scoped>\n",
              "    .dataframe tbody tr th:only-of-type {\n",
              "        vertical-align: middle;\n",
              "    }\n",
              "\n",
              "    .dataframe tbody tr th {\n",
              "        vertical-align: top;\n",
              "    }\n",
              "\n",
              "    .dataframe thead th {\n",
              "        text-align: right;\n",
              "    }\n",
              "</style>\n",
              "<table border=\"1\" class=\"dataframe\">\n",
              "  <thead>\n",
              "    <tr style=\"text-align: right;\">\n",
              "      <th></th>\n",
              "      <th>pixel1</th>\n",
              "      <th>pixel2</th>\n",
              "      <th>pixel3</th>\n",
              "      <th>pixel4</th>\n",
              "      <th>pixel5</th>\n",
              "      <th>pixel6</th>\n",
              "      <th>pixel7</th>\n",
              "      <th>pixel8</th>\n",
              "      <th>pixel9</th>\n",
              "      <th>pixel10</th>\n",
              "      <th>pixel11</th>\n",
              "      <th>pixel12</th>\n",
              "      <th>pixel13</th>\n",
              "      <th>pixel14</th>\n",
              "      <th>pixel15</th>\n",
              "      <th>pixel16</th>\n",
              "      <th>pixel17</th>\n",
              "      <th>pixel18</th>\n",
              "      <th>pixel19</th>\n",
              "      <th>pixel20</th>\n",
              "      <th>pixel21</th>\n",
              "      <th>pixel22</th>\n",
              "      <th>pixel23</th>\n",
              "      <th>pixel24</th>\n",
              "      <th>pixel25</th>\n",
              "      <th>pixel26</th>\n",
              "      <th>pixel27</th>\n",
              "      <th>pixel28</th>\n",
              "      <th>pixel29</th>\n",
              "      <th>pixel30</th>\n",
              "      <th>pixel31</th>\n",
              "      <th>pixel32</th>\n",
              "      <th>pixel33</th>\n",
              "      <th>pixel34</th>\n",
              "      <th>pixel35</th>\n",
              "      <th>pixel36</th>\n",
              "      <th>pixel37</th>\n",
              "      <th>pixel38</th>\n",
              "      <th>pixel39</th>\n",
              "      <th>pixel40</th>\n",
              "      <th>...</th>\n",
              "      <th>pixel745</th>\n",
              "      <th>pixel746</th>\n",
              "      <th>pixel747</th>\n",
              "      <th>pixel748</th>\n",
              "      <th>pixel749</th>\n",
              "      <th>pixel750</th>\n",
              "      <th>pixel751</th>\n",
              "      <th>pixel752</th>\n",
              "      <th>pixel753</th>\n",
              "      <th>pixel754</th>\n",
              "      <th>pixel755</th>\n",
              "      <th>pixel756</th>\n",
              "      <th>pixel757</th>\n",
              "      <th>pixel758</th>\n",
              "      <th>pixel759</th>\n",
              "      <th>pixel760</th>\n",
              "      <th>pixel761</th>\n",
              "      <th>pixel762</th>\n",
              "      <th>pixel763</th>\n",
              "      <th>pixel764</th>\n",
              "      <th>pixel765</th>\n",
              "      <th>pixel766</th>\n",
              "      <th>pixel767</th>\n",
              "      <th>pixel768</th>\n",
              "      <th>pixel769</th>\n",
              "      <th>pixel770</th>\n",
              "      <th>pixel771</th>\n",
              "      <th>pixel772</th>\n",
              "      <th>pixel773</th>\n",
              "      <th>pixel774</th>\n",
              "      <th>pixel775</th>\n",
              "      <th>pixel776</th>\n",
              "      <th>pixel777</th>\n",
              "      <th>pixel778</th>\n",
              "      <th>pixel779</th>\n",
              "      <th>pixel780</th>\n",
              "      <th>pixel781</th>\n",
              "      <th>pixel782</th>\n",
              "      <th>pixel783</th>\n",
              "      <th>pixel784</th>\n",
              "    </tr>\n",
              "  </thead>\n",
              "  <tbody>\n",
              "    <tr>\n",
              "      <th>0</th>\n",
              "      <td>0</td>\n",
              "      <td>0</td>\n",
              "      <td>0</td>\n",
              "      <td>0</td>\n",
              "      <td>0</td>\n",
              "      <td>0</td>\n",
              "      <td>0</td>\n",
              "      <td>0</td>\n",
              "      <td>0</td>\n",
              "      <td>0</td>\n",
              "      <td>0</td>\n",
              "      <td>0</td>\n",
              "      <td>0</td>\n",
              "      <td>0</td>\n",
              "      <td>0</td>\n",
              "      <td>0</td>\n",
              "      <td>0</td>\n",
              "      <td>0</td>\n",
              "      <td>0</td>\n",
              "      <td>0</td>\n",
              "      <td>0</td>\n",
              "      <td>0</td>\n",
              "      <td>0</td>\n",
              "      <td>0</td>\n",
              "      <td>0</td>\n",
              "      <td>0</td>\n",
              "      <td>0</td>\n",
              "      <td>0</td>\n",
              "      <td>0</td>\n",
              "      <td>0</td>\n",
              "      <td>0</td>\n",
              "      <td>0</td>\n",
              "      <td>0</td>\n",
              "      <td>0</td>\n",
              "      <td>0</td>\n",
              "      <td>0</td>\n",
              "      <td>0</td>\n",
              "      <td>0</td>\n",
              "      <td>0</td>\n",
              "      <td>0</td>\n",
              "      <td>...</td>\n",
              "      <td>0.0</td>\n",
              "      <td>0.0</td>\n",
              "      <td>0.0</td>\n",
              "      <td>0.0</td>\n",
              "      <td>0.0</td>\n",
              "      <td>0.0</td>\n",
              "      <td>0.0</td>\n",
              "      <td>0.0</td>\n",
              "      <td>0.0</td>\n",
              "      <td>0.0</td>\n",
              "      <td>0.0</td>\n",
              "      <td>0.0</td>\n",
              "      <td>0.0</td>\n",
              "      <td>0.0</td>\n",
              "      <td>0.0</td>\n",
              "      <td>0.0</td>\n",
              "      <td>0.0</td>\n",
              "      <td>0.0</td>\n",
              "      <td>0.0</td>\n",
              "      <td>0.0</td>\n",
              "      <td>0.0</td>\n",
              "      <td>0.0</td>\n",
              "      <td>0.0</td>\n",
              "      <td>0.0</td>\n",
              "      <td>0.0</td>\n",
              "      <td>0.0</td>\n",
              "      <td>0.0</td>\n",
              "      <td>0.0</td>\n",
              "      <td>0.0</td>\n",
              "      <td>0.0</td>\n",
              "      <td>0.0</td>\n",
              "      <td>0.0</td>\n",
              "      <td>0.0</td>\n",
              "      <td>0.0</td>\n",
              "      <td>0.0</td>\n",
              "      <td>0.0</td>\n",
              "      <td>0.0</td>\n",
              "      <td>0.0</td>\n",
              "      <td>0.0</td>\n",
              "      <td>0.0</td>\n",
              "    </tr>\n",
              "    <tr>\n",
              "      <th>1</th>\n",
              "      <td>0</td>\n",
              "      <td>0</td>\n",
              "      <td>0</td>\n",
              "      <td>0</td>\n",
              "      <td>0</td>\n",
              "      <td>0</td>\n",
              "      <td>0</td>\n",
              "      <td>0</td>\n",
              "      <td>0</td>\n",
              "      <td>0</td>\n",
              "      <td>0</td>\n",
              "      <td>0</td>\n",
              "      <td>0</td>\n",
              "      <td>0</td>\n",
              "      <td>0</td>\n",
              "      <td>0</td>\n",
              "      <td>0</td>\n",
              "      <td>0</td>\n",
              "      <td>0</td>\n",
              "      <td>0</td>\n",
              "      <td>0</td>\n",
              "      <td>0</td>\n",
              "      <td>0</td>\n",
              "      <td>0</td>\n",
              "      <td>0</td>\n",
              "      <td>0</td>\n",
              "      <td>0</td>\n",
              "      <td>0</td>\n",
              "      <td>0</td>\n",
              "      <td>0</td>\n",
              "      <td>0</td>\n",
              "      <td>0</td>\n",
              "      <td>0</td>\n",
              "      <td>0</td>\n",
              "      <td>0</td>\n",
              "      <td>0</td>\n",
              "      <td>0</td>\n",
              "      <td>0</td>\n",
              "      <td>0</td>\n",
              "      <td>0</td>\n",
              "      <td>...</td>\n",
              "      <td>0.0</td>\n",
              "      <td>0.0</td>\n",
              "      <td>0.0</td>\n",
              "      <td>0.0</td>\n",
              "      <td>0.0</td>\n",
              "      <td>0.0</td>\n",
              "      <td>0.0</td>\n",
              "      <td>0.0</td>\n",
              "      <td>0.0</td>\n",
              "      <td>0.0</td>\n",
              "      <td>0.0</td>\n",
              "      <td>0.0</td>\n",
              "      <td>0.0</td>\n",
              "      <td>0.0</td>\n",
              "      <td>0.0</td>\n",
              "      <td>0.0</td>\n",
              "      <td>0.0</td>\n",
              "      <td>0.0</td>\n",
              "      <td>0.0</td>\n",
              "      <td>0.0</td>\n",
              "      <td>0.0</td>\n",
              "      <td>0.0</td>\n",
              "      <td>0.0</td>\n",
              "      <td>0.0</td>\n",
              "      <td>0.0</td>\n",
              "      <td>0.0</td>\n",
              "      <td>0.0</td>\n",
              "      <td>0.0</td>\n",
              "      <td>0.0</td>\n",
              "      <td>0.0</td>\n",
              "      <td>0.0</td>\n",
              "      <td>0.0</td>\n",
              "      <td>0.0</td>\n",
              "      <td>0.0</td>\n",
              "      <td>0.0</td>\n",
              "      <td>0.0</td>\n",
              "      <td>0.0</td>\n",
              "      <td>0.0</td>\n",
              "      <td>0.0</td>\n",
              "      <td>0.0</td>\n",
              "    </tr>\n",
              "    <tr>\n",
              "      <th>2</th>\n",
              "      <td>0</td>\n",
              "      <td>0</td>\n",
              "      <td>0</td>\n",
              "      <td>0</td>\n",
              "      <td>0</td>\n",
              "      <td>0</td>\n",
              "      <td>0</td>\n",
              "      <td>5</td>\n",
              "      <td>0</td>\n",
              "      <td>0</td>\n",
              "      <td>0</td>\n",
              "      <td>105</td>\n",
              "      <td>92</td>\n",
              "      <td>101</td>\n",
              "      <td>107</td>\n",
              "      <td>100</td>\n",
              "      <td>132</td>\n",
              "      <td>0</td>\n",
              "      <td>0</td>\n",
              "      <td>2</td>\n",
              "      <td>4</td>\n",
              "      <td>0</td>\n",
              "      <td>1</td>\n",
              "      <td>0</td>\n",
              "      <td>0</td>\n",
              "      <td>0</td>\n",
              "      <td>0</td>\n",
              "      <td>0</td>\n",
              "      <td>0</td>\n",
              "      <td>0</td>\n",
              "      <td>0</td>\n",
              "      <td>0</td>\n",
              "      <td>0</td>\n",
              "      <td>0</td>\n",
              "      <td>0</td>\n",
              "      <td>0</td>\n",
              "      <td>0</td>\n",
              "      <td>0</td>\n",
              "      <td>150</td>\n",
              "      <td>227</td>\n",
              "      <td>...</td>\n",
              "      <td>211.0</td>\n",
              "      <td>220.0</td>\n",
              "      <td>214.0</td>\n",
              "      <td>74.0</td>\n",
              "      <td>0.0</td>\n",
              "      <td>255.0</td>\n",
              "      <td>222.0</td>\n",
              "      <td>128.0</td>\n",
              "      <td>0.0</td>\n",
              "      <td>0.0</td>\n",
              "      <td>0.0</td>\n",
              "      <td>0.0</td>\n",
              "      <td>0.0</td>\n",
              "      <td>0.0</td>\n",
              "      <td>0.0</td>\n",
              "      <td>0.0</td>\n",
              "      <td>0.0</td>\n",
              "      <td>44.0</td>\n",
              "      <td>12.0</td>\n",
              "      <td>0.0</td>\n",
              "      <td>0.0</td>\n",
              "      <td>40.0</td>\n",
              "      <td>134.0</td>\n",
              "      <td>162.0</td>\n",
              "      <td>191.0</td>\n",
              "      <td>214.0</td>\n",
              "      <td>163.0</td>\n",
              "      <td>146.0</td>\n",
              "      <td>165.0</td>\n",
              "      <td>79.0</td>\n",
              "      <td>0.0</td>\n",
              "      <td>0.0</td>\n",
              "      <td>0.0</td>\n",
              "      <td>30.0</td>\n",
              "      <td>43.0</td>\n",
              "      <td>0.0</td>\n",
              "      <td>0.0</td>\n",
              "      <td>0.0</td>\n",
              "      <td>0.0</td>\n",
              "      <td>0.0</td>\n",
              "    </tr>\n",
              "    <tr>\n",
              "      <th>3</th>\n",
              "      <td>0</td>\n",
              "      <td>0</td>\n",
              "      <td>0</td>\n",
              "      <td>1</td>\n",
              "      <td>2</td>\n",
              "      <td>0</td>\n",
              "      <td>0</td>\n",
              "      <td>0</td>\n",
              "      <td>0</td>\n",
              "      <td>0</td>\n",
              "      <td>114</td>\n",
              "      <td>183</td>\n",
              "      <td>112</td>\n",
              "      <td>55</td>\n",
              "      <td>23</td>\n",
              "      <td>72</td>\n",
              "      <td>102</td>\n",
              "      <td>165</td>\n",
              "      <td>160</td>\n",
              "      <td>28</td>\n",
              "      <td>0</td>\n",
              "      <td>0</td>\n",
              "      <td>0</td>\n",
              "      <td>1</td>\n",
              "      <td>0</td>\n",
              "      <td>0</td>\n",
              "      <td>0</td>\n",
              "      <td>0</td>\n",
              "      <td>0</td>\n",
              "      <td>0</td>\n",
              "      <td>0</td>\n",
              "      <td>0</td>\n",
              "      <td>1</td>\n",
              "      <td>0</td>\n",
              "      <td>0</td>\n",
              "      <td>24</td>\n",
              "      <td>188</td>\n",
              "      <td>163</td>\n",
              "      <td>93</td>\n",
              "      <td>136</td>\n",
              "      <td>...</td>\n",
              "      <td>171.0</td>\n",
              "      <td>249.0</td>\n",
              "      <td>207.0</td>\n",
              "      <td>197.0</td>\n",
              "      <td>202.0</td>\n",
              "      <td>45.0</td>\n",
              "      <td>0.0</td>\n",
              "      <td>3.0</td>\n",
              "      <td>0.0</td>\n",
              "      <td>0.0</td>\n",
              "      <td>0.0</td>\n",
              "      <td>0.0</td>\n",
              "      <td>0.0</td>\n",
              "      <td>0.0</td>\n",
              "      <td>0.0</td>\n",
              "      <td>0.0</td>\n",
              "      <td>0.0</td>\n",
              "      <td>0.0</td>\n",
              "      <td>1.0</td>\n",
              "      <td>0.0</td>\n",
              "      <td>0.0</td>\n",
              "      <td>0.0</td>\n",
              "      <td>22.0</td>\n",
              "      <td>21.0</td>\n",
              "      <td>25.0</td>\n",
              "      <td>69.0</td>\n",
              "      <td>52.0</td>\n",
              "      <td>45.0</td>\n",
              "      <td>74.0</td>\n",
              "      <td>39.0</td>\n",
              "      <td>3.0</td>\n",
              "      <td>0.0</td>\n",
              "      <td>0.0</td>\n",
              "      <td>0.0</td>\n",
              "      <td>0.0</td>\n",
              "      <td>1.0</td>\n",
              "      <td>0.0</td>\n",
              "      <td>0.0</td>\n",
              "      <td>0.0</td>\n",
              "      <td>0.0</td>\n",
              "    </tr>\n",
              "    <tr>\n",
              "      <th>4</th>\n",
              "      <td>0</td>\n",
              "      <td>0</td>\n",
              "      <td>0</td>\n",
              "      <td>0</td>\n",
              "      <td>0</td>\n",
              "      <td>0</td>\n",
              "      <td>0</td>\n",
              "      <td>0</td>\n",
              "      <td>0</td>\n",
              "      <td>0</td>\n",
              "      <td>0</td>\n",
              "      <td>0</td>\n",
              "      <td>46</td>\n",
              "      <td>0</td>\n",
              "      <td>21</td>\n",
              "      <td>68</td>\n",
              "      <td>0</td>\n",
              "      <td>0</td>\n",
              "      <td>0</td>\n",
              "      <td>0</td>\n",
              "      <td>0</td>\n",
              "      <td>0</td>\n",
              "      <td>0</td>\n",
              "      <td>0</td>\n",
              "      <td>0</td>\n",
              "      <td>0</td>\n",
              "      <td>0</td>\n",
              "      <td>0</td>\n",
              "      <td>0</td>\n",
              "      <td>0</td>\n",
              "      <td>0</td>\n",
              "      <td>0</td>\n",
              "      <td>0</td>\n",
              "      <td>0</td>\n",
              "      <td>0</td>\n",
              "      <td>0</td>\n",
              "      <td>25</td>\n",
              "      <td>187</td>\n",
              "      <td>189</td>\n",
              "      <td>0</td>\n",
              "      <td>...</td>\n",
              "      <td>230.0</td>\n",
              "      <td>237.0</td>\n",
              "      <td>229.0</td>\n",
              "      <td>0.0</td>\n",
              "      <td>0.0</td>\n",
              "      <td>1.0</td>\n",
              "      <td>0.0</td>\n",
              "      <td>0.0</td>\n",
              "      <td>0.0</td>\n",
              "      <td>0.0</td>\n",
              "      <td>0.0</td>\n",
              "      <td>0.0</td>\n",
              "      <td>0.0</td>\n",
              "      <td>0.0</td>\n",
              "      <td>0.0</td>\n",
              "      <td>0.0</td>\n",
              "      <td>0.0</td>\n",
              "      <td>0.0</td>\n",
              "      <td>0.0</td>\n",
              "      <td>0.0</td>\n",
              "      <td>0.0</td>\n",
              "      <td>68.0</td>\n",
              "      <td>116.0</td>\n",
              "      <td>112.0</td>\n",
              "      <td>136.0</td>\n",
              "      <td>147.0</td>\n",
              "      <td>144.0</td>\n",
              "      <td>121.0</td>\n",
              "      <td>102.0</td>\n",
              "      <td>63.0</td>\n",
              "      <td>0.0</td>\n",
              "      <td>0.0</td>\n",
              "      <td>0.0</td>\n",
              "      <td>0.0</td>\n",
              "      <td>0.0</td>\n",
              "      <td>0.0</td>\n",
              "      <td>0.0</td>\n",
              "      <td>0.0</td>\n",
              "      <td>0.0</td>\n",
              "      <td>0.0</td>\n",
              "    </tr>\n",
              "  </tbody>\n",
              "</table>\n",
              "<p>5 rows × 784 columns</p>\n",
              "</div>"
            ],
            "text/plain": [
              "   pixel1  pixel2  pixel3  pixel4  ...  pixel781  pixel782  pixel783  pixel784\n",
              "0       0       0       0       0  ...       0.0       0.0       0.0       0.0\n",
              "1       0       0       0       0  ...       0.0       0.0       0.0       0.0\n",
              "2       0       0       0       0  ...       0.0       0.0       0.0       0.0\n",
              "3       0       0       0       1  ...       0.0       0.0       0.0       0.0\n",
              "4       0       0       0       0  ...       0.0       0.0       0.0       0.0\n",
              "\n",
              "[5 rows x 784 columns]"
            ]
          },
          "metadata": {
            "tags": []
          },
          "execution_count": 22
        }
      ]
    },
    {
      "cell_type": "code",
      "metadata": {
        "id": "RHyg7aCmYcu4",
        "colab_type": "code",
        "colab": {
          "base_uri": "https://localhost:8080/",
          "height": 34
        },
        "outputId": "73322990-5ac9-4896-a850-36b2f0f4a359"
      },
      "source": [
        "trainSeq.shape"
      ],
      "execution_count": null,
      "outputs": [
        {
          "output_type": "execute_result",
          "data": {
            "text/plain": [
              "(8052, 784)"
            ]
          },
          "metadata": {
            "tags": []
          },
          "execution_count": 23
        }
      ]
    },
    {
      "cell_type": "code",
      "metadata": {
        "id": "x2_v4mJZYcu7",
        "colab_type": "code",
        "colab": {
          "base_uri": "https://localhost:8080/",
          "height": 34
        },
        "outputId": "75c79894-4719-44d3-f5fd-80c3f4049882"
      },
      "source": [
        "testSeq.shape"
      ],
      "execution_count": null,
      "outputs": [
        {
          "output_type": "execute_result",
          "data": {
            "text/plain": [
              "(8039, 784)"
            ]
          },
          "metadata": {
            "tags": []
          },
          "execution_count": 24
        }
      ]
    },
    {
      "cell_type": "code",
      "metadata": {
        "id": "97-aEYbCYcu-",
        "colab_type": "code",
        "colab": {}
      },
      "source": [
        "trainSeq = np.array(trainSeq).reshape(-1, 28, 28, 1)"
      ],
      "execution_count": null,
      "outputs": []
    },
    {
      "cell_type": "code",
      "metadata": {
        "id": "AW95XH7YYcvC",
        "colab_type": "code",
        "colab": {}
      },
      "source": [
        "testSeq = np.array(testSeq).reshape(-1, 28, 28, 1)"
      ],
      "execution_count": null,
      "outputs": []
    },
    {
      "cell_type": "code",
      "metadata": {
        "id": "rRtB7gLhYcvF",
        "colab_type": "code",
        "colab": {
          "base_uri": "https://localhost:8080/",
          "height": 34
        },
        "outputId": "4dd44837-65ef-4187-a7cb-cf61b6002954"
      },
      "source": [
        "trainSeq.shape"
      ],
      "execution_count": null,
      "outputs": [
        {
          "output_type": "execute_result",
          "data": {
            "text/plain": [
              "(8052, 28, 28, 1)"
            ]
          },
          "metadata": {
            "tags": []
          },
          "execution_count": 27
        }
      ]
    },
    {
      "cell_type": "code",
      "metadata": {
        "id": "q1OzdXwdYcvI",
        "colab_type": "code",
        "colab": {
          "base_uri": "https://localhost:8080/",
          "height": 34
        },
        "outputId": "1c05c2c6-abe2-459a-bc8b-99bede28ec5d"
      },
      "source": [
        "testSeq.shape"
      ],
      "execution_count": null,
      "outputs": [
        {
          "output_type": "execute_result",
          "data": {
            "text/plain": [
              "(8039, 28, 28, 1)"
            ]
          },
          "metadata": {
            "tags": []
          },
          "execution_count": 28
        }
      ]
    },
    {
      "cell_type": "code",
      "metadata": {
        "id": "e6lJNbRVYcvK",
        "colab_type": "code",
        "colab": {}
      },
      "source": [
        "trainSeq = trainSeq / 255.0\n",
        "testSeq = testSeq / 255.0"
      ],
      "execution_count": null,
      "outputs": []
    },
    {
      "cell_type": "markdown",
      "metadata": {
        "id": "jT-xPZ85YcvP",
        "colab_type": "text"
      },
      "source": [
        "One-hot encoding"
      ]
    },
    {
      "cell_type": "code",
      "metadata": {
        "id": "vcPZWvqSYcvP",
        "colab_type": "code",
        "colab": {}
      },
      "source": [
        "from keras.utils.np_utils import to_categorical\n",
        "\n",
        "trainLabel = to_categorical(trainLabel, num_classes=10)\n",
        "testLabel = to_categorical(testLabel, num_classes=10)"
      ],
      "execution_count": null,
      "outputs": []
    },
    {
      "cell_type": "code",
      "metadata": {
        "id": "1HR5UbHAYcvS",
        "colab_type": "code",
        "colab": {
          "base_uri": "https://localhost:8080/",
          "height": 34
        },
        "outputId": "53cf585e-00e3-44b9-aaf9-793f457ea22b"
      },
      "source": [
        "trainLabel.shape"
      ],
      "execution_count": null,
      "outputs": [
        {
          "output_type": "execute_result",
          "data": {
            "text/plain": [
              "(8052, 10)"
            ]
          },
          "metadata": {
            "tags": []
          },
          "execution_count": 31
        }
      ]
    },
    {
      "cell_type": "code",
      "metadata": {
        "id": "V9KlVI70YcvU",
        "colab_type": "code",
        "colab": {
          "base_uri": "https://localhost:8080/",
          "height": 34
        },
        "outputId": "8babbb85-f8dd-45df-8791-cd383be6f4a5"
      },
      "source": [
        "testLabel.shape"
      ],
      "execution_count": null,
      "outputs": [
        {
          "output_type": "execute_result",
          "data": {
            "text/plain": [
              "(8039, 10)"
            ]
          },
          "metadata": {
            "tags": []
          },
          "execution_count": 32
        }
      ]
    },
    {
      "cell_type": "code",
      "metadata": {
        "id": "bwEtws-lYcvV",
        "colab_type": "code",
        "colab": {
          "base_uri": "https://localhost:8080/",
          "height": 136
        },
        "outputId": "8068986a-6e3c-47d3-fba0-264044c4e625"
      },
      "source": [
        "testLabel"
      ],
      "execution_count": null,
      "outputs": [
        {
          "output_type": "execute_result",
          "data": {
            "text/plain": [
              "array([[1., 0., 0., ..., 0., 0., 0.],\n",
              "       [0., 1., 0., ..., 0., 0., 0.],\n",
              "       [0., 0., 1., ..., 0., 0., 0.],\n",
              "       ...,\n",
              "       [0., 1., 0., ..., 0., 0., 0.],\n",
              "       [0., 0., 0., ..., 0., 0., 0.],\n",
              "       [0., 0., 0., ..., 0., 0., 1.]], dtype=float32)"
            ]
          },
          "metadata": {
            "tags": []
          },
          "execution_count": 33
        }
      ]
    },
    {
      "cell_type": "markdown",
      "metadata": {
        "id": "67_gfW9-YcvX",
        "colab_type": "text"
      },
      "source": [
        "### 1. Логистическая регрессия\n",
        "\n",
        "Для решения задачи классификации предлагается начать с использования логистической регрессии. В данном случае, количество признаков равно 28x28=784, так же мы имеем 60000 объектов в тренировочной выборке. Поэтому рекомендуется использовать tensorflow или keras для выполнения этого задания. Используйте стохастический градиентный спуск (stochastic gradient descent) в качестве алгоритма оптимизации.\n",
        "\n",
        "По своей сути, логистическая регрессия может быть реализована как нейронная сеть без скрытых слоев. В выходном слое содержится количество нейронов, равное количеству классов. В качестве функции активации выходного слоя следует использовать softmax.\n",
        "\n",
        "Обучите логистическую регрессию на тренировочной выборке и оцените качество на тестовой выборке используя метрику accuracy. Постройте график качества модели на валидационной выборке от количества эпох. Для этого вы можете использовать утилиту tensorboard."
      ]
    },
    {
      "cell_type": "code",
      "metadata": {
        "id": "_a5qhVQ0YcvX",
        "colab_type": "code",
        "colab": {}
      },
      "source": [
        "from tensorflow.keras.models import Sequential\n",
        "from tensorflow.keras.layers import Dense, Flatten\n",
        "from tensorflow.keras.optimizers import SGD"
      ],
      "execution_count": null,
      "outputs": []
    },
    {
      "cell_type": "code",
      "metadata": {
        "id": "LX5kccLoYcvb",
        "colab_type": "code",
        "colab": {}
      },
      "source": [
        "epochs = 30\n",
        "batchSize = 256\n",
        "learningRate = 0.001\n",
        "numClasses = 10"
      ],
      "execution_count": null,
      "outputs": []
    },
    {
      "cell_type": "code",
      "metadata": {
        "id": "coJI1P5qYcvc",
        "colab_type": "code",
        "colab": {}
      },
      "source": [
        "model1 = Sequential([\n",
        "    Flatten(input_shape=(28, 28, 1)),\n",
        "    Dense(numClasses, activation='softmax', use_bias=True)\n",
        "])"
      ],
      "execution_count": null,
      "outputs": []
    },
    {
      "cell_type": "code",
      "metadata": {
        "id": "xBuV8fR6Ycve",
        "colab_type": "code",
        "colab": {
          "base_uri": "https://localhost:8080/",
          "height": 221
        },
        "outputId": "d83a3a37-3e62-4c24-fd54-ce562799613a"
      },
      "source": [
        "optimizer = SGD(\n",
        "    learning_rate=0.01,\n",
        "    momentum=0.9,\n",
        "    nesterov=False,\n",
        "    name='SGD'\n",
        ")\n",
        "\n",
        "model1.compile(optimizer=optimizer,\n",
        "               loss='mse',\n",
        "               metrics=['accuracy'])\n",
        "\n",
        "model1.summary()"
      ],
      "execution_count": null,
      "outputs": [
        {
          "output_type": "stream",
          "text": [
            "Model: \"sequential\"\n",
            "_________________________________________________________________\n",
            "Layer (type)                 Output Shape              Param #   \n",
            "=================================================================\n",
            "flatten (Flatten)            (None, 784)               0         \n",
            "_________________________________________________________________\n",
            "dense (Dense)                (None, 10)                7850      \n",
            "=================================================================\n",
            "Total params: 7,850\n",
            "Trainable params: 7,850\n",
            "Non-trainable params: 0\n",
            "_________________________________________________________________\n"
          ],
          "name": "stdout"
        }
      ]
    },
    {
      "cell_type": "markdown",
      "metadata": {
        "id": "0_H8XYxuYcvg",
        "colab_type": "text"
      },
      "source": [
        "Keras может разделить часть обучающих данных в валидационный набор данных и оценивать производительность модели на этом валидационном наборе данных каждую эпоху при использовании параметра validation_split."
      ]
    },
    {
      "cell_type": "code",
      "metadata": {
        "id": "IFrdV_s4Ycvg",
        "colab_type": "code",
        "colab": {
          "base_uri": "https://localhost:8080/",
          "height": 1000
        },
        "outputId": "647bd192-b578-4f4e-bbf2-83ee4148c664"
      },
      "source": [
        "history1 = model1.fit(\n",
        "    trainSeq,\n",
        "    trainLabel,\n",
        "    batch_size=batchSize,\n",
        "    epochs=epochs,\n",
        "    validation_split=0.2\n",
        ")"
      ],
      "execution_count": null,
      "outputs": [
        {
          "output_type": "stream",
          "text": [
            "Epoch 1/30\n",
            "26/26 [==============================] - 0s 7ms/step - loss: 0.0918 - accuracy: 0.1110 - val_loss: nan - val_accuracy: 0.1477\n",
            "Epoch 2/30\n",
            "26/26 [==============================] - 0s 3ms/step - loss: 0.0875 - accuracy: 0.2130 - val_loss: nan - val_accuracy: 0.2880\n",
            "Epoch 3/30\n",
            "26/26 [==============================] - 0s 3ms/step - loss: 0.0840 - accuracy: 0.3017 - val_loss: nan - val_accuracy: 0.3364\n",
            "Epoch 4/30\n",
            "26/26 [==============================] - 0s 3ms/step - loss: 0.0811 - accuracy: 0.3335 - val_loss: nan - val_accuracy: 0.3774\n",
            "Epoch 5/30\n",
            "26/26 [==============================] - 0s 3ms/step - loss: 0.0785 - accuracy: 0.3796 - val_loss: nan - val_accuracy: 0.4153\n",
            "Epoch 6/30\n",
            "26/26 [==============================] - 0s 3ms/step - loss: 0.0760 - accuracy: 0.4237 - val_loss: nan - val_accuracy: 0.4482\n",
            "Epoch 7/30\n",
            "26/26 [==============================] - 0s 4ms/step - loss: 0.0736 - accuracy: 0.4465 - val_loss: nan - val_accuracy: 0.4662\n",
            "Epoch 8/30\n",
            "26/26 [==============================] - 0s 4ms/step - loss: 0.0712 - accuracy: 0.4650 - val_loss: nan - val_accuracy: 0.4891\n",
            "Epoch 9/30\n",
            "26/26 [==============================] - 0s 3ms/step - loss: 0.0691 - accuracy: 0.4891 - val_loss: nan - val_accuracy: 0.5115\n",
            "Epoch 10/30\n",
            "26/26 [==============================] - 0s 3ms/step - loss: 0.0671 - accuracy: 0.5106 - val_loss: nan - val_accuracy: 0.5258\n",
            "Epoch 11/30\n",
            "26/26 [==============================] - 0s 3ms/step - loss: 0.0652 - accuracy: 0.5283 - val_loss: nan - val_accuracy: 0.5345\n",
            "Epoch 12/30\n",
            "26/26 [==============================] - 0s 3ms/step - loss: 0.0634 - accuracy: 0.5394 - val_loss: nan - val_accuracy: 0.5556\n",
            "Epoch 13/30\n",
            "26/26 [==============================] - 0s 3ms/step - loss: 0.0617 - accuracy: 0.5571 - val_loss: nan - val_accuracy: 0.5673\n",
            "Epoch 14/30\n",
            "26/26 [==============================] - 0s 3ms/step - loss: 0.0601 - accuracy: 0.5730 - val_loss: nan - val_accuracy: 0.5860\n",
            "Epoch 15/30\n",
            "26/26 [==============================] - 0s 3ms/step - loss: 0.0585 - accuracy: 0.6010 - val_loss: nan - val_accuracy: 0.6108\n",
            "Epoch 16/30\n",
            "26/26 [==============================] - 0s 3ms/step - loss: 0.0571 - accuracy: 0.6244 - val_loss: nan - val_accuracy: 0.6232\n",
            "Epoch 17/30\n",
            "26/26 [==============================] - 0s 3ms/step - loss: 0.0558 - accuracy: 0.6355 - val_loss: nan - val_accuracy: 0.6363\n",
            "Epoch 18/30\n",
            "26/26 [==============================] - 0s 3ms/step - loss: 0.0546 - accuracy: 0.6474 - val_loss: nan - val_accuracy: 0.6406\n",
            "Epoch 19/30\n",
            "26/26 [==============================] - 0s 4ms/step - loss: 0.0535 - accuracy: 0.6549 - val_loss: nan - val_accuracy: 0.6480\n",
            "Epoch 20/30\n",
            "26/26 [==============================] - 0s 4ms/step - loss: 0.0525 - accuracy: 0.6587 - val_loss: nan - val_accuracy: 0.6561\n",
            "Epoch 21/30\n",
            "26/26 [==============================] - 0s 4ms/step - loss: 0.0516 - accuracy: 0.6626 - val_loss: nan - val_accuracy: 0.6574\n",
            "Epoch 22/30\n",
            "26/26 [==============================] - 0s 3ms/step - loss: 0.0508 - accuracy: 0.6670 - val_loss: nan - val_accuracy: 0.6586\n",
            "Epoch 23/30\n",
            "26/26 [==============================] - 0s 3ms/step - loss: 0.0500 - accuracy: 0.6699 - val_loss: nan - val_accuracy: 0.6642\n",
            "Epoch 24/30\n",
            "26/26 [==============================] - 0s 3ms/step - loss: 0.0493 - accuracy: 0.6727 - val_loss: nan - val_accuracy: 0.6623\n",
            "Epoch 25/30\n",
            "26/26 [==============================] - 0s 3ms/step - loss: 0.0487 - accuracy: 0.6768 - val_loss: nan - val_accuracy: 0.6691\n",
            "Epoch 26/30\n",
            "26/26 [==============================] - 0s 3ms/step - loss: 0.0480 - accuracy: 0.6788 - val_loss: nan - val_accuracy: 0.6735\n",
            "Epoch 27/30\n",
            "26/26 [==============================] - 0s 3ms/step - loss: 0.0475 - accuracy: 0.6817 - val_loss: nan - val_accuracy: 0.6754\n",
            "Epoch 28/30\n",
            "26/26 [==============================] - 0s 3ms/step - loss: 0.0469 - accuracy: 0.6864 - val_loss: nan - val_accuracy: 0.6772\n",
            "Epoch 29/30\n",
            "26/26 [==============================] - 0s 3ms/step - loss: 0.0464 - accuracy: 0.6879 - val_loss: nan - val_accuracy: 0.6766\n",
            "Epoch 30/30\n",
            "26/26 [==============================] - 0s 3ms/step - loss: 0.0459 - accuracy: 0.6915 - val_loss: nan - val_accuracy: 0.6816\n"
          ],
          "name": "stdout"
        }
      ]
    },
    {
      "cell_type": "code",
      "metadata": {
        "id": "f1XAqob0Ycvi",
        "colab_type": "code",
        "colab": {
          "base_uri": "https://localhost:8080/",
          "height": 51
        },
        "outputId": "aa4be17d-cd4a-4997-ac94-cdc1ddb77ef2"
      },
      "source": [
        "accuracy = model1.evaluate(testSeq, testLabel, verbose=2)\n",
        "print('Accuracy on test data: ', accuracy[1])"
      ],
      "execution_count": null,
      "outputs": [
        {
          "output_type": "stream",
          "text": [
            "252/252 - 0s - loss: nan - accuracy: 0.6816\n",
            "Accuracy on test data:  0.6815524101257324\n"
          ],
          "name": "stdout"
        }
      ]
    },
    {
      "cell_type": "code",
      "metadata": {
        "id": "zA9rISUMYcvl",
        "colab_type": "code",
        "colab": {
          "base_uri": "https://localhost:8080/",
          "height": 295
        },
        "outputId": "94b46751-cef2-4080-e067-053be4b37b3f"
      },
      "source": [
        "plt.plot(history1.history['accuracy'])\n",
        "plt.plot(history1.history['val_accuracy'])\n",
        "plt.title('Model accuracy')\n",
        "plt.ylabel('Accuracy')\n",
        "plt.xlabel('Epoch')\n",
        "plt.legend(['Train', 'Test'], loc='upper left')\n",
        "plt.show()"
      ],
      "execution_count": null,
      "outputs": [
        {
          "output_type": "display_data",
          "data": {
            "image/png": "[encoded data removed]",
            "text/plain": [
              "<Figure size 432x288 with 1 Axes>"
            ]
          },
          "metadata": {
            "tags": [],
            "needs_background": "light"
          }
        }
      ]
    },
    {
      "cell_type": "markdown",
      "metadata": {
        "id": "UkPfZLWpYcvn",
        "colab_type": "text"
      },
      "source": [
        "Качество на тестовой выборке составляет 68%. Модель сделала все возможное. Линейная регрессия направлена на поиск зависимости целевой переменной от одной или нескольких независимых переменных."
      ]
    },
    {
      "cell_type": "markdown",
      "metadata": {
        "id": "quiUzFE3Ycvn",
        "colab_type": "text"
      },
      "source": [
        "### 2. Полносвязная нейронная сеть\n",
        "\n",
        "Далее, попробуйте реализовать полносвязную нейронную сеть с несколькими скрытыми слоями. Обучите модель и посчитайте качество на тестовой выборке. Как оно изменилось в сравнении с логистической регрессией? Как вы можете объяснить этот результат?"
      ]
    },
    {
      "cell_type": "code",
      "metadata": {
        "id": "4Ts5zpZzYcvn",
        "colab_type": "code",
        "colab": {}
      },
      "source": [
        "from tensorflow.keras.layers import Dropout"
      ],
      "execution_count": null,
      "outputs": []
    },
    {
      "cell_type": "code",
      "metadata": {
        "id": "qQXa2zBqYcvv",
        "colab_type": "code",
        "colab": {
          "base_uri": "https://localhost:8080/",
          "height": 357
        },
        "outputId": "f9c51fc9-61d6-4d03-9248-94e32e5aa5f4"
      },
      "source": [
        "model2 = Sequential([\n",
        "    Flatten(input_shape=(28, 28, 1)),\n",
        "    Dense(512, activation='relu'),\n",
        "    Dropout(0.2),\n",
        "    Dense(256, activation='relu'),\n",
        "    Dropout(0.2),\n",
        "    Dense(numClasses, activation='softmax')\n",
        "])\n",
        "model2.summary()"
      ],
      "execution_count": null,
      "outputs": [
        {
          "output_type": "stream",
          "text": [
            "Model: \"sequential_1\"\n",
            "_________________________________________________________________\n",
            "Layer (type)                 Output Shape              Param #   \n",
            "=================================================================\n",
            "flatten_1 (Flatten)          (None, 784)               0         \n",
            "_________________________________________________________________\n",
            "dense_1 (Dense)              (None, 512)               401920    \n",
            "_________________________________________________________________\n",
            "dropout (Dropout)            (None, 512)               0         \n",
            "_________________________________________________________________\n",
            "dense_2 (Dense)              (None, 256)               131328    \n",
            "_________________________________________________________________\n",
            "dropout_1 (Dropout)          (None, 256)               0         \n",
            "_________________________________________________________________\n",
            "dense_3 (Dense)              (None, 10)                2570      \n",
            "=================================================================\n",
            "Total params: 535,818\n",
            "Trainable params: 535,818\n",
            "Non-trainable params: 0\n",
            "_________________________________________________________________\n"
          ],
          "name": "stdout"
        }
      ]
    },
    {
      "cell_type": "code",
      "metadata": {
        "id": "9nd6oTp7Ycvx",
        "colab_type": "code",
        "colab": {}
      },
      "source": [
        "model2.compile(\n",
        "    loss='categorical_crossentropy',\n",
        "    optimizer='adam',\n",
        "    metrics=['accuracy']\n",
        ")"
      ],
      "execution_count": null,
      "outputs": []
    },
    {
      "cell_type": "code",
      "metadata": {
        "id": "Uh6iuKx6Ycvz",
        "colab_type": "code",
        "colab": {
          "base_uri": "https://localhost:8080/",
          "height": 1000
        },
        "outputId": "3b31a2c0-be25-44f1-df1b-c3f960869865"
      },
      "source": [
        "history2 = model2.fit(\n",
        "    trainSeq,\n",
        "    trainLabel,\n",
        "    batch_size=batchSize,\n",
        "    epochs=epochs,\n",
        "    validation_split=0.2\n",
        ")"
      ],
      "execution_count": null,
      "outputs": [
        {
          "output_type": "stream",
          "text": [
            "Epoch 1/30\n",
            "26/26 [==============================] - 0s 8ms/step - loss: 1.0262 - accuracy: 0.6421 - val_loss: 0.6315 - val_accuracy: 0.7635\n",
            "Epoch 2/30\n",
            "26/26 [==============================] - 0s 4ms/step - loss: 0.6120 - accuracy: 0.7803 - val_loss: 0.5358 - val_accuracy: 0.8101\n",
            "Epoch 3/30\n",
            "26/26 [==============================] - 0s 4ms/step - loss: 0.5205 - accuracy: 0.8197 - val_loss: 0.4901 - val_accuracy: 0.8281\n",
            "Epoch 4/30\n",
            "26/26 [==============================] - 0s 4ms/step - loss: 0.4830 - accuracy: 0.8280 - val_loss: 0.4845 - val_accuracy: 0.8299\n",
            "Epoch 5/30\n",
            "26/26 [==============================] - 0s 4ms/step - loss: 0.4379 - accuracy: 0.8413 - val_loss: 0.4531 - val_accuracy: 0.8305\n",
            "Epoch 6/30\n",
            "26/26 [==============================] - 0s 4ms/step - loss: 0.4164 - accuracy: 0.8548 - val_loss: 0.4463 - val_accuracy: 0.8399\n",
            "Epoch 7/30\n",
            "26/26 [==============================] - 0s 4ms/step - loss: 0.4031 - accuracy: 0.8500 - val_loss: 0.4586 - val_accuracy: 0.8336\n",
            "Epoch 8/30\n",
            "26/26 [==============================] - 0s 4ms/step - loss: 0.3597 - accuracy: 0.8701 - val_loss: 0.4264 - val_accuracy: 0.8355\n",
            "Epoch 9/30\n",
            "26/26 [==============================] - 0s 4ms/step - loss: 0.3489 - accuracy: 0.8749 - val_loss: 0.4404 - val_accuracy: 0.8399\n",
            "Epoch 10/30\n",
            "26/26 [==============================] - 0s 4ms/step - loss: 0.3395 - accuracy: 0.8755 - val_loss: 0.4176 - val_accuracy: 0.8461\n",
            "Epoch 11/30\n",
            "26/26 [==============================] - 0s 4ms/step - loss: 0.3123 - accuracy: 0.8870 - val_loss: 0.4027 - val_accuracy: 0.8566\n",
            "Epoch 12/30\n",
            "26/26 [==============================] - 0s 4ms/step - loss: 0.3017 - accuracy: 0.8898 - val_loss: 0.4055 - val_accuracy: 0.8535\n",
            "Epoch 13/30\n",
            "26/26 [==============================] - 0s 4ms/step - loss: 0.2922 - accuracy: 0.8940 - val_loss: 0.4469 - val_accuracy: 0.8380\n",
            "Epoch 14/30\n",
            "26/26 [==============================] - 0s 4ms/step - loss: 0.2877 - accuracy: 0.8921 - val_loss: 0.4139 - val_accuracy: 0.8436\n",
            "Epoch 15/30\n",
            "26/26 [==============================] - 0s 4ms/step - loss: 0.2811 - accuracy: 0.8969 - val_loss: 0.4078 - val_accuracy: 0.8504\n",
            "Epoch 16/30\n",
            "26/26 [==============================] - 0s 4ms/step - loss: 0.2511 - accuracy: 0.9086 - val_loss: 0.4456 - val_accuracy: 0.8485\n",
            "Epoch 17/30\n",
            "26/26 [==============================] - 0s 4ms/step - loss: 0.2614 - accuracy: 0.9054 - val_loss: 0.4462 - val_accuracy: 0.8485\n",
            "Epoch 18/30\n",
            "26/26 [==============================] - 0s 4ms/step - loss: 0.2545 - accuracy: 0.9062 - val_loss: 0.4513 - val_accuracy: 0.8436\n",
            "Epoch 19/30\n",
            "26/26 [==============================] - 0s 4ms/step - loss: 0.2416 - accuracy: 0.9123 - val_loss: 0.4117 - val_accuracy: 0.8492\n",
            "Epoch 20/30\n",
            "26/26 [==============================] - 0s 4ms/step - loss: 0.2263 - accuracy: 0.9151 - val_loss: 0.4297 - val_accuracy: 0.8523\n",
            "Epoch 21/30\n",
            "26/26 [==============================] - 0s 4ms/step - loss: 0.2246 - accuracy: 0.9132 - val_loss: 0.5341 - val_accuracy: 0.8336\n",
            "Epoch 22/30\n",
            "26/26 [==============================] - 0s 4ms/step - loss: 0.2212 - accuracy: 0.9179 - val_loss: 0.4251 - val_accuracy: 0.8535\n",
            "Epoch 23/30\n",
            "26/26 [==============================] - 0s 4ms/step - loss: 0.1993 - accuracy: 0.9287 - val_loss: 0.3958 - val_accuracy: 0.8628\n",
            "Epoch 24/30\n",
            "26/26 [==============================] - 0s 4ms/step - loss: 0.2041 - accuracy: 0.9218 - val_loss: 0.4034 - val_accuracy: 0.8579\n",
            "Epoch 25/30\n",
            "26/26 [==============================] - 0s 4ms/step - loss: 0.2017 - accuracy: 0.9225 - val_loss: 0.4158 - val_accuracy: 0.8572\n",
            "Epoch 26/30\n",
            "26/26 [==============================] - 0s 4ms/step - loss: 0.1853 - accuracy: 0.9292 - val_loss: 0.3934 - val_accuracy: 0.8696\n",
            "Epoch 27/30\n",
            "26/26 [==============================] - 0s 4ms/step - loss: 0.1750 - accuracy: 0.9370 - val_loss: 0.4421 - val_accuracy: 0.8560\n",
            "Epoch 28/30\n",
            "26/26 [==============================] - 0s 4ms/step - loss: 0.1890 - accuracy: 0.9317 - val_loss: 0.4119 - val_accuracy: 0.8647\n",
            "Epoch 29/30\n",
            "26/26 [==============================] - 0s 4ms/step - loss: 0.1644 - accuracy: 0.9413 - val_loss: 0.4343 - val_accuracy: 0.8566\n",
            "Epoch 30/30\n",
            "26/26 [==============================] - 0s 4ms/step - loss: 0.1760 - accuracy: 0.9339 - val_loss: 0.5136 - val_accuracy: 0.8399\n"
          ],
          "name": "stdout"
        }
      ]
    },
    {
      "cell_type": "code",
      "metadata": {
        "id": "7rIIfpxkYcv1",
        "colab_type": "code",
        "colab": {
          "base_uri": "https://localhost:8080/",
          "height": 51
        },
        "outputId": "8ae62907-2e2e-4b15-e180-6fa2796c8e78"
      },
      "source": [
        "accuracy2 = model2.evaluate(testSeq, testLabel, verbose=2)\n",
        "print('Accuracy on test data: ', accuracy2[1])"
      ],
      "execution_count": null,
      "outputs": [
        {
          "output_type": "stream",
          "text": [
            "252/252 - 1s - loss: 0.5179 - accuracy: 0.8395\n",
            "Accuracy on test data:  0.8395322561264038\n"
          ],
          "name": "stdout"
        }
      ]
    },
    {
      "cell_type": "code",
      "metadata": {
        "id": "weyBdZzoYcv2",
        "colab_type": "code",
        "colab": {
          "base_uri": "https://localhost:8080/",
          "height": 295
        },
        "outputId": "95930e35-fd9d-46e9-eb48-b94c2de76227"
      },
      "source": [
        "plt.plot(history2.history['accuracy'])\n",
        "plt.plot(history2.history['val_accuracy'])\n",
        "plt.title('Model accuracy')\n",
        "plt.ylabel('Accuracy')\n",
        "plt.xlabel('Epoch')\n",
        "plt.legend(['Train', 'Test'], loc='upper left')\n",
        "plt.show()"
      ],
      "execution_count": null,
      "outputs": [
        {
          "output_type": "display_data",
          "data": {
            "image/png": "[encoded data removed]",
            "text/plain": [
              "<Figure size 432x288 with 1 Axes>"
            ]
          },
          "metadata": {
            "tags": [],
            "needs_background": "light"
          }
        }
      ]
    },
    {
      "cell_type": "markdown",
      "metadata": {
        "id": "L7O_l7mFYcv4",
        "colab_type": "text"
      },
      "source": [
        "Сейчас мы имеем дело с более серьезной нейросетью. Ее качество составляет 83%, что больше, чем качество, которое показала линейная регрессия. Здесь мы использовали оптимизатор Адам, который является некой оптимизацией стохастического градиентного спуска, также, чтобы предотвратить переобучение применили несколько слоев Dropout, при котором случайно выбранные нейроны игнорируются во время обучения."
      ]
    },
    {
      "cell_type": "markdown",
      "metadata": {
        "id": "lnLgOqRpYcv5",
        "colab_type": "text"
      },
      "source": [
        "### 3. Сверточная нейронная сеть\n",
        "\n",
        "После этого вам предлагается реализовать сверточную нейронную сеть. В данном случае лучше использовать готовые слои, которые предоставляют keras или tensorflow.\n",
        "\n",
        "Начните с модели с несколькими сверточными слоями. Так же рекомендуется использовать слои суб-дискретизации, например Max Pooling слои. Они понижают размерность сходных данных и выделяют наиболее важные признаки из данных. Посчитайте качество получившейся модели на тестовой выборке. Сравните полученные результаты с результатами полносвязной нейронной сети."
      ]
    },
    {
      "cell_type": "code",
      "metadata": {
        "id": "mjESuOB9Ycv5",
        "colab_type": "code",
        "colab": {}
      },
      "source": [
        "from tensorflow.keras.layers import Conv2D, MaxPooling2D"
      ],
      "execution_count": null,
      "outputs": []
    },
    {
      "cell_type": "code",
      "metadata": {
        "id": "Nnw1PfXjYcv6",
        "colab_type": "code",
        "colab": {
          "base_uri": "https://localhost:8080/",
          "height": 425
        },
        "outputId": "201d0648-7352-443c-c737-d42ad316fccd"
      },
      "source": [
        "model3 = Sequential([\n",
        "    Conv2D(32, kernel_size=(3, 3), padding='same',activation='relu', input_shape=(28, 28, 1)),\n",
        "    MaxPooling2D(pool_size=(2, 2)),\n",
        "    \n",
        "    Conv2D(64, kernel_size=(3, 3), padding='same',activation='relu'),\n",
        "    MaxPooling2D(pool_size=(2, 2)),\n",
        "\n",
        "    Flatten(),\n",
        "    Dense(512, activation='relu'),\n",
        "    Dropout(0.2),\n",
        "    Dense(numClasses, activation='softmax')\n",
        "])\n",
        "model3.summary()"
      ],
      "execution_count": null,
      "outputs": [
        {
          "output_type": "stream",
          "text": [
            "Model: \"sequential_2\"\n",
            "_________________________________________________________________\n",
            "Layer (type)                 Output Shape              Param #   \n",
            "=================================================================\n",
            "conv2d (Conv2D)              (None, 28, 28, 32)        320       \n",
            "_________________________________________________________________\n",
            "max_pooling2d (MaxPooling2D) (None, 14, 14, 32)        0         \n",
            "_________________________________________________________________\n",
            "conv2d_1 (Conv2D)            (None, 14, 14, 64)        18496     \n",
            "_________________________________________________________________\n",
            "max_pooling2d_1 (MaxPooling2 (None, 7, 7, 64)          0         \n",
            "_________________________________________________________________\n",
            "flatten_2 (Flatten)          (None, 3136)              0         \n",
            "_________________________________________________________________\n",
            "dense_4 (Dense)              (None, 512)               1606144   \n",
            "_________________________________________________________________\n",
            "dropout_2 (Dropout)          (None, 512)               0         \n",
            "_________________________________________________________________\n",
            "dense_5 (Dense)              (None, 10)                5130      \n",
            "=================================================================\n",
            "Total params: 1,630,090\n",
            "Trainable params: 1,630,090\n",
            "Non-trainable params: 0\n",
            "_________________________________________________________________\n"
          ],
          "name": "stdout"
        }
      ]
    },
    {
      "cell_type": "code",
      "metadata": {
        "id": "q20pl_VHYcv8",
        "colab_type": "code",
        "colab": {}
      },
      "source": [
        "model3.compile(\n",
        "    loss='categorical_crossentropy',\n",
        "    optimizer='adam',\n",
        "    metrics=['accuracy']\n",
        ")"
      ],
      "execution_count": null,
      "outputs": []
    },
    {
      "cell_type": "code",
      "metadata": {
        "id": "-fFU8uxGYcv9",
        "colab_type": "code",
        "colab": {
          "base_uri": "https://localhost:8080/",
          "height": 1000
        },
        "outputId": "695e511f-f475-4398-977c-cbb47a1c9cdd"
      },
      "source": [
        "history3 = model3.fit(\n",
        "    trainSeq,\n",
        "    trainLabel,\n",
        "    batch_size=batchSize,\n",
        "    epochs=epochs,\n",
        "    validation_split=0.2\n",
        ")"
      ],
      "execution_count": null,
      "outputs": [
        {
          "output_type": "stream",
          "text": [
            "Epoch 1/30\n",
            "26/26 [==============================] - 0s 16ms/step - loss: 1.0652 - accuracy: 0.6207 - val_loss: 0.6483 - val_accuracy: 0.7623\n",
            "Epoch 2/30\n",
            "26/26 [==============================] - 0s 8ms/step - loss: 0.6036 - accuracy: 0.7797 - val_loss: 0.5303 - val_accuracy: 0.7983\n",
            "Epoch 3/30\n",
            "26/26 [==============================] - 0s 8ms/step - loss: 0.5222 - accuracy: 0.8042 - val_loss: 0.4537 - val_accuracy: 0.8367\n",
            "Epoch 4/30\n",
            "26/26 [==============================] - 0s 8ms/step - loss: 0.4684 - accuracy: 0.8258 - val_loss: 0.4300 - val_accuracy: 0.8405\n",
            "Epoch 5/30\n",
            "26/26 [==============================] - 0s 9ms/step - loss: 0.4139 - accuracy: 0.8520 - val_loss: 0.4024 - val_accuracy: 0.8485\n",
            "Epoch 6/30\n",
            "26/26 [==============================] - 0s 8ms/step - loss: 0.3743 - accuracy: 0.8593 - val_loss: 0.3847 - val_accuracy: 0.8560\n",
            "Epoch 7/30\n",
            "26/26 [==============================] - 0s 8ms/step - loss: 0.3491 - accuracy: 0.8649 - val_loss: 0.3962 - val_accuracy: 0.8479\n",
            "Epoch 8/30\n",
            "26/26 [==============================] - 0s 8ms/step - loss: 0.3369 - accuracy: 0.8761 - val_loss: 0.3603 - val_accuracy: 0.8684\n",
            "Epoch 9/30\n",
            "26/26 [==============================] - 0s 9ms/step - loss: 0.3028 - accuracy: 0.8882 - val_loss: 0.3444 - val_accuracy: 0.8721\n",
            "Epoch 10/30\n",
            "26/26 [==============================] - 0s 9ms/step - loss: 0.3027 - accuracy: 0.8859 - val_loss: 0.4048 - val_accuracy: 0.8547\n",
            "Epoch 11/30\n",
            "26/26 [==============================] - 0s 9ms/step - loss: 0.3000 - accuracy: 0.8845 - val_loss: 0.3515 - val_accuracy: 0.8641\n",
            "Epoch 12/30\n",
            "26/26 [==============================] - 0s 9ms/step - loss: 0.2667 - accuracy: 0.9016 - val_loss: 0.3283 - val_accuracy: 0.8771\n",
            "Epoch 13/30\n",
            "26/26 [==============================] - 0s 9ms/step - loss: 0.2504 - accuracy: 0.9079 - val_loss: 0.3518 - val_accuracy: 0.8759\n",
            "Epoch 14/30\n",
            "26/26 [==============================] - 0s 9ms/step - loss: 0.2332 - accuracy: 0.9166 - val_loss: 0.4075 - val_accuracy: 0.8547\n",
            "Epoch 15/30\n",
            "26/26 [==============================] - 0s 8ms/step - loss: 0.2392 - accuracy: 0.9061 - val_loss: 0.3466 - val_accuracy: 0.8752\n",
            "Epoch 16/30\n",
            "26/26 [==============================] - 0s 8ms/step - loss: 0.2120 - accuracy: 0.9247 - val_loss: 0.3369 - val_accuracy: 0.8740\n",
            "Epoch 17/30\n",
            "26/26 [==============================] - 0s 8ms/step - loss: 0.2042 - accuracy: 0.9238 - val_loss: 0.3196 - val_accuracy: 0.8814\n",
            "Epoch 18/30\n",
            "26/26 [==============================] - 0s 8ms/step - loss: 0.1913 - accuracy: 0.9317 - val_loss: 0.3469 - val_accuracy: 0.8783\n",
            "Epoch 19/30\n",
            "26/26 [==============================] - 0s 8ms/step - loss: 0.1912 - accuracy: 0.9301 - val_loss: 0.3231 - val_accuracy: 0.8883\n",
            "Epoch 20/30\n",
            "26/26 [==============================] - 0s 8ms/step - loss: 0.1760 - accuracy: 0.9373 - val_loss: 0.3194 - val_accuracy: 0.8883\n",
            "Epoch 21/30\n",
            "26/26 [==============================] - 0s 8ms/step - loss: 0.1541 - accuracy: 0.9471 - val_loss: 0.3454 - val_accuracy: 0.8827\n",
            "Epoch 22/30\n",
            "26/26 [==============================] - 0s 8ms/step - loss: 0.1585 - accuracy: 0.9433 - val_loss: 0.3429 - val_accuracy: 0.8827\n",
            "Epoch 23/30\n",
            "26/26 [==============================] - 0s 8ms/step - loss: 0.1456 - accuracy: 0.9460 - val_loss: 0.3347 - val_accuracy: 0.8852\n",
            "Epoch 24/30\n",
            "26/26 [==============================] - 0s 8ms/step - loss: 0.1325 - accuracy: 0.9499 - val_loss: 0.3235 - val_accuracy: 0.8914\n",
            "Epoch 25/30\n",
            "26/26 [==============================] - 0s 8ms/step - loss: 0.1314 - accuracy: 0.9542 - val_loss: 0.3489 - val_accuracy: 0.8895\n",
            "Epoch 26/30\n",
            "26/26 [==============================] - 0s 8ms/step - loss: 0.1160 - accuracy: 0.9596 - val_loss: 0.3433 - val_accuracy: 0.8932\n",
            "Epoch 27/30\n",
            "26/26 [==============================] - 0s 8ms/step - loss: 0.1063 - accuracy: 0.9620 - val_loss: 0.3504 - val_accuracy: 0.8963\n",
            "Epoch 28/30\n",
            "26/26 [==============================] - 0s 9ms/step - loss: 0.1058 - accuracy: 0.9629 - val_loss: 0.3676 - val_accuracy: 0.8827\n",
            "Epoch 29/30\n",
            "26/26 [==============================] - 0s 8ms/step - loss: 0.1099 - accuracy: 0.9601 - val_loss: 0.3538 - val_accuracy: 0.8845\n",
            "Epoch 30/30\n",
            "26/26 [==============================] - 0s 8ms/step - loss: 0.1197 - accuracy: 0.9547 - val_loss: 0.3699 - val_accuracy: 0.8796\n"
          ],
          "name": "stdout"
        }
      ]
    },
    {
      "cell_type": "code",
      "metadata": {
        "id": "FFkXPK4KYcv-",
        "colab_type": "code",
        "colab": {
          "base_uri": "https://localhost:8080/",
          "height": 51
        },
        "outputId": "3246799c-1cf1-44aa-ad49-69154d036f63"
      },
      "source": [
        "accuracy3 = model3.evaluate(testSeq, testLabel, verbose=2)\n",
        "print('Accuracy on test data: ', accuracy3[1])"
      ],
      "execution_count": null,
      "outputs": [
        {
          "output_type": "stream",
          "text": [
            "252/252 - 1s - loss: 0.3850 - accuracy: 0.8815\n",
            "Accuracy on test data:  0.8814529180526733\n"
          ],
          "name": "stdout"
        }
      ]
    },
    {
      "cell_type": "code",
      "metadata": {
        "id": "T-NdYj84YcwB",
        "colab_type": "code",
        "colab": {
          "base_uri": "https://localhost:8080/",
          "height": 295
        },
        "outputId": "89ead13d-d7bd-4028-8651-be0493298ce5"
      },
      "source": [
        "plt.plot(history3.history['accuracy'])\n",
        "plt.plot(history3.history['val_accuracy'])\n",
        "plt.title('Model accuracy')\n",
        "plt.ylabel('Accuracy')\n",
        "plt.xlabel('Epoch')\n",
        "plt.legend(['Train', 'Test'], loc='upper left')\n",
        "plt.show()"
      ],
      "execution_count": null,
      "outputs": [
        {
          "output_type": "display_data",
          "data": {
            "image/png": "[encoded data removed]",
            "text/plain": [
              "<Figure size 432x288 with 1 Axes>"
            ]
          },
          "metadata": {
            "tags": [],
            "needs_background": "light"
          }
        }
      ]
    },
    {
      "cell_type": "markdown",
      "metadata": {
        "id": "udyXls6AYcwC",
        "colab_type": "text"
      },
      "source": [
        "По сравнению с обычной полносвязной нейронной сетью эта нейросетка показала лучшие результаты. Качество в 88% против 83%. Также хотелось бы отметить, что сверточная сеть достигла качества в 88% уже на 17 эпохе, в то время как полносвязная нейросеть показывала 84% на этой же эпохе. "
      ]
    },
    {
      "cell_type": "markdown",
      "metadata": {
        "id": "fzlUr6iMYcwC",
        "colab_type": "text"
      },
      "source": [
        "\n",
        "Далее, попробуйте увеличить количество слоев в вашей нейронной сети. Достаточно добавить несколько новых сверточных слоев. Проанализируете, как изменилось качество в этом случае.\n"
      ]
    },
    {
      "cell_type": "code",
      "metadata": {
        "id": "QU6timuFYcwC",
        "colab_type": "code",
        "colab": {
          "base_uri": "https://localhost:8080/",
          "height": 561
        },
        "outputId": "7cd989f9-7319-4829-85ab-cde908c784d6"
      },
      "source": [
        "model4 = Sequential([\n",
        "    Conv2D(32, kernel_size=(3, 3), padding='same',activation='relu', input_shape=(28, 28, 1)),\n",
        "    MaxPooling2D(pool_size=(2, 2)),\n",
        "    \n",
        "    Conv2D(64, kernel_size=(3, 3), padding='same',activation='relu'),\n",
        "    MaxPooling2D(pool_size=(2, 2)),\n",
        "    \n",
        "    Conv2D(124, kernel_size=(3, 3), padding='same',activation='relu'),\n",
        "    MaxPooling2D(pool_size=(2, 2)),\n",
        "    \n",
        "    Conv2D(256, kernel_size=(3, 3), padding='same',activation='relu'),\n",
        "    MaxPooling2D(pool_size=(2, 2)),\n",
        "\n",
        "\n",
        "    Flatten(),\n",
        "    Dense(512, activation='relu'),\n",
        "    Dropout(0.2),\n",
        "    Dense(numClasses, activation='softmax')\n",
        "])\n",
        "model4.summary()"
      ],
      "execution_count": null,
      "outputs": [
        {
          "output_type": "stream",
          "text": [
            "Model: \"sequential_3\"\n",
            "_________________________________________________________________\n",
            "Layer (type)                 Output Shape              Param #   \n",
            "=================================================================\n",
            "conv2d_2 (Conv2D)            (None, 28, 28, 32)        320       \n",
            "_________________________________________________________________\n",
            "max_pooling2d_2 (MaxPooling2 (None, 14, 14, 32)        0         \n",
            "_________________________________________________________________\n",
            "conv2d_3 (Conv2D)            (None, 14, 14, 64)        18496     \n",
            "_________________________________________________________________\n",
            "max_pooling2d_3 (MaxPooling2 (None, 7, 7, 64)          0         \n",
            "_________________________________________________________________\n",
            "conv2d_4 (Conv2D)            (None, 7, 7, 124)         71548     \n",
            "_________________________________________________________________\n",
            "max_pooling2d_4 (MaxPooling2 (None, 3, 3, 124)         0         \n",
            "_________________________________________________________________\n",
            "conv2d_5 (Conv2D)            (None, 3, 3, 256)         285952    \n",
            "_________________________________________________________________\n",
            "max_pooling2d_5 (MaxPooling2 (None, 1, 1, 256)         0         \n",
            "_________________________________________________________________\n",
            "flatten_3 (Flatten)          (None, 256)               0         \n",
            "_________________________________________________________________\n",
            "dense_6 (Dense)              (None, 512)               131584    \n",
            "_________________________________________________________________\n",
            "dropout_3 (Dropout)          (None, 512)               0         \n",
            "_________________________________________________________________\n",
            "dense_7 (Dense)              (None, 10)                5130      \n",
            "=================================================================\n",
            "Total params: 513,030\n",
            "Trainable params: 513,030\n",
            "Non-trainable params: 0\n",
            "_________________________________________________________________\n"
          ],
          "name": "stdout"
        }
      ]
    },
    {
      "cell_type": "code",
      "metadata": {
        "id": "aUMlZAMCYcwE",
        "colab_type": "code",
        "colab": {}
      },
      "source": [
        "model4.compile(\n",
        "    loss='categorical_crossentropy',\n",
        "    optimizer='adam',\n",
        "    metrics=['accuracy']\n",
        ")"
      ],
      "execution_count": null,
      "outputs": []
    },
    {
      "cell_type": "code",
      "metadata": {
        "id": "2V9sEEdkYcwF",
        "colab_type": "code",
        "colab": {
          "base_uri": "https://localhost:8080/",
          "height": 1000
        },
        "outputId": "b4700eaf-8ab8-46b7-f61b-5012916e0ba6"
      },
      "source": [
        "history4 = model4.fit(\n",
        "    trainSeq,\n",
        "    trainLabel,\n",
        "    batch_size=batchSize,\n",
        "    epochs=epochs,\n",
        "    validation_split=0.2\n",
        ")"
      ],
      "execution_count": null,
      "outputs": [
        {
          "output_type": "stream",
          "text": [
            "Epoch 1/30\n",
            "26/26 [==============================] - 0s 19ms/step - loss: 1.5420 - accuracy: 0.4102 - val_loss: 0.9662 - val_accuracy: 0.6027\n",
            "Epoch 2/30\n",
            "26/26 [==============================] - 0s 11ms/step - loss: 0.8332 - accuracy: 0.6841 - val_loss: 0.7142 - val_accuracy: 0.7325\n",
            "Epoch 3/30\n",
            "26/26 [==============================] - 0s 11ms/step - loss: 0.6911 - accuracy: 0.7384 - val_loss: 0.5901 - val_accuracy: 0.7697\n",
            "Epoch 4/30\n",
            "26/26 [==============================] - 0s 11ms/step - loss: 0.5913 - accuracy: 0.7755 - val_loss: 0.5462 - val_accuracy: 0.7840\n",
            "Epoch 5/30\n",
            "26/26 [==============================] - 0s 11ms/step - loss: 0.5265 - accuracy: 0.8048 - val_loss: 0.5037 - val_accuracy: 0.8032\n",
            "Epoch 6/30\n",
            "26/26 [==============================] - 0s 11ms/step - loss: 0.4833 - accuracy: 0.8190 - val_loss: 0.4698 - val_accuracy: 0.8293\n",
            "Epoch 7/30\n",
            "26/26 [==============================] - 0s 11ms/step - loss: 0.4664 - accuracy: 0.8267 - val_loss: 0.4489 - val_accuracy: 0.8287\n",
            "Epoch 8/30\n",
            "26/26 [==============================] - 0s 11ms/step - loss: 0.4266 - accuracy: 0.8429 - val_loss: 0.4375 - val_accuracy: 0.8299\n",
            "Epoch 9/30\n",
            "26/26 [==============================] - 0s 11ms/step - loss: 0.3805 - accuracy: 0.8562 - val_loss: 0.4095 - val_accuracy: 0.8516\n",
            "Epoch 10/30\n",
            "26/26 [==============================] - 0s 11ms/step - loss: 0.3726 - accuracy: 0.8558 - val_loss: 0.3924 - val_accuracy: 0.8510\n",
            "Epoch 11/30\n",
            "26/26 [==============================] - 0s 11ms/step - loss: 0.3375 - accuracy: 0.8714 - val_loss: 0.3750 - val_accuracy: 0.8616\n",
            "Epoch 12/30\n",
            "26/26 [==============================] - 0s 11ms/step - loss: 0.3235 - accuracy: 0.8792 - val_loss: 0.3799 - val_accuracy: 0.8597\n",
            "Epoch 13/30\n",
            "26/26 [==============================] - 0s 11ms/step - loss: 0.3071 - accuracy: 0.8854 - val_loss: 0.3828 - val_accuracy: 0.8634\n",
            "Epoch 14/30\n",
            "26/26 [==============================] - 0s 11ms/step - loss: 0.2855 - accuracy: 0.8919 - val_loss: 0.3562 - val_accuracy: 0.8659\n",
            "Epoch 15/30\n",
            "26/26 [==============================] - 0s 11ms/step - loss: 0.2773 - accuracy: 0.8963 - val_loss: 0.4162 - val_accuracy: 0.8535\n",
            "Epoch 16/30\n",
            "26/26 [==============================] - 0s 11ms/step - loss: 0.2702 - accuracy: 0.8961 - val_loss: 0.4062 - val_accuracy: 0.8485\n",
            "Epoch 17/30\n",
            "26/26 [==============================] - 0s 11ms/step - loss: 0.2679 - accuracy: 0.8963 - val_loss: 0.3369 - val_accuracy: 0.8802\n",
            "Epoch 18/30\n",
            "26/26 [==============================] - 0s 11ms/step - loss: 0.2268 - accuracy: 0.9159 - val_loss: 0.3732 - val_accuracy: 0.8759\n",
            "Epoch 19/30\n",
            "26/26 [==============================] - 0s 11ms/step - loss: 0.2257 - accuracy: 0.9140 - val_loss: 0.3603 - val_accuracy: 0.8734\n",
            "Epoch 20/30\n",
            "26/26 [==============================] - 0s 11ms/step - loss: 0.2217 - accuracy: 0.9171 - val_loss: 0.3282 - val_accuracy: 0.8821\n",
            "Epoch 21/30\n",
            "26/26 [==============================] - 0s 11ms/step - loss: 0.2006 - accuracy: 0.9235 - val_loss: 0.3382 - val_accuracy: 0.8771\n",
            "Epoch 22/30\n",
            "26/26 [==============================] - 0s 11ms/step - loss: 0.1821 - accuracy: 0.9336 - val_loss: 0.3518 - val_accuracy: 0.8852\n",
            "Epoch 23/30\n",
            "26/26 [==============================] - 0s 11ms/step - loss: 0.1869 - accuracy: 0.9289 - val_loss: 0.4345 - val_accuracy: 0.8467\n",
            "Epoch 24/30\n",
            "26/26 [==============================] - 0s 11ms/step - loss: 0.1954 - accuracy: 0.9263 - val_loss: 0.3917 - val_accuracy: 0.8696\n",
            "Epoch 25/30\n",
            "26/26 [==============================] - 0s 11ms/step - loss: 0.1767 - accuracy: 0.9345 - val_loss: 0.3509 - val_accuracy: 0.8703\n",
            "Epoch 26/30\n",
            "26/26 [==============================] - 0s 11ms/step - loss: 0.1424 - accuracy: 0.9486 - val_loss: 0.3682 - val_accuracy: 0.8727\n",
            "Epoch 27/30\n",
            "26/26 [==============================] - 0s 11ms/step - loss: 0.1452 - accuracy: 0.9475 - val_loss: 0.3987 - val_accuracy: 0.8765\n",
            "Epoch 28/30\n",
            "26/26 [==============================] - 0s 11ms/step - loss: 0.1397 - accuracy: 0.9492 - val_loss: 0.4782 - val_accuracy: 0.8628\n",
            "Epoch 29/30\n",
            "26/26 [==============================] - 0s 11ms/step - loss: 0.1557 - accuracy: 0.9438 - val_loss: 0.3731 - val_accuracy: 0.8827\n",
            "Epoch 30/30\n",
            "26/26 [==============================] - 0s 11ms/step - loss: 0.1081 - accuracy: 0.9635 - val_loss: 0.3621 - val_accuracy: 0.8870\n"
          ],
          "name": "stdout"
        }
      ]
    },
    {
      "cell_type": "code",
      "metadata": {
        "id": "Gfneg0OvYcwG",
        "colab_type": "code",
        "colab": {
          "base_uri": "https://localhost:8080/",
          "height": 51
        },
        "outputId": "77f29bdc-30af-4558-a610-7894fbd715a2"
      },
      "source": [
        "accuracy4 = model4.evaluate(testSeq, testLabel, verbose=2)\n",
        "print('Accuracy on test data: ', accuracy4[1])"
      ],
      "execution_count": null,
      "outputs": [
        {
          "output_type": "stream",
          "text": [
            "252/252 - 1s - loss: 0.3763 - accuracy: 0.8828\n",
            "Accuracy on test data:  0.882821261882782\n"
          ],
          "name": "stdout"
        }
      ]
    },
    {
      "cell_type": "code",
      "metadata": {
        "id": "ZhjE-X_xYcwI",
        "colab_type": "code",
        "colab": {
          "base_uri": "https://localhost:8080/",
          "height": 295
        },
        "outputId": "3a93d4d2-6095-4e2b-9017-7805dee9a211"
      },
      "source": [
        "plt.plot(history4.history['accuracy'])\n",
        "plt.plot(history4.history['val_accuracy'])\n",
        "plt.title('Model accuracy')\n",
        "plt.ylabel('Accuracy')\n",
        "plt.xlabel('Epoch')\n",
        "plt.legend(['Train', 'Test'], loc='upper left')\n",
        "plt.show()"
      ],
      "execution_count": null,
      "outputs": [
        {
          "output_type": "display_data",
          "data": {
            "image/png": "[encoded data removed]",
            "text/plain": [
              "<Figure size 432x288 with 1 Axes>"
            ]
          },
          "metadata": {
            "tags": [],
            "needs_background": "light"
          }
        }
      ]
    },
    {
      "cell_type": "markdown",
      "metadata": {
        "id": "5yxpEsIsYcwK",
        "colab_type": "text"
      },
      "source": [
        "В моем случае добавление еще нескольких слоев свертки не улучшило качество, если только на совсем немного. Но судя по графикам, то у этой модели обучение прошло лучше."
      ]
    },
    {
      "cell_type": "markdown",
      "metadata": {
        "id": "1TsGta0dYcwK",
        "colab_type": "text"
      },
      "source": [
        "В заключение, рекомендуется попробовать добавить Batch Normalization слои. Обычно они располагаются после сверточных слоев или слоев полносвязной нейронной сети. Обычно они улучшают качество модели, этим объясняется их популярность использования в современных архитектурах нейронных сетей. Однако, это требует проверки для конкретной модели и конкретного набора данных."
      ]
    },
    {
      "cell_type": "code",
      "metadata": {
        "id": "pbMPWqfHYcwK",
        "colab_type": "code",
        "colab": {}
      },
      "source": [
        "from tensorflow.keras.layers import BatchNormalization"
      ],
      "execution_count": null,
      "outputs": []
    },
    {
      "cell_type": "code",
      "metadata": {
        "id": "HEpNW_pWYcwL",
        "colab_type": "code",
        "colab": {
          "base_uri": "https://localhost:8080/",
          "height": 697
        },
        "outputId": "c2bbeca0-82b3-4daa-d6c3-bdabffa275ee"
      },
      "source": [
        "model5 = Sequential([\n",
        "    Conv2D(32, kernel_size=(3, 3), padding='same',activation='relu', input_shape=(28, 28, 1)),\n",
        "    BatchNormalization(axis=1),\n",
        "    MaxPooling2D(pool_size=(2, 2)),\n",
        "    \n",
        "    Conv2D(124, kernel_size=(3, 3), padding='same',activation='relu'),\n",
        "    BatchNormalization(axis=1),\n",
        "    MaxPooling2D(pool_size=(2, 2)),\n",
        "\n",
        "    Conv2D(124, kernel_size=(3, 3), padding='same',activation='relu'),\n",
        "    BatchNormalization(axis=1),\n",
        "    MaxPooling2D(pool_size=(2, 2)),\n",
        "\n",
        "    Conv2D(124, kernel_size=(3, 3), padding='same',activation='relu'),\n",
        "    BatchNormalization(axis=1),\n",
        "    MaxPooling2D(pool_size=(2, 2)),\n",
        "\n",
        "    Flatten(),\n",
        "    Dense(512, activation='relu'),\n",
        "    Dropout(0.2),\n",
        "    Dense(numClasses, activation='softmax')\n",
        "])\n",
        "model5.summary()"
      ],
      "execution_count": null,
      "outputs": [
        {
          "output_type": "stream",
          "text": [
            "Model: \"sequential_5\"\n",
            "_________________________________________________________________\n",
            "Layer (type)                 Output Shape              Param #   \n",
            "=================================================================\n",
            "conv2d_8 (Conv2D)            (None, 28, 28, 32)        320       \n",
            "_________________________________________________________________\n",
            "batch_normalization_2 (Batch (None, 28, 28, 32)        112       \n",
            "_________________________________________________________________\n",
            "max_pooling2d_8 (MaxPooling2 (None, 14, 14, 32)        0         \n",
            "_________________________________________________________________\n",
            "conv2d_9 (Conv2D)            (None, 14, 14, 124)       35836     \n",
            "_________________________________________________________________\n",
            "batch_normalization_3 (Batch (None, 14, 14, 124)       56        \n",
            "_________________________________________________________________\n",
            "max_pooling2d_9 (MaxPooling2 (None, 7, 7, 124)         0         \n",
            "_________________________________________________________________\n",
            "conv2d_10 (Conv2D)           (None, 7, 7, 124)         138508    \n",
            "_________________________________________________________________\n",
            "batch_normalization_4 (Batch (None, 7, 7, 124)         28        \n",
            "_________________________________________________________________\n",
            "max_pooling2d_10 (MaxPooling (None, 3, 3, 124)         0         \n",
            "_________________________________________________________________\n",
            "conv2d_11 (Conv2D)           (None, 3, 3, 124)         138508    \n",
            "_________________________________________________________________\n",
            "batch_normalization_5 (Batch (None, 3, 3, 124)         12        \n",
            "_________________________________________________________________\n",
            "max_pooling2d_11 (MaxPooling (None, 1, 1, 124)         0         \n",
            "_________________________________________________________________\n",
            "flatten_5 (Flatten)          (None, 124)               0         \n",
            "_________________________________________________________________\n",
            "dense_10 (Dense)             (None, 512)               64000     \n",
            "_________________________________________________________________\n",
            "dropout_5 (Dropout)          (None, 512)               0         \n",
            "_________________________________________________________________\n",
            "dense_11 (Dense)             (None, 10)                5130      \n",
            "=================================================================\n",
            "Total params: 382,510\n",
            "Trainable params: 382,406\n",
            "Non-trainable params: 104\n",
            "_________________________________________________________________\n"
          ],
          "name": "stdout"
        }
      ]
    },
    {
      "cell_type": "code",
      "metadata": {
        "id": "4IQTabXxYcwO",
        "colab_type": "code",
        "colab": {}
      },
      "source": [
        "model5.compile(\n",
        "    loss='categorical_crossentropy',\n",
        "    optimizer='adam',\n",
        "    metrics=['accuracy']\n",
        ")"
      ],
      "execution_count": null,
      "outputs": []
    },
    {
      "cell_type": "code",
      "metadata": {
        "id": "ReVKE0BwYcwP",
        "colab_type": "code",
        "colab": {
          "base_uri": "https://localhost:8080/",
          "height": 1000
        },
        "outputId": "25b17adb-399d-41b8-fa55-3b405cca8358"
      },
      "source": [
        "history5 = model4.fit(\n",
        "    trainSeq,\n",
        "    trainLabel,\n",
        "    batch_size=batchSize,\n",
        "    epochs=epochs,\n",
        "    validation_split=0.2\n",
        ")"
      ],
      "execution_count": null,
      "outputs": [
        {
          "output_type": "stream",
          "text": [
            "Epoch 1/30\n",
            "26/26 [==============================] - 0s 15ms/step - loss: 0.0463 - accuracy: 0.9846 - val_loss: 0.5155 - val_accuracy: 0.8796\n",
            "Epoch 2/30\n",
            "26/26 [==============================] - 0s 11ms/step - loss: 0.0514 - accuracy: 0.9803 - val_loss: 0.5133 - val_accuracy: 0.8870\n",
            "Epoch 3/30\n",
            "26/26 [==============================] - 0s 11ms/step - loss: 0.0376 - accuracy: 0.9876 - val_loss: 0.5095 - val_accuracy: 0.8932\n",
            "Epoch 4/30\n",
            "26/26 [==============================] - 0s 11ms/step - loss: 0.0481 - accuracy: 0.9820 - val_loss: 0.4535 - val_accuracy: 0.8908\n",
            "Epoch 5/30\n",
            "26/26 [==============================] - 0s 11ms/step - loss: 0.0302 - accuracy: 0.9910 - val_loss: 0.5001 - val_accuracy: 0.8852\n",
            "Epoch 6/30\n",
            "26/26 [==============================] - 0s 11ms/step - loss: 0.0328 - accuracy: 0.9901 - val_loss: 0.5755 - val_accuracy: 0.8759\n",
            "Epoch 7/30\n",
            "26/26 [==============================] - 0s 11ms/step - loss: 0.0429 - accuracy: 0.9834 - val_loss: 0.5142 - val_accuracy: 0.8833\n",
            "Epoch 8/30\n",
            "26/26 [==============================] - 0s 11ms/step - loss: 0.0208 - accuracy: 0.9938 - val_loss: 0.5440 - val_accuracy: 0.8864\n",
            "Epoch 9/30\n",
            "26/26 [==============================] - 0s 11ms/step - loss: 0.0174 - accuracy: 0.9947 - val_loss: 0.6246 - val_accuracy: 0.8827\n",
            "Epoch 10/30\n",
            "26/26 [==============================] - 0s 11ms/step - loss: 0.0376 - accuracy: 0.9863 - val_loss: 0.5648 - val_accuracy: 0.8790\n",
            "Epoch 11/30\n",
            "26/26 [==============================] - 0s 11ms/step - loss: 0.0557 - accuracy: 0.9778 - val_loss: 0.5731 - val_accuracy: 0.8734\n",
            "Epoch 12/30\n",
            "26/26 [==============================] - 0s 11ms/step - loss: 0.0239 - accuracy: 0.9939 - val_loss: 0.5431 - val_accuracy: 0.8895\n",
            "Epoch 13/30\n",
            "26/26 [==============================] - 0s 11ms/step - loss: 0.0149 - accuracy: 0.9953 - val_loss: 0.5695 - val_accuracy: 0.8901\n",
            "Epoch 14/30\n",
            "26/26 [==============================] - 0s 11ms/step - loss: 0.0088 - accuracy: 0.9974 - val_loss: 0.6208 - val_accuracy: 0.8852\n",
            "Epoch 15/30\n",
            "26/26 [==============================] - 0s 11ms/step - loss: 0.0146 - accuracy: 0.9955 - val_loss: 0.6329 - val_accuracy: 0.8833\n",
            "Epoch 16/30\n",
            "26/26 [==============================] - 0s 11ms/step - loss: 0.0115 - accuracy: 0.9967 - val_loss: 0.6231 - val_accuracy: 0.8883\n",
            "Epoch 17/30\n",
            "26/26 [==============================] - 0s 11ms/step - loss: 0.0070 - accuracy: 0.9983 - val_loss: 0.6066 - val_accuracy: 0.8914\n",
            "Epoch 18/30\n",
            "26/26 [==============================] - 0s 11ms/step - loss: 0.0107 - accuracy: 0.9966 - val_loss: 0.6776 - val_accuracy: 0.8814\n",
            "Epoch 19/30\n",
            "26/26 [==============================] - 0s 11ms/step - loss: 0.0387 - accuracy: 0.9862 - val_loss: 0.5877 - val_accuracy: 0.8833\n",
            "Epoch 20/30\n",
            "26/26 [==============================] - 0s 12ms/step - loss: 0.0384 - accuracy: 0.9876 - val_loss: 0.5168 - val_accuracy: 0.8864\n",
            "Epoch 21/30\n",
            "26/26 [==============================] - 0s 11ms/step - loss: 0.0113 - accuracy: 0.9975 - val_loss: 0.6012 - val_accuracy: 0.8821\n",
            "Epoch 22/30\n",
            "26/26 [==============================] - 0s 11ms/step - loss: 0.0260 - accuracy: 0.9919 - val_loss: 0.6125 - val_accuracy: 0.8821\n",
            "Epoch 23/30\n",
            "26/26 [==============================] - 0s 11ms/step - loss: 0.0228 - accuracy: 0.9933 - val_loss: 0.5856 - val_accuracy: 0.8821\n",
            "Epoch 24/30\n",
            "26/26 [==============================] - 0s 11ms/step - loss: 0.0128 - accuracy: 0.9961 - val_loss: 0.6319 - val_accuracy: 0.8926\n",
            "Epoch 25/30\n",
            "26/26 [==============================] - 0s 11ms/step - loss: 0.0037 - accuracy: 0.9995 - val_loss: 0.6496 - val_accuracy: 0.8883\n",
            "Epoch 26/30\n",
            "26/26 [==============================] - 0s 11ms/step - loss: 0.0018 - accuracy: 1.0000 - val_loss: 0.6677 - val_accuracy: 0.8914\n",
            "Epoch 27/30\n",
            "26/26 [==============================] - 0s 11ms/step - loss: 0.0024 - accuracy: 0.9998 - val_loss: 0.6702 - val_accuracy: 0.8833\n",
            "Epoch 28/30\n",
            "26/26 [==============================] - 0s 11ms/step - loss: 0.0029 - accuracy: 0.9991 - val_loss: 0.6685 - val_accuracy: 0.8839\n",
            "Epoch 29/30\n",
            "26/26 [==============================] - 0s 11ms/step - loss: 0.0015 - accuracy: 0.9997 - val_loss: 0.6967 - val_accuracy: 0.8845\n",
            "Epoch 30/30\n",
            "26/26 [==============================] - 0s 12ms/step - loss: 6.9557e-04 - accuracy: 1.0000 - val_loss: 0.7049 - val_accuracy: 0.8883\n"
          ],
          "name": "stdout"
        }
      ]
    },
    {
      "cell_type": "code",
      "metadata": {
        "id": "yPxqIfshYcwQ",
        "colab_type": "code",
        "colab": {
          "base_uri": "https://localhost:8080/",
          "height": 51
        },
        "outputId": "bd14784f-bdbe-4303-b54c-60a312d0dc0e"
      },
      "source": [
        "accuracy5 = model5.evaluate(testSeq, testLabel, verbose=2)\n",
        "print('Accuracy on test data: ', accuracy5[1])"
      ],
      "execution_count": null,
      "outputs": [
        {
          "output_type": "stream",
          "text": [
            "252/252 - 1s - loss: 2.3019 - accuracy: 0.1000\n",
            "Accuracy on test data:  0.10001243650913239\n"
          ],
          "name": "stdout"
        }
      ]
    },
    {
      "cell_type": "markdown",
      "metadata": {
        "id": "Y0o2cIrkYcwR",
        "colab_type": "text"
      },
      "source": [
        "Постройте график качества модели на валидационной выборке от количества эпох. Для этого вы можете использовать утилиту tensorboard."
      ]
    },
    {
      "cell_type": "code",
      "metadata": {
        "id": "ndYSuQrVYcwS",
        "colab_type": "code",
        "colab": {
          "base_uri": "https://localhost:8080/",
          "height": 295
        },
        "outputId": "59843a78-fa27-4905-8161-96ba9fc391a3"
      },
      "source": [
        "plt.plot(history5.history['accuracy'])\n",
        "plt.plot(history5.history['val_accuracy'])\n",
        "plt.title('Model accuracy')\n",
        "plt.ylabel('Accuracy')\n",
        "plt.xlabel('Epoch')\n",
        "plt.legend(['Train', 'Test'], loc='upper left')\n",
        "plt.show()"
      ],
      "execution_count": null,
      "outputs": [
        {
          "output_type": "display_data",
          "data": {
            "image/png": "[encoded data removed]",
            "text/plain": [
              "<Figure size 432x288 with 1 Axes>"
            ]
          },
          "metadata": {
            "tags": [],
            "needs_background": "light"
          }
        }
      ]
    },
    {
      "cell_type": "markdown",
      "metadata": {
        "id": "4Fdwaa3lYcwT",
        "colab_type": "text"
      },
      "source": [
        "К моему удивлению, последняя нейросетка показывает наихудшие результаты на валидационных данных, но очень хорошие показатели на тренировочной выборке из-за своих модификаций. Батч нормализация ускоряет процесс обучение и регуляризирует параметры, позволяет не переобучаться на данных. Но очевидно, что получилось как раз наоборот. Модель переобучилась на тренировочных данных и на тестовых данных показывает низкое качества, ровно также как и на валидационных."
      ]
    }
  ]
}