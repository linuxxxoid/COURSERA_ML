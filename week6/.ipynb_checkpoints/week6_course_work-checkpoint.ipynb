{
 "cells": [
  {
   "cell_type": "markdown",
   "metadata": {},
   "source": [
    "В качестве итогового проекта вам предлагается решить задачу классификации на наборе данных Fashion-MNIST"
   ]
  },
  {
   "cell_type": "markdown",
   "metadata": {},
   "source": [
    "Fashion-MNIST – это датасет состоящий из 70000 черно-белых изображений одежды 28х28 пикселей каждое. 60000 из них содержатся в тренировочной выборке, и 10000 – в тестовой. "
   ]
  },
  {
   "cell_type": "markdown",
   "metadata": {},
   "source": [
    "### Загрузка данных\n",
    "\n",
    "Перед решением задачи классификации на приведенном наборе данных предлагается нормализовать данные. Датасет доступен для скачивания в формате CSV. В данном случае удобно использовать библиотеку Pandas для загрузки данных."
   ]
  },
  {
   "cell_type": "code",
   "execution_count": 62,
   "metadata": {},
   "outputs": [],
   "source": [
    "import pandas as pd\n",
    "import numpy as np\n",
    "import matplotlib.pyplot as plt\n",
    "%matplotlib inline"
   ]
  },
  {
   "cell_type": "code",
   "execution_count": 61,
   "metadata": {},
   "outputs": [],
   "source": [
    "np.random.seed(7)"
   ]
  },
  {
   "cell_type": "code",
   "execution_count": 63,
   "metadata": {},
   "outputs": [],
   "source": [
    "train = pd.read_csv(\"./dataset/fashion-mnist_train.csv\")\n",
    "test = pd.read_csv(\"./dataset/fashion-mnist_test.csv\")"
   ]
  },
  {
   "cell_type": "code",
   "execution_count": 64,
   "metadata": {},
   "outputs": [],
   "source": [
    "trainLabel = train.label\n",
    "testLabel = test.label\n",
    "trainSeq = train.drop('label', axis=1)\n",
    "testSeq = test.drop('label', axis=1)"
   ]
  },
  {
   "cell_type": "code",
   "execution_count": 65,
   "metadata": {},
   "outputs": [
    {
     "data": {
      "text/plain": [
       "0    2\n",
       "1    9\n",
       "2    6\n",
       "3    0\n",
       "4    3\n",
       "Name: label, dtype: int64"
      ]
     },
     "execution_count": 65,
     "metadata": {},
     "output_type": "execute_result"
    }
   ],
   "source": [
    "trainLabel.head()"
   ]
  },
  {
   "cell_type": "code",
   "execution_count": 66,
   "metadata": {},
   "outputs": [
    {
     "data": {
      "text/html": [
       "<div>\n",
       "<style scoped>\n",
       "    .dataframe tbody tr th:only-of-type {\n",
       "        vertical-align: middle;\n",
       "    }\n",
       "\n",
       "    .dataframe tbody tr th {\n",
       "        vertical-align: top;\n",
       "    }\n",
       "\n",
       "    .dataframe thead th {\n",
       "        text-align: right;\n",
       "    }\n",
       "</style>\n",
       "<table border=\"1\" class=\"dataframe\">\n",
       "  <thead>\n",
       "    <tr style=\"text-align: right;\">\n",
       "      <th></th>\n",
       "      <th>pixel1</th>\n",
       "      <th>pixel2</th>\n",
       "      <th>pixel3</th>\n",
       "      <th>pixel4</th>\n",
       "      <th>pixel5</th>\n",
       "      <th>pixel6</th>\n",
       "      <th>pixel7</th>\n",
       "      <th>pixel8</th>\n",
       "      <th>pixel9</th>\n",
       "      <th>pixel10</th>\n",
       "      <th>...</th>\n",
       "      <th>pixel775</th>\n",
       "      <th>pixel776</th>\n",
       "      <th>pixel777</th>\n",
       "      <th>pixel778</th>\n",
       "      <th>pixel779</th>\n",
       "      <th>pixel780</th>\n",
       "      <th>pixel781</th>\n",
       "      <th>pixel782</th>\n",
       "      <th>pixel783</th>\n",
       "      <th>pixel784</th>\n",
       "    </tr>\n",
       "  </thead>\n",
       "  <tbody>\n",
       "    <tr>\n",
       "      <th>0</th>\n",
       "      <td>0</td>\n",
       "      <td>0</td>\n",
       "      <td>0</td>\n",
       "      <td>0</td>\n",
       "      <td>0</td>\n",
       "      <td>0</td>\n",
       "      <td>0</td>\n",
       "      <td>0</td>\n",
       "      <td>0</td>\n",
       "      <td>0</td>\n",
       "      <td>...</td>\n",
       "      <td>0</td>\n",
       "      <td>0</td>\n",
       "      <td>0</td>\n",
       "      <td>0</td>\n",
       "      <td>0</td>\n",
       "      <td>0</td>\n",
       "      <td>0</td>\n",
       "      <td>0</td>\n",
       "      <td>0</td>\n",
       "      <td>0</td>\n",
       "    </tr>\n",
       "    <tr>\n",
       "      <th>1</th>\n",
       "      <td>0</td>\n",
       "      <td>0</td>\n",
       "      <td>0</td>\n",
       "      <td>0</td>\n",
       "      <td>0</td>\n",
       "      <td>0</td>\n",
       "      <td>0</td>\n",
       "      <td>0</td>\n",
       "      <td>0</td>\n",
       "      <td>0</td>\n",
       "      <td>...</td>\n",
       "      <td>0</td>\n",
       "      <td>0</td>\n",
       "      <td>0</td>\n",
       "      <td>0</td>\n",
       "      <td>0</td>\n",
       "      <td>0</td>\n",
       "      <td>0</td>\n",
       "      <td>0</td>\n",
       "      <td>0</td>\n",
       "      <td>0</td>\n",
       "    </tr>\n",
       "    <tr>\n",
       "      <th>2</th>\n",
       "      <td>0</td>\n",
       "      <td>0</td>\n",
       "      <td>0</td>\n",
       "      <td>0</td>\n",
       "      <td>0</td>\n",
       "      <td>0</td>\n",
       "      <td>0</td>\n",
       "      <td>5</td>\n",
       "      <td>0</td>\n",
       "      <td>0</td>\n",
       "      <td>...</td>\n",
       "      <td>0</td>\n",
       "      <td>0</td>\n",
       "      <td>0</td>\n",
       "      <td>30</td>\n",
       "      <td>43</td>\n",
       "      <td>0</td>\n",
       "      <td>0</td>\n",
       "      <td>0</td>\n",
       "      <td>0</td>\n",
       "      <td>0</td>\n",
       "    </tr>\n",
       "    <tr>\n",
       "      <th>3</th>\n",
       "      <td>0</td>\n",
       "      <td>0</td>\n",
       "      <td>0</td>\n",
       "      <td>1</td>\n",
       "      <td>2</td>\n",
       "      <td>0</td>\n",
       "      <td>0</td>\n",
       "      <td>0</td>\n",
       "      <td>0</td>\n",
       "      <td>0</td>\n",
       "      <td>...</td>\n",
       "      <td>3</td>\n",
       "      <td>0</td>\n",
       "      <td>0</td>\n",
       "      <td>0</td>\n",
       "      <td>0</td>\n",
       "      <td>1</td>\n",
       "      <td>0</td>\n",
       "      <td>0</td>\n",
       "      <td>0</td>\n",
       "      <td>0</td>\n",
       "    </tr>\n",
       "    <tr>\n",
       "      <th>4</th>\n",
       "      <td>0</td>\n",
       "      <td>0</td>\n",
       "      <td>0</td>\n",
       "      <td>0</td>\n",
       "      <td>0</td>\n",
       "      <td>0</td>\n",
       "      <td>0</td>\n",
       "      <td>0</td>\n",
       "      <td>0</td>\n",
       "      <td>0</td>\n",
       "      <td>...</td>\n",
       "      <td>0</td>\n",
       "      <td>0</td>\n",
       "      <td>0</td>\n",
       "      <td>0</td>\n",
       "      <td>0</td>\n",
       "      <td>0</td>\n",
       "      <td>0</td>\n",
       "      <td>0</td>\n",
       "      <td>0</td>\n",
       "      <td>0</td>\n",
       "    </tr>\n",
       "  </tbody>\n",
       "</table>\n",
       "<p>5 rows × 784 columns</p>\n",
       "</div>"
      ],
      "text/plain": [
       "   pixel1  pixel2  pixel3  pixel4  pixel5  pixel6  pixel7  pixel8  pixel9  \\\n",
       "0       0       0       0       0       0       0       0       0       0   \n",
       "1       0       0       0       0       0       0       0       0       0   \n",
       "2       0       0       0       0       0       0       0       5       0   \n",
       "3       0       0       0       1       2       0       0       0       0   \n",
       "4       0       0       0       0       0       0       0       0       0   \n",
       "\n",
       "   pixel10  ...  pixel775  pixel776  pixel777  pixel778  pixel779  pixel780  \\\n",
       "0        0  ...         0         0         0         0         0         0   \n",
       "1        0  ...         0         0         0         0         0         0   \n",
       "2        0  ...         0         0         0        30        43         0   \n",
       "3        0  ...         3         0         0         0         0         1   \n",
       "4        0  ...         0         0         0         0         0         0   \n",
       "\n",
       "   pixel781  pixel782  pixel783  pixel784  \n",
       "0         0         0         0         0  \n",
       "1         0         0         0         0  \n",
       "2         0         0         0         0  \n",
       "3         0         0         0         0  \n",
       "4         0         0         0         0  \n",
       "\n",
       "[5 rows x 784 columns]"
      ]
     },
     "execution_count": 66,
     "metadata": {},
     "output_type": "execute_result"
    }
   ],
   "source": [
    "trainSeq.head()"
   ]
  },
  {
   "cell_type": "code",
   "execution_count": 67,
   "metadata": {},
   "outputs": [
    {
     "data": {
      "text/plain": [
       "(60000, 784)"
      ]
     },
     "execution_count": 67,
     "metadata": {},
     "output_type": "execute_result"
    }
   ],
   "source": [
    "trainSeq.shape"
   ]
  },
  {
   "cell_type": "code",
   "execution_count": 68,
   "metadata": {},
   "outputs": [
    {
     "data": {
      "text/plain": [
       "(10000, 784)"
      ]
     },
     "execution_count": 68,
     "metadata": {},
     "output_type": "execute_result"
    }
   ],
   "source": [
    "testSeq.shape"
   ]
  },
  {
   "cell_type": "code",
   "execution_count": 69,
   "metadata": {},
   "outputs": [],
   "source": [
    "trainSeq = np.array(trainSeq).reshape(-1, 28, 28, 1)"
   ]
  },
  {
   "cell_type": "code",
   "execution_count": 70,
   "metadata": {},
   "outputs": [],
   "source": [
    "testSeq = np.array(testSeq).reshape(-1, 28, 28, 1)"
   ]
  },
  {
   "cell_type": "code",
   "execution_count": 71,
   "metadata": {},
   "outputs": [
    {
     "data": {
      "text/plain": [
       "(60000, 28, 28, 1)"
      ]
     },
     "execution_count": 71,
     "metadata": {},
     "output_type": "execute_result"
    }
   ],
   "source": [
    "trainSeq.shape"
   ]
  },
  {
   "cell_type": "code",
   "execution_count": 72,
   "metadata": {},
   "outputs": [
    {
     "data": {
      "text/plain": [
       "(10000, 28, 28, 1)"
      ]
     },
     "execution_count": 72,
     "metadata": {},
     "output_type": "execute_result"
    }
   ],
   "source": [
    "testSeq.shape"
   ]
  },
  {
   "cell_type": "code",
   "execution_count": 73,
   "metadata": {},
   "outputs": [],
   "source": [
    "trainSeq = trainSeq / 255.0\n",
    "testSeq = testSeq / 255.0"
   ]
  },
  {
   "cell_type": "markdown",
   "metadata": {},
   "source": [
    "One-hot encoding"
   ]
  },
  {
   "cell_type": "code",
   "execution_count": 74,
   "metadata": {},
   "outputs": [],
   "source": [
    "from keras.utils.np_utils import to_categorical\n",
    "\n",
    "trainLabel = to_categorical(trainLabel, num_classes=10)\n",
    "testLabel = to_categorical(testLabel, num_classes=10)"
   ]
  },
  {
   "cell_type": "code",
   "execution_count": 75,
   "metadata": {},
   "outputs": [
    {
     "data": {
      "text/plain": [
       "(60000, 10)"
      ]
     },
     "execution_count": 75,
     "metadata": {},
     "output_type": "execute_result"
    }
   ],
   "source": [
    "trainLabel.shape"
   ]
  },
  {
   "cell_type": "code",
   "execution_count": 76,
   "metadata": {},
   "outputs": [
    {
     "data": {
      "text/plain": [
       "(10000, 10)"
      ]
     },
     "execution_count": 76,
     "metadata": {},
     "output_type": "execute_result"
    }
   ],
   "source": [
    "testLabel.shape"
   ]
  },
  {
   "cell_type": "code",
   "execution_count": 77,
   "metadata": {},
   "outputs": [
    {
     "data": {
      "text/plain": [
       "array([[1., 0., 0., ..., 0., 0., 0.],\n",
       "       [0., 1., 0., ..., 0., 0., 0.],\n",
       "       [0., 0., 1., ..., 0., 0., 0.],\n",
       "       ...,\n",
       "       [0., 0., 0., ..., 0., 1., 0.],\n",
       "       [0., 0., 0., ..., 0., 1., 0.],\n",
       "       [0., 1., 0., ..., 0., 0., 0.]], dtype=float32)"
      ]
     },
     "execution_count": 77,
     "metadata": {},
     "output_type": "execute_result"
    }
   ],
   "source": [
    "testLabel"
   ]
  },
  {
   "cell_type": "markdown",
   "metadata": {},
   "source": [
    "### 1. Логистическая регрессия\n",
    "\n",
    "Для решения задачи классификации предлагается начать с использования логистической регрессии. В данном случае, количество признаков равно 28x28=784, так же мы имеем 60000 объектов в тренировочной выборке. Поэтому рекомендуется использовать tensorflow или keras для выполнения этого задания. Используйте стохастический градиентный спуск (stochastic gradient descent) в качестве алгоритма оптимизации.\n",
    "\n",
    "По своей сути, логистическая регрессия может быть реализована как нейронная сеть без скрытых слоев. В выходном слое содержится количество нейронов, равное количеству классов. В качестве функции активации выходного слоя следует использовать softmax.\n",
    "\n",
    "Обучите логистическую регрессию на тренировочной выборке и оцените качество на тестовой выборке используя метрику accuracy. Постройте график качества модели на валидационной выборке от количества эпох. Для этого вы можете использовать утилиту tensorboard."
   ]
  },
  {
   "cell_type": "code",
   "execution_count": 17,
   "metadata": {},
   "outputs": [],
   "source": [
    "from tensorflow.keras.models import Sequential\n",
    "from tensorflow.keras.layers import Dense, Flatten\n",
    "from tensorflow.keras.optimizers import SGD"
   ]
  },
  {
   "cell_type": "code",
   "execution_count": 18,
   "metadata": {},
   "outputs": [],
   "source": [
    "epochs = 30\n",
    "batchSize = 256\n",
    "learningRate = 0.001\n",
    "numClasses = 10"
   ]
  },
  {
   "cell_type": "code",
   "execution_count": 19,
   "metadata": {},
   "outputs": [],
   "source": [
    "model1 = Sequential([\n",
    "    Flatten(input_shape=(28, 28, 1)),\n",
    "    Dense(numClasses, activation='softmax', use_bias=True)\n",
    "])"
   ]
  },
  {
   "cell_type": "code",
   "execution_count": 20,
   "metadata": {},
   "outputs": [
    {
     "name": "stdout",
     "output_type": "stream",
     "text": [
      "Model: \"sequential\"\n",
      "_________________________________________________________________\n",
      "Layer (type)                 Output Shape              Param #   \n",
      "=================================================================\n",
      "flatten (Flatten)            (None, 784)               0         \n",
      "_________________________________________________________________\n",
      "dense (Dense)                (None, 10)                7850      \n",
      "=================================================================\n",
      "Total params: 7,850\n",
      "Trainable params: 7,850\n",
      "Non-trainable params: 0\n",
      "_________________________________________________________________\n"
     ]
    }
   ],
   "source": [
    "optimizer = SGD(\n",
    "    learning_rate=0.01,\n",
    "    momentum=0.9,\n",
    "    nesterov=False,\n",
    "    name='SGD'\n",
    ")\n",
    "\n",
    "model1.compile(optimizer=optimizer,\n",
    "               loss='mse',\n",
    "               metrics=['accuracy'])\n",
    "\n",
    "model1.summary()"
   ]
  },
  {
   "cell_type": "markdown",
   "metadata": {},
   "source": [
    "Keras может разделить часть обучающих данных в валидационный набор данных и оценивать производительность модели на этом валидационном наборе данных каждую эпоху при использовании параметра validation_split."
   ]
  },
  {
   "cell_type": "code",
   "execution_count": 21,
   "metadata": {},
   "outputs": [
    {
     "name": "stdout",
     "output_type": "stream",
     "text": [
      "Epoch 1/30\n",
      "235/235 [==============================] - 1s 2ms/step - loss: 0.0799 - accuracy: 0.3626 - val_loss: 0.0685 - val_accuracy: 0.5139\n",
      "Epoch 2/30\n",
      "235/235 [==============================] - 0s 1ms/step - loss: 0.0610 - accuracy: 0.5818 - val_loss: 0.0541 - val_accuracy: 0.6541\n",
      "Epoch 3/30\n",
      "235/235 [==============================] - 0s 1ms/step - loss: 0.0507 - accuracy: 0.6625 - val_loss: 0.0479 - val_accuracy: 0.6707\n",
      "Epoch 4/30\n",
      "235/235 [==============================] - 0s 1ms/step - loss: 0.0462 - accuracy: 0.6814 - val_loss: 0.0446 - val_accuracy: 0.6909\n",
      "Epoch 5/30\n",
      "235/235 [==============================] - 0s 1ms/step - loss: 0.0433 - accuracy: 0.7028 - val_loss: 0.0422 - val_accuracy: 0.7122\n",
      "Epoch 6/30\n",
      "235/235 [==============================] - 0s 2ms/step - loss: 0.0412 - accuracy: 0.7222 - val_loss: 0.0403 - val_accuracy: 0.7309\n",
      "Epoch 7/30\n",
      "235/235 [==============================] - 0s 2ms/step - loss: 0.0395 - accuracy: 0.7375 - val_loss: 0.0388 - val_accuracy: 0.7405\n",
      "Epoch 8/30\n",
      "235/235 [==============================] - 0s 2ms/step - loss: 0.0381 - accuracy: 0.7487 - val_loss: 0.0375 - val_accuracy: 0.7488\n",
      "Epoch 9/30\n",
      "235/235 [==============================] - 0s 2ms/step - loss: 0.0369 - accuracy: 0.7579 - val_loss: 0.0364 - val_accuracy: 0.7586\n",
      "Epoch 10/30\n",
      "235/235 [==============================] - 0s 2ms/step - loss: 0.0359 - accuracy: 0.7673 - val_loss: 0.0355 - val_accuracy: 0.7675\n",
      "Epoch 11/30\n",
      "235/235 [==============================] - 0s 1ms/step - loss: 0.0350 - accuracy: 0.7736 - val_loss: 0.0347 - val_accuracy: 0.7759\n",
      "Epoch 12/30\n",
      "235/235 [==============================] - 0s 1ms/step - loss: 0.0343 - accuracy: 0.7794 - val_loss: 0.0340 - val_accuracy: 0.7805\n",
      "Epoch 13/30\n",
      "235/235 [==============================] - 0s 2ms/step - loss: 0.0336 - accuracy: 0.7845 - val_loss: 0.0334 - val_accuracy: 0.7842\n",
      "Epoch 14/30\n",
      "235/235 [==============================] - 0s 2ms/step - loss: 0.0330 - accuracy: 0.7888 - val_loss: 0.0328 - val_accuracy: 0.7889\n",
      "Epoch 15/30\n",
      "235/235 [==============================] - 0s 1ms/step - loss: 0.0325 - accuracy: 0.7922 - val_loss: 0.0323 - val_accuracy: 0.7908\n",
      "Epoch 16/30\n",
      "235/235 [==============================] - 0s 1ms/step - loss: 0.0320 - accuracy: 0.7960 - val_loss: 0.0319 - val_accuracy: 0.7953\n",
      "Epoch 17/30\n",
      "235/235 [==============================] - 0s 1ms/step - loss: 0.0316 - accuracy: 0.7981 - val_loss: 0.0315 - val_accuracy: 0.7977\n",
      "Epoch 18/30\n",
      "235/235 [==============================] - 0s 1ms/step - loss: 0.0312 - accuracy: 0.8005 - val_loss: 0.0311 - val_accuracy: 0.7984\n",
      "Epoch 19/30\n",
      "235/235 [==============================] - 0s 1ms/step - loss: 0.0309 - accuracy: 0.8023 - val_loss: 0.0308 - val_accuracy: 0.8034\n",
      "Epoch 20/30\n",
      "235/235 [==============================] - 0s 1ms/step - loss: 0.0305 - accuracy: 0.8042 - val_loss: 0.0305 - val_accuracy: 0.8051\n",
      "Epoch 21/30\n",
      "235/235 [==============================] - 0s 1ms/step - loss: 0.0302 - accuracy: 0.8062 - val_loss: 0.0301 - val_accuracy: 0.8067\n",
      "Epoch 22/30\n",
      "235/235 [==============================] - 0s 1ms/step - loss: 0.0299 - accuracy: 0.8077 - val_loss: 0.0299 - val_accuracy: 0.8080\n",
      "Epoch 23/30\n",
      "235/235 [==============================] - 0s 1ms/step - loss: 0.0297 - accuracy: 0.8093 - val_loss: 0.0296 - val_accuracy: 0.8098\n",
      "Epoch 24/30\n",
      "235/235 [==============================] - 0s 1ms/step - loss: 0.0294 - accuracy: 0.8109 - val_loss: 0.0294 - val_accuracy: 0.8098\n",
      "Epoch 25/30\n",
      "235/235 [==============================] - 0s 2ms/step - loss: 0.0292 - accuracy: 0.8118 - val_loss: 0.0292 - val_accuracy: 0.8135\n",
      "Epoch 26/30\n",
      "235/235 [==============================] - 0s 1ms/step - loss: 0.0290 - accuracy: 0.8135 - val_loss: 0.0290 - val_accuracy: 0.8137\n",
      "Epoch 27/30\n",
      "235/235 [==============================] - 0s 1ms/step - loss: 0.0288 - accuracy: 0.8150 - val_loss: 0.0287 - val_accuracy: 0.8161\n",
      "Epoch 28/30\n",
      "235/235 [==============================] - 0s 2ms/step - loss: 0.0286 - accuracy: 0.8159 - val_loss: 0.0285 - val_accuracy: 0.8168\n",
      "Epoch 29/30\n",
      "235/235 [==============================] - 0s 2ms/step - loss: 0.0284 - accuracy: 0.8167 - val_loss: 0.0284 - val_accuracy: 0.8171\n",
      "Epoch 30/30\n",
      "235/235 [==============================] - 0s 1ms/step - loss: 0.0282 - accuracy: 0.8183 - val_loss: 0.0282 - val_accuracy: 0.8179\n"
     ]
    }
   ],
   "source": [
    "history1 = model1.fit(\n",
    "    trainSeq,\n",
    "    trainLabel,\n",
    "    batch_size=batchSize,\n",
    "    epochs=epochs,\n",
    "    validation_split=0.2\n",
    ")"
   ]
  },
  {
   "cell_type": "code",
   "execution_count": 22,
   "metadata": {},
   "outputs": [
    {
     "name": "stdout",
     "output_type": "stream",
     "text": [
      "313/313 - 0s - loss: 0.0282 - accuracy: 0.8179\n",
      "Accuracy on test data:  0.8179000020027161\n"
     ]
    }
   ],
   "source": [
    "accuracy = model1.evaluate(testSeq, testLabel, verbose=2)\n",
    "print('Accuracy on test data: ', accuracy[1])"
   ]
  },
  {
   "cell_type": "code",
   "execution_count": 23,
   "metadata": {},
   "outputs": [
    {
     "data": {
      "image/png": "[encoded data removed]",
      "text/plain": [
       "<Figure size 432x288 with 1 Axes>"
      ]
     },
     "metadata": {
      "needs_background": "light"
     },
     "output_type": "display_data"
    }
   ],
   "source": [
    "plt.plot(history1.history['val_accuracy'])\n",
    "plt.title('Model accuracy')\n",
    "plt.ylabel('Accuracy')\n",
    "plt.xlabel('Epoch')\n",
    "plt.legend(['Test'], loc='upper left')\n",
    "plt.show()"
   ]
  },
  {
   "cell_type": "markdown",
   "metadata": {},
   "source": [
    "Качество на тестовой выборке составляет 82%. Вполне неплохо, модель сделала все возможное. Линейная регрессия направлена на поиск зависимости целевой переменной от одной или нескольких независимых переменных."
   ]
  },
  {
   "cell_type": "markdown",
   "metadata": {},
   "source": [
    "### 2. Полносвязная нейронная сеть\n",
    "\n",
    "Далее, попробуйте реализовать полносвязную нейронную сеть с несколькими скрытыми слоями. Обучите модель и посчитайте качество на тестовой выборке. Как оно изменилось в сравнении с логистической регрессией? Как вы можете объяснить этот результат?"
   ]
  },
  {
   "cell_type": "code",
   "execution_count": 24,
   "metadata": {},
   "outputs": [],
   "source": [
    "from tensorflow.keras.layers import Dropout"
   ]
  },
  {
   "cell_type": "code",
   "execution_count": 25,
   "metadata": {},
   "outputs": [
    {
     "name": "stdout",
     "output_type": "stream",
     "text": [
      "Model: \"sequential_1\"\n",
      "_________________________________________________________________\n",
      "Layer (type)                 Output Shape              Param #   \n",
      "=================================================================\n",
      "flatten_1 (Flatten)          (None, 784)               0         \n",
      "_________________________________________________________________\n",
      "dense_1 (Dense)              (None, 512)               401920    \n",
      "_________________________________________________________________\n",
      "dropout (Dropout)            (None, 512)               0         \n",
      "_________________________________________________________________\n",
      "dense_2 (Dense)              (None, 256)               131328    \n",
      "_________________________________________________________________\n",
      "dropout_1 (Dropout)          (None, 256)               0         \n",
      "_________________________________________________________________\n",
      "dense_3 (Dense)              (None, 10)                2570      \n",
      "=================================================================\n",
      "Total params: 535,818\n",
      "Trainable params: 535,818\n",
      "Non-trainable params: 0\n",
      "_________________________________________________________________\n"
     ]
    }
   ],
   "source": [
    "model2 = Sequential([\n",
    "    Flatten(input_shape=(28, 28, 1)),\n",
    "    Dense(512, activation='relu'),\n",
    "    Dropout(0.2),\n",
    "    Dense(256, activation='relu'),\n",
    "    Dropout(0.2),\n",
    "    Dense(numClasses, activation='softmax')\n",
    "])\n",
    "model2.summary()"
   ]
  },
  {
   "cell_type": "code",
   "execution_count": 26,
   "metadata": {},
   "outputs": [],
   "source": [
    "model2.compile(\n",
    "    loss='categorical_crossentropy',\n",
    "    optimizer='adam',\n",
    "    metrics=['accuracy']\n",
    ")"
   ]
  },
  {
   "cell_type": "code",
   "execution_count": 27,
   "metadata": {},
   "outputs": [
    {
     "name": "stdout",
     "output_type": "stream",
     "text": [
      "Epoch 1/30\n",
      "235/235 [==============================] - 2s 9ms/step - loss: 0.5671 - accuracy: 0.7980 - val_loss: 0.4040 - val_accuracy: 0.8591\n",
      "Epoch 2/30\n",
      "235/235 [==============================] - 2s 8ms/step - loss: 0.4030 - accuracy: 0.8547 - val_loss: 0.3667 - val_accuracy: 0.8683\n",
      "Epoch 3/30\n",
      "235/235 [==============================] - 2s 9ms/step - loss: 0.3593 - accuracy: 0.8693 - val_loss: 0.3350 - val_accuracy: 0.8744\n",
      "Epoch 4/30\n",
      "235/235 [==============================] - 2s 8ms/step - loss: 0.3360 - accuracy: 0.8771 - val_loss: 0.3222 - val_accuracy: 0.8812\n",
      "Epoch 5/30\n",
      "235/235 [==============================] - 2s 8ms/step - loss: 0.3190 - accuracy: 0.8810 - val_loss: 0.3260 - val_accuracy: 0.8774\n",
      "Epoch 6/30\n",
      "235/235 [==============================] - 2s 9ms/step - loss: 0.3059 - accuracy: 0.8875 - val_loss: 0.3029 - val_accuracy: 0.8852\n",
      "Epoch 7/30\n",
      "235/235 [==============================] - 2s 8ms/step - loss: 0.2923 - accuracy: 0.8929 - val_loss: 0.2887 - val_accuracy: 0.8917\n",
      "Epoch 8/30\n",
      "235/235 [==============================] - 2s 8ms/step - loss: 0.2812 - accuracy: 0.8943 - val_loss: 0.2957 - val_accuracy: 0.8892\n",
      "Epoch 9/30\n",
      "235/235 [==============================] - 2s 8ms/step - loss: 0.2726 - accuracy: 0.8989 - val_loss: 0.3013 - val_accuracy: 0.8873\n",
      "Epoch 10/30\n",
      "235/235 [==============================] - 2s 7ms/step - loss: 0.2695 - accuracy: 0.8981 - val_loss: 0.2949 - val_accuracy: 0.8927\n",
      "Epoch 11/30\n",
      "235/235 [==============================] - 2s 7ms/step - loss: 0.2590 - accuracy: 0.9025 - val_loss: 0.2896 - val_accuracy: 0.8959\n",
      "Epoch 12/30\n",
      "235/235 [==============================] - 2s 7ms/step - loss: 0.2504 - accuracy: 0.9055 - val_loss: 0.2775 - val_accuracy: 0.9011\n",
      "Epoch 13/30\n",
      "235/235 [==============================] - 2s 7ms/step - loss: 0.2455 - accuracy: 0.9080 - val_loss: 0.2848 - val_accuracy: 0.8996\n",
      "Epoch 14/30\n",
      "235/235 [==============================] - 2s 7ms/step - loss: 0.2372 - accuracy: 0.9111 - val_loss: 0.2765 - val_accuracy: 0.8996\n",
      "Epoch 15/30\n",
      "235/235 [==============================] - 2s 7ms/step - loss: 0.2354 - accuracy: 0.9116 - val_loss: 0.2830 - val_accuracy: 0.9003\n",
      "Epoch 16/30\n",
      "235/235 [==============================] - 2s 8ms/step - loss: 0.2287 - accuracy: 0.9127 - val_loss: 0.2876 - val_accuracy: 0.8960\n",
      "Epoch 17/30\n",
      "235/235 [==============================] - 2s 8ms/step - loss: 0.2239 - accuracy: 0.9147 - val_loss: 0.2847 - val_accuracy: 0.8992\n",
      "Epoch 18/30\n",
      "235/235 [==============================] - 2s 8ms/step - loss: 0.2201 - accuracy: 0.9154 - val_loss: 0.2749 - val_accuracy: 0.9020\n",
      "Epoch 19/30\n",
      "235/235 [==============================] - 2s 8ms/step - loss: 0.2144 - accuracy: 0.9181 - val_loss: 0.2741 - val_accuracy: 0.9007\n",
      "Epoch 20/30\n",
      "235/235 [==============================] - 2s 8ms/step - loss: 0.2093 - accuracy: 0.9205 - val_loss: 0.2811 - val_accuracy: 0.9021\n",
      "Epoch 21/30\n",
      "235/235 [==============================] - 2s 8ms/step - loss: 0.2060 - accuracy: 0.9219 - val_loss: 0.2948 - val_accuracy: 0.8958\n",
      "Epoch 22/30\n",
      "235/235 [==============================] - 2s 8ms/step - loss: 0.2042 - accuracy: 0.9221 - val_loss: 0.2683 - val_accuracy: 0.9086\n",
      "Epoch 23/30\n",
      "235/235 [==============================] - 2s 8ms/step - loss: 0.1987 - accuracy: 0.9248 - val_loss: 0.2845 - val_accuracy: 0.9018\n",
      "Epoch 24/30\n",
      "235/235 [==============================] - 2s 8ms/step - loss: 0.1961 - accuracy: 0.9259 - val_loss: 0.2754 - val_accuracy: 0.9034\n",
      "Epoch 25/30\n",
      "235/235 [==============================] - 2s 8ms/step - loss: 0.1922 - accuracy: 0.9276 - val_loss: 0.2749 - val_accuracy: 0.9020\n",
      "Epoch 26/30\n",
      "235/235 [==============================] - 2s 8ms/step - loss: 0.1853 - accuracy: 0.9291 - val_loss: 0.2812 - val_accuracy: 0.9053\n",
      "Epoch 27/30\n",
      "235/235 [==============================] - 2s 8ms/step - loss: 0.1836 - accuracy: 0.9297 - val_loss: 0.2749 - val_accuracy: 0.9049\n",
      "Epoch 28/30\n",
      "235/235 [==============================] - 2s 8ms/step - loss: 0.1812 - accuracy: 0.9321 - val_loss: 0.2800 - val_accuracy: 0.9022\n",
      "Epoch 29/30\n",
      "235/235 [==============================] - 2s 8ms/step - loss: 0.1797 - accuracy: 0.9312 - val_loss: 0.2734 - val_accuracy: 0.9057\n",
      "Epoch 30/30\n",
      "235/235 [==============================] - 2s 8ms/step - loss: 0.1736 - accuracy: 0.9342 - val_loss: 0.2994 - val_accuracy: 0.9028\n"
     ]
    }
   ],
   "source": [
    "history2 = model2.fit(\n",
    "    trainSeq,\n",
    "    trainLabel,\n",
    "    batch_size=batchSize,\n",
    "    epochs=epochs,\n",
    "    validation_split=0.2\n",
    ")"
   ]
  },
  {
   "cell_type": "code",
   "execution_count": 28,
   "metadata": {},
   "outputs": [
    {
     "name": "stdout",
     "output_type": "stream",
     "text": [
      "313/313 - 0s - loss: 0.2994 - accuracy: 0.9028\n",
      "Accuracy on test data:  0.9028000235557556\n"
     ]
    }
   ],
   "source": [
    "accuracy2 = model2.evaluate(testSeq, testLabel, verbose=2)\n",
    "print('Accuracy on test data: ', accuracy2[1])"
   ]
  },
  {
   "cell_type": "code",
   "execution_count": 29,
   "metadata": {},
   "outputs": [
    {
     "data": {
      "image/png": "[encoded data removed]",
      "text/plain": [
       "<Figure size 432x288 with 1 Axes>"
      ]
     },
     "metadata": {
      "needs_background": "light"
     },
     "output_type": "display_data"
    }
   ],
   "source": [
    "plt.plot(history2.history['val_accuracy'])\n",
    "plt.title('Model accuracy')\n",
    "plt.ylabel('Accuracy')\n",
    "plt.xlabel('Epoch')\n",
    "plt.legend(['Test'], loc='upper left')\n",
    "plt.show()"
   ]
  },
  {
   "cell_type": "markdown",
   "metadata": {},
   "source": [
    "Сейчас мы имеем дело с более серьезной нейросетью. Ее качество составляет 90%, что больше, чем качество, которое показала линейная регрессия. Здесь мы использовали оптимизатор Адам, который является некой оптимизацией стохастического градиентного спуска, также, чтобы предотвратить переобучение применили несколько слоев Dropout, при котором случайно выбранные нейроны игнорируются во время обучения."
   ]
  },
  {
   "cell_type": "markdown",
   "metadata": {},
   "source": [
    "### 3. Сверточная нейронная сеть\n",
    "\n",
    "После этого вам предлагается реализовать сверточную нейронную сеть. В данном случае лучше использовать готовые слои, которые предоставляют keras или tensorflow.\n",
    "\n",
    "Начните с модели с несколькими сверточными слоями. Так же рекомендуется использовать слои суб-дискретизации, например Max Pooling слои. Они понижают размерность сходных данных и выделяют наиболее важные признаки из данных. Посчитайте качество получившейся модели на тестовой выборке. Сравните полученные результаты с результатами полносвязной нейронной сети."
   ]
  },
  {
   "cell_type": "code",
   "execution_count": 32,
   "metadata": {},
   "outputs": [],
   "source": [
    "from tensorflow.keras.layers import Conv2D, MaxPooling2D"
   ]
  },
  {
   "cell_type": "code",
   "execution_count": 34,
   "metadata": {},
   "outputs": [
    {
     "name": "stdout",
     "output_type": "stream",
     "text": [
      "Model: \"sequential_2\"\n",
      "_________________________________________________________________\n",
      "Layer (type)                 Output Shape              Param #   \n",
      "=================================================================\n",
      "conv2d_2 (Conv2D)            (None, 28, 28, 32)        320       \n",
      "_________________________________________________________________\n",
      "max_pooling2d (MaxPooling2D) (None, 14, 14, 32)        0         \n",
      "_________________________________________________________________\n",
      "conv2d_3 (Conv2D)            (None, 14, 14, 64)        18496     \n",
      "_________________________________________________________________\n",
      "max_pooling2d_1 (MaxPooling2 (None, 7, 7, 64)          0         \n",
      "_________________________________________________________________\n",
      "flatten_2 (Flatten)          (None, 3136)              0         \n",
      "_________________________________________________________________\n",
      "dense_4 (Dense)              (None, 512)               1606144   \n",
      "_________________________________________________________________\n",
      "dropout_2 (Dropout)          (None, 512)               0         \n",
      "_________________________________________________________________\n",
      "dense_5 (Dense)              (None, 10)                5130      \n",
      "=================================================================\n",
      "Total params: 1,630,090\n",
      "Trainable params: 1,630,090\n",
      "Non-trainable params: 0\n",
      "_________________________________________________________________\n"
     ]
    }
   ],
   "source": [
    "model3 = Sequential([\n",
    "    Conv2D(32, kernel_size=(3, 3), padding='same',activation='relu', input_shape=(28, 28, 1)),\n",
    "    MaxPooling2D(pool_size=(2, 2)),\n",
    "    \n",
    "    Conv2D(64, kernel_size=(3, 3), padding='same',activation='relu'),\n",
    "    MaxPooling2D(pool_size=(2, 2)),\n",
    "\n",
    "    Flatten(),\n",
    "    Dense(512, activation='relu'),\n",
    "    Dropout(0.2),\n",
    "    Dense(numClasses, activation='softmax')\n",
    "])\n",
    "model3.summary()"
   ]
  },
  {
   "cell_type": "code",
   "execution_count": 35,
   "metadata": {},
   "outputs": [],
   "source": [
    "model3.compile(\n",
    "    loss='categorical_crossentropy',\n",
    "    optimizer='adam',\n",
    "    metrics=['accuracy']\n",
    ")"
   ]
  },
  {
   "cell_type": "code",
   "execution_count": 36,
   "metadata": {},
   "outputs": [
    {
     "name": "stdout",
     "output_type": "stream",
     "text": [
      "Epoch 1/30\n",
      "235/235 [==============================] - 31s 134ms/step - loss: 0.5195 - accuracy: 0.8142 - val_loss: 0.3338 - val_accuracy: 0.8834\n",
      "Epoch 2/30\n",
      "235/235 [==============================] - 33s 142ms/step - loss: 0.3186 - accuracy: 0.8842 - val_loss: 0.2773 - val_accuracy: 0.9010\n",
      "Epoch 3/30\n",
      "235/235 [==============================] - 34s 145ms/step - loss: 0.2687 - accuracy: 0.9018 - val_loss: 0.2601 - val_accuracy: 0.9055\n",
      "Epoch 4/30\n",
      "235/235 [==============================] - 36s 155ms/step - loss: 0.2410 - accuracy: 0.9124 - val_loss: 0.2358 - val_accuracy: 0.9158\n",
      "Epoch 5/30\n",
      "235/235 [==============================] - 32s 136ms/step - loss: 0.2196 - accuracy: 0.9204 - val_loss: 0.2162 - val_accuracy: 0.9186\n",
      "Epoch 6/30\n",
      "235/235 [==============================] - 32s 137ms/step - loss: 0.1991 - accuracy: 0.9274 - val_loss: 0.2138 - val_accuracy: 0.9222\n",
      "Epoch 7/30\n",
      "235/235 [==============================] - 34s 144ms/step - loss: 0.1810 - accuracy: 0.9337 - val_loss: 0.2011 - val_accuracy: 0.9281\n",
      "Epoch 8/30\n",
      "235/235 [==============================] - 33s 142ms/step - loss: 0.1695 - accuracy: 0.9382 - val_loss: 0.2040 - val_accuracy: 0.9270\n",
      "Epoch 9/30\n",
      "235/235 [==============================] - 34s 145ms/step - loss: 0.1536 - accuracy: 0.9425 - val_loss: 0.2007 - val_accuracy: 0.9284\n",
      "Epoch 10/30\n",
      "235/235 [==============================] - 34s 143ms/step - loss: 0.1383 - accuracy: 0.9489 - val_loss: 0.1930 - val_accuracy: 0.9315\n",
      "Epoch 11/30\n",
      "235/235 [==============================] - 32s 135ms/step - loss: 0.1248 - accuracy: 0.9545 - val_loss: 0.1981 - val_accuracy: 0.9305\n",
      "Epoch 12/30\n",
      "235/235 [==============================] - 32s 135ms/step - loss: 0.1130 - accuracy: 0.9592 - val_loss: 0.2035 - val_accuracy: 0.9306\n",
      "Epoch 13/30\n",
      "235/235 [==============================] - 31s 133ms/step - loss: 0.1009 - accuracy: 0.9635 - val_loss: 0.2007 - val_accuracy: 0.9328\n",
      "Epoch 14/30\n",
      "235/235 [==============================] - 32s 135ms/step - loss: 0.0893 - accuracy: 0.9674 - val_loss: 0.2058 - val_accuracy: 0.9314\n",
      "Epoch 15/30\n",
      "235/235 [==============================] - 32s 135ms/step - loss: 0.0785 - accuracy: 0.9723 - val_loss: 0.2251 - val_accuracy: 0.9294\n",
      "Epoch 16/30\n",
      "235/235 [==============================] - 32s 135ms/step - loss: 0.0699 - accuracy: 0.9747 - val_loss: 0.2134 - val_accuracy: 0.9350\n",
      "Epoch 17/30\n",
      "235/235 [==============================] - 31s 134ms/step - loss: 0.0605 - accuracy: 0.9785 - val_loss: 0.2200 - val_accuracy: 0.9362\n",
      "Epoch 18/30\n",
      "235/235 [==============================] - 33s 140ms/step - loss: 0.0525 - accuracy: 0.9808 - val_loss: 0.2397 - val_accuracy: 0.9308\n",
      "Epoch 19/30\n",
      "235/235 [==============================] - 32s 136ms/step - loss: 0.0493 - accuracy: 0.9825 - val_loss: 0.2515 - val_accuracy: 0.9312\n",
      "Epoch 20/30\n",
      "235/235 [==============================] - 32s 135ms/step - loss: 0.0407 - accuracy: 0.9860 - val_loss: 0.2510 - val_accuracy: 0.9320\n",
      "Epoch 21/30\n",
      "235/235 [==============================] - 32s 136ms/step - loss: 0.0372 - accuracy: 0.9872 - val_loss: 0.2589 - val_accuracy: 0.9326\n",
      "Epoch 22/30\n",
      "235/235 [==============================] - 32s 138ms/step - loss: 0.0310 - accuracy: 0.9893 - val_loss: 0.2687 - val_accuracy: 0.9333\n",
      "Epoch 23/30\n",
      "235/235 [==============================] - 32s 137ms/step - loss: 0.0271 - accuracy: 0.9904 - val_loss: 0.3015 - val_accuracy: 0.9307\n",
      "Epoch 24/30\n",
      "235/235 [==============================] - 32s 138ms/step - loss: 0.0275 - accuracy: 0.9905 - val_loss: 0.2844 - val_accuracy: 0.9308\n",
      "Epoch 25/30\n",
      "235/235 [==============================] - 33s 139ms/step - loss: 0.0209 - accuracy: 0.9931 - val_loss: 0.3116 - val_accuracy: 0.9294\n",
      "Epoch 26/30\n",
      "235/235 [==============================] - 32s 138ms/step - loss: 0.0207 - accuracy: 0.9929 - val_loss: 0.3010 - val_accuracy: 0.9348\n",
      "Epoch 27/30\n",
      "235/235 [==============================] - 32s 137ms/step - loss: 0.0207 - accuracy: 0.9929 - val_loss: 0.3199 - val_accuracy: 0.9309\n",
      "Epoch 28/30\n",
      "235/235 [==============================] - 32s 135ms/step - loss: 0.0183 - accuracy: 0.9940 - val_loss: 0.3356 - val_accuracy: 0.9319\n",
      "Epoch 29/30\n",
      "235/235 [==============================] - 32s 136ms/step - loss: 0.0177 - accuracy: 0.9939 - val_loss: 0.3246 - val_accuracy: 0.9324\n",
      "Epoch 30/30\n",
      "235/235 [==============================] - 35s 149ms/step - loss: 0.0189 - accuracy: 0.9932 - val_loss: 0.3362 - val_accuracy: 0.9293\n"
     ]
    }
   ],
   "source": [
    "history3 = model3.fit(\n",
    "    trainSeq,\n",
    "    trainLabel,\n",
    "    batch_size=batchSize,\n",
    "    epochs=epochs,\n",
    "    validation_split=0.2\n",
    ")"
   ]
  },
  {
   "cell_type": "code",
   "execution_count": 37,
   "metadata": {},
   "outputs": [
    {
     "name": "stdout",
     "output_type": "stream",
     "text": [
      "313/313 - 1s - loss: 0.3362 - accuracy: 0.9293\n",
      "Accuracy on test data:  0.9293000102043152\n"
     ]
    }
   ],
   "source": [
    "accuracy3 = model3.evaluate(testSeq, testLabel, verbose=2)\n",
    "print('Accuracy on test data: ', accuracy3[1])"
   ]
  },
  {
   "cell_type": "code",
   "execution_count": 38,
   "metadata": {},
   "outputs": [
    {
     "data": {
      "image/png": "[encoded data removed]",
      "text/plain": [
       "<Figure size 432x288 with 1 Axes>"
      ]
     },
     "metadata": {
      "needs_background": "light"
     },
     "output_type": "display_data"
    }
   ],
   "source": [
    "plt.plot(history3.history['val_accuracy'])\n",
    "plt.title('Model accuracy')\n",
    "plt.ylabel('Accuracy')\n",
    "plt.xlabel('Epoch')\n",
    "plt.legend(['Test'], loc='upper left')\n",
    "plt.show()"
   ]
  },
  {
   "cell_type": "markdown",
   "metadata": {},
   "source": [
    "По сравнению с обычной полносвязной нейронной сетью эта нейросетка показала лучшие результаты. Качество в 93% против 90%. Также хотелось бы отметить, что сверточная сеть достигла качества в 92% уже на 5 эпохе, в то время как полносвязная нейросеть упала ниже 88% на этой же эпохе. Более того, приемлимое качество у полносвязной нн стало более стабильным после 20 эпохи."
   ]
  },
  {
   "cell_type": "markdown",
   "metadata": {},
   "source": [
    "\n",
    "Далее, попробуйте увеличить количество слоев в вашей нейронной сети. Достаточно добавить несколько новых сверточных слоев. Проанализируете, как изменилось качество в этом случае.\n"
   ]
  },
  {
   "cell_type": "code",
   "execution_count": 40,
   "metadata": {},
   "outputs": [
    {
     "name": "stdout",
     "output_type": "stream",
     "text": [
      "Model: \"sequential_3\"\n",
      "_________________________________________________________________\n",
      "Layer (type)                 Output Shape              Param #   \n",
      "=================================================================\n",
      "conv2d_4 (Conv2D)            (None, 28, 28, 32)        320       \n",
      "_________________________________________________________________\n",
      "max_pooling2d_2 (MaxPooling2 (None, 14, 14, 32)        0         \n",
      "_________________________________________________________________\n",
      "conv2d_5 (Conv2D)            (None, 14, 14, 64)        18496     \n",
      "_________________________________________________________________\n",
      "max_pooling2d_3 (MaxPooling2 (None, 7, 7, 64)          0         \n",
      "_________________________________________________________________\n",
      "conv2d_6 (Conv2D)            (None, 7, 7, 124)         71548     \n",
      "_________________________________________________________________\n",
      "max_pooling2d_4 (MaxPooling2 (None, 3, 3, 124)         0         \n",
      "_________________________________________________________________\n",
      "conv2d_7 (Conv2D)            (None, 3, 3, 256)         285952    \n",
      "_________________________________________________________________\n",
      "max_pooling2d_5 (MaxPooling2 (None, 1, 1, 256)         0         \n",
      "_________________________________________________________________\n",
      "flatten_3 (Flatten)          (None, 256)               0         \n",
      "_________________________________________________________________\n",
      "dense_6 (Dense)              (None, 512)               131584    \n",
      "_________________________________________________________________\n",
      "dropout_3 (Dropout)          (None, 512)               0         \n",
      "_________________________________________________________________\n",
      "dense_7 (Dense)              (None, 10)                5130      \n",
      "=================================================================\n",
      "Total params: 513,030\n",
      "Trainable params: 513,030\n",
      "Non-trainable params: 0\n",
      "_________________________________________________________________\n"
     ]
    }
   ],
   "source": [
    "model4 = Sequential([\n",
    "    Conv2D(32, kernel_size=(3, 3), padding='same',activation='relu', input_shape=(28, 28, 1)),\n",
    "    MaxPooling2D(pool_size=(2, 2)),\n",
    "    \n",
    "    Conv2D(64, kernel_size=(3, 3), padding='same',activation='relu'),\n",
    "    MaxPooling2D(pool_size=(2, 2)),\n",
    "    \n",
    "    Conv2D(124, kernel_size=(3, 3), padding='same',activation='relu'),\n",
    "    MaxPooling2D(pool_size=(2, 2)),\n",
    "    \n",
    "    Conv2D(256, kernel_size=(3, 3), padding='same',activation='relu'),\n",
    "    MaxPooling2D(pool_size=(2, 2)),\n",
    "\n",
    "\n",
    "    Flatten(),\n",
    "    Dense(512, activation='relu'),\n",
    "    Dropout(0.2),\n",
    "    Dense(numClasses, activation='softmax')\n",
    "])\n",
    "model4.summary()"
   ]
  },
  {
   "cell_type": "code",
   "execution_count": 41,
   "metadata": {},
   "outputs": [],
   "source": [
    "model4.compile(\n",
    "    loss='categorical_crossentropy',\n",
    "    optimizer='adam',\n",
    "    metrics=['accuracy']\n",
    ")"
   ]
  },
  {
   "cell_type": "code",
   "execution_count": 42,
   "metadata": {},
   "outputs": [
    {
     "name": "stdout",
     "output_type": "stream",
     "text": [
      "Epoch 1/30\n",
      "235/235 [==============================] - 63s 267ms/step - loss: 0.6660 - accuracy: 0.7521 - val_loss: 0.3958 - val_accuracy: 0.8577\n",
      "Epoch 2/30\n",
      "235/235 [==============================] - 62s 264ms/step - loss: 0.3661 - accuracy: 0.8663 - val_loss: 0.3294 - val_accuracy: 0.8789\n",
      "Epoch 3/30\n",
      "235/235 [==============================] - 62s 264ms/step - loss: 0.3072 - accuracy: 0.8881 - val_loss: 0.2807 - val_accuracy: 0.8981\n",
      "Epoch 4/30\n",
      "235/235 [==============================] - 66s 279ms/step - loss: 0.2706 - accuracy: 0.9001 - val_loss: 0.2894 - val_accuracy: 0.8919\n",
      "Epoch 5/30\n",
      "235/235 [==============================] - 66s 282ms/step - loss: 0.2427 - accuracy: 0.9103 - val_loss: 0.2591 - val_accuracy: 0.9000\n",
      "Epoch 6/30\n",
      "235/235 [==============================] - 64s 274ms/step - loss: 0.2243 - accuracy: 0.9171 - val_loss: 0.2389 - val_accuracy: 0.9128\n",
      "Epoch 7/30\n",
      "235/235 [==============================] - 65s 275ms/step - loss: 0.2098 - accuracy: 0.9221 - val_loss: 0.2357 - val_accuracy: 0.9129\n",
      "Epoch 8/30\n",
      "235/235 [==============================] - 61s 258ms/step - loss: 0.1930 - accuracy: 0.9283 - val_loss: 0.2192 - val_accuracy: 0.9201\n",
      "Epoch 9/30\n",
      "235/235 [==============================] - 64s 271ms/step - loss: 0.1748 - accuracy: 0.9358 - val_loss: 0.2230 - val_accuracy: 0.9206\n",
      "Epoch 10/30\n",
      "235/235 [==============================] - 61s 259ms/step - loss: 0.1647 - accuracy: 0.9384 - val_loss: 0.2291 - val_accuracy: 0.9151\n",
      "Epoch 11/30\n",
      "235/235 [==============================] - 62s 264ms/step - loss: 0.1530 - accuracy: 0.9431 - val_loss: 0.2154 - val_accuracy: 0.9241\n",
      "Epoch 12/30\n",
      "235/235 [==============================] - 62s 263ms/step - loss: 0.1392 - accuracy: 0.9481 - val_loss: 0.2187 - val_accuracy: 0.9210\n",
      "Epoch 13/30\n",
      "235/235 [==============================] - 72s 307ms/step - loss: 0.1250 - accuracy: 0.9531 - val_loss: 0.2189 - val_accuracy: 0.9245\n",
      "Epoch 14/30\n",
      "235/235 [==============================] - 68s 291ms/step - loss: 0.1139 - accuracy: 0.9572 - val_loss: 0.2331 - val_accuracy: 0.9227\n",
      "Epoch 15/30\n",
      "235/235 [==============================] - 68s 288ms/step - loss: 0.1043 - accuracy: 0.9619 - val_loss: 0.2405 - val_accuracy: 0.9231\n",
      "Epoch 16/30\n",
      "235/235 [==============================] - 74s 313ms/step - loss: 0.0922 - accuracy: 0.9660 - val_loss: 0.2409 - val_accuracy: 0.9243\n",
      "Epoch 17/30\n",
      "235/235 [==============================] - 65s 275ms/step - loss: 0.0809 - accuracy: 0.9694 - val_loss: 0.2532 - val_accuracy: 0.9268\n",
      "Epoch 18/30\n",
      "235/235 [==============================] - 67s 284ms/step - loss: 0.0731 - accuracy: 0.9727 - val_loss: 0.2642 - val_accuracy: 0.9281\n",
      "Epoch 19/30\n",
      "235/235 [==============================] - 69s 296ms/step - loss: 0.0708 - accuracy: 0.9730 - val_loss: 0.3028 - val_accuracy: 0.9204\n",
      "Epoch 20/30\n",
      "235/235 [==============================] - 78s 333ms/step - loss: 0.0578 - accuracy: 0.9779 - val_loss: 0.3171 - val_accuracy: 0.9133\n",
      "Epoch 21/30\n",
      "235/235 [==============================] - 64s 271ms/step - loss: 0.0585 - accuracy: 0.9779 - val_loss: 0.2946 - val_accuracy: 0.9255\n",
      "Epoch 22/30\n",
      "235/235 [==============================] - 61s 260ms/step - loss: 0.0474 - accuracy: 0.9826 - val_loss: 0.3281 - val_accuracy: 0.9191\n",
      "Epoch 23/30\n",
      "235/235 [==============================] - 62s 263ms/step - loss: 0.0433 - accuracy: 0.9836 - val_loss: 0.2928 - val_accuracy: 0.9247\n",
      "Epoch 24/30\n",
      "235/235 [==============================] - 67s 286ms/step - loss: 0.0437 - accuracy: 0.9841 - val_loss: 0.3331 - val_accuracy: 0.9251\n",
      "Epoch 25/30\n",
      "235/235 [==============================] - 66s 279ms/step - loss: 0.0342 - accuracy: 0.9873 - val_loss: 0.3817 - val_accuracy: 0.9238\n",
      "Epoch 26/30\n",
      "235/235 [==============================] - 62s 264ms/step - loss: 0.0369 - accuracy: 0.9858 - val_loss: 0.3282 - val_accuracy: 0.9263\n",
      "Epoch 27/30\n",
      "235/235 [==============================] - 62s 263ms/step - loss: 0.0308 - accuracy: 0.9887 - val_loss: 0.3677 - val_accuracy: 0.9258\n",
      "Epoch 28/30\n",
      "235/235 [==============================] - 62s 264ms/step - loss: 0.0330 - accuracy: 0.9880 - val_loss: 0.3933 - val_accuracy: 0.9258\n",
      "Epoch 29/30\n",
      "235/235 [==============================] - 62s 266ms/step - loss: 0.0273 - accuracy: 0.9900 - val_loss: 0.4083 - val_accuracy: 0.9237\n",
      "Epoch 30/30\n",
      "235/235 [==============================] - 63s 270ms/step - loss: 0.0297 - accuracy: 0.9888 - val_loss: 0.3874 - val_accuracy: 0.9254\n"
     ]
    }
   ],
   "source": [
    "history4 = model4.fit(\n",
    "    trainSeq,\n",
    "    trainLabel,\n",
    "    batch_size=batchSize,\n",
    "    epochs=epochs,\n",
    "    validation_split=0.2\n",
    ")"
   ]
  },
  {
   "cell_type": "code",
   "execution_count": 43,
   "metadata": {},
   "outputs": [
    {
     "name": "stdout",
     "output_type": "stream",
     "text": [
      "313/313 - 2s - loss: 0.3874 - accuracy: 0.9254\n",
      "Accuracy on test data:  0.9254000186920166\n"
     ]
    }
   ],
   "source": [
    "accuracy4 = model4.evaluate(testSeq, testLabel, verbose=2)\n",
    "print('Accuracy on test data: ', accuracy4[1])"
   ]
  },
  {
   "cell_type": "code",
   "execution_count": 44,
   "metadata": {},
   "outputs": [
    {
     "data": {
      "image/png": "[encoded data removed]",
      "text/plain": [
       "<Figure size 432x288 with 1 Axes>"
      ]
     },
     "metadata": {
      "needs_background": "light"
     },
     "output_type": "display_data"
    }
   ],
   "source": [
    "plt.plot(history4.history['val_accuracy'])\n",
    "plt.title('Model accuracy')\n",
    "plt.ylabel('Accuracy')\n",
    "plt.xlabel('Epoch')\n",
    "plt.legend(['Test'], loc='upper left')\n",
    "plt.show()"
   ]
  },
  {
   "cell_type": "markdown",
   "metadata": {},
   "source": [
    "В моем случае добавление еще нескольких слоев свертки не улучшило качество, а даже чуть снизило."
   ]
  },
  {
   "cell_type": "markdown",
   "metadata": {},
   "source": [
    "В заключение, рекомендуется попробовать добавить Batch Normalization слои. Обычно они располагаются после сверточных слоев или слоев полносвязной нейронной сети. Обычно они улучшают качество модели, этим объясняется их популярность использования в современных архитектурах нейронных сетей. Однако, это требует проверки для конкретной модели и конкретного набора данных."
   ]
  },
  {
   "cell_type": "code",
   "execution_count": 51,
   "metadata": {},
   "outputs": [],
   "source": [
    "from tensorflow.keras.layers import BatchNormalization"
   ]
  },
  {
   "cell_type": "code",
   "execution_count": 78,
   "metadata": {},
   "outputs": [
    {
     "name": "stdout",
     "output_type": "stream",
     "text": [
      "Model: \"sequential_7\"\n",
      "_________________________________________________________________\n",
      "Layer (type)                 Output Shape              Param #   \n",
      "=================================================================\n",
      "conv2d_20 (Conv2D)           (None, 28, 28, 32)        320       \n",
      "_________________________________________________________________\n",
      "batch_normalization_4 (Batch (None, 28, 28, 32)        112       \n",
      "_________________________________________________________________\n",
      "max_pooling2d_15 (MaxPooling (None, 14, 14, 32)        0         \n",
      "_________________________________________________________________\n",
      "conv2d_21 (Conv2D)           (None, 14, 14, 124)       35836     \n",
      "_________________________________________________________________\n",
      "batch_normalization_5 (Batch (None, 14, 14, 124)       56        \n",
      "_________________________________________________________________\n",
      "max_pooling2d_16 (MaxPooling (None, 7, 7, 124)         0         \n",
      "_________________________________________________________________\n",
      "flatten_7 (Flatten)          (None, 6076)              0         \n",
      "_________________________________________________________________\n",
      "dense_14 (Dense)             (None, 512)               3111424   \n",
      "_________________________________________________________________\n",
      "dropout_7 (Dropout)          (None, 512)               0         \n",
      "_________________________________________________________________\n",
      "dense_15 (Dense)             (None, 10)                5130      \n",
      "=================================================================\n",
      "Total params: 3,152,878\n",
      "Trainable params: 3,152,794\n",
      "Non-trainable params: 84\n",
      "_________________________________________________________________\n"
     ]
    }
   ],
   "source": [
    "model5 = Sequential([\n",
    "    Conv2D(32, kernel_size=(3, 3), padding='same',activation='relu', input_shape=(28, 28, 1)),\n",
    "    BatchNormalization(axis=1),\n",
    "    MaxPooling2D(pool_size=(2, 2)),\n",
    "    \n",
    "    Conv2D(124, kernel_size=(3, 3), padding='same',activation='relu'),\n",
    "    BatchNormalization(axis=1),\n",
    "    MaxPooling2D(pool_size=(2, 2)),\n",
    "\n",
    "    Flatten(),\n",
    "    Dense(512, activation='relu'),\n",
    "    Dropout(0.2),\n",
    "    Dense(numClasses, activation='softmax')\n",
    "])\n",
    "model5.summary()"
   ]
  },
  {
   "cell_type": "code",
   "execution_count": 79,
   "metadata": {},
   "outputs": [],
   "source": [
    "model5.compile(\n",
    "    loss='categorical_crossentropy',\n",
    "    optimizer='adam',\n",
    "    metrics=['accuracy']\n",
    ")"
   ]
  },
  {
   "cell_type": "code",
   "execution_count": null,
   "metadata": {},
   "outputs": [
    {
     "name": "stdout",
     "output_type": "stream",
     "text": [
      "Epoch 1/10\n",
      "188/188 [==============================] - 50s 264ms/step - loss: 0.0078 - accuracy: 0.9973 - val_loss: 0.7265 - val_accuracy: 0.9255\n",
      "Epoch 2/10\n",
      " 68/188 [=========>....................] - ETA: 30s - loss: 0.0111 - accuracy: 0.9963"
     ]
    }
   ],
   "source": [
    "history5 = model4.fit(\n",
    "    trainSeq,\n",
    "    trainLabel,\n",
    "    batch_size=batchSize,\n",
    "    epochs=10,\n",
    "    validation_split=0.2\n",
    ")"
   ]
  },
  {
   "cell_type": "code",
   "execution_count": null,
   "metadata": {},
   "outputs": [],
   "source": [
    "accuracy5 = model5.evaluate(testSeq, testLabel, verbose=2)\n",
    "print('Accuracy on test data: ', accuracy5[1])"
   ]
  },
  {
   "cell_type": "markdown",
   "metadata": {},
   "source": [
    "Постройте график качества модели на валидационной выборке от количества эпох. Для этого вы можете использовать утилиту tensorboard."
   ]
  },
  {
   "cell_type": "code",
   "execution_count": null,
   "metadata": {},
   "outputs": [],
   "source": [
    "plt.plot(history5.history['val_accuracy'])\n",
    "plt.title('Model accuracy')\n",
    "plt.ylabel('Accuracy')\n",
    "plt.xlabel('Epoch')\n",
    "plt.legend(['Test'], loc='upper left')\n",
    "plt.show()"
   ]
  },
  {
   "cell_type": "markdown",
   "metadata": {},
   "source": [
    "Как и оказалось, самая последняя нейросетка показывает наилучшие результаты из-за своих модификаций. Батч нормализация ускоряет процесс обучение и регуляризирует параметры, позволяет не переобучаться на данных. К тому же при 15 эпохах (во всех прошлых случаях обучение происходило на 30 эпохах) эта нейросетка обучилась быстрее и с самыми маленькими потерями из всех рассмотренных выше моделей."
   ]
  }
 ],
 "metadata": {
  "kernelspec": {
   "display_name": "Python 3",
   "language": "python",
   "name": "python3"
  },
  "language_info": {
   "codemirror_mode": {
    "name": "ipython",
    "version": 3
   },
   "file_extension": ".py",
   "mimetype": "text/x-python",
   "name": "python",
   "nbconvert_exporter": "python",
   "pygments_lexer": "ipython3",
   "version": "3.7.1"
  }
 },
 "nbformat": 4,
 "nbformat_minor": 4
}
