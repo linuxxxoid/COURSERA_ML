{
 "cells": [
  {
   "cell_type": "code",
   "execution_count": 1,
   "metadata": {},
   "outputs": [],
   "source": [
    "import numpy as np\n",
    "from scipy import stats\n",
    "import matplotlib.pyplot as plt\n",
    "%matplotlib inline\n",
    "import random\n",
    "from tqdm import tqdm\n",
    "import pandas as pd\n",
    "plt.style.use('ggplot')\n",
    "from PIL import Image"
   ]
  },
  {
   "cell_type": "markdown",
   "metadata": {},
   "source": [
    "Доверительный интервал — это показатель точности измерений. Его применяют как для оценки среднего, так и для оценки дисперсии. Он также отражает, насколько величина, подсчитанная по выборке, отражает истинное значение по некоторой генеральной совокупности."
   ]
  },
  {
   "cell_type": "markdown",
   "metadata": {},
   "source": [
    "доверительный интервал определяется через вероятность того, что оцениваемый параметр (это может быть среднее или дисперсия) не выходит за границы. Эта вероятность — некоторый уровень доверия. То есть это вероятность того, что доверительный интервал содержит точные значения. Обычно берут уровень доверия, равный 0,95 либо 0,99 либо 0,90."
   ]
  },
  {
   "cell_type": "markdown",
   "metadata": {},
   "source": [
    "$$P(LB \\leqslant \\theta \\leqslant UB)=p$$\n",
    "\n",
    "p - уровень доверия\n",
    "Границы LB и UB нам надо найти"
   ]
  },
  {
   "cell_type": "markdown",
   "metadata": {},
   "source": [
    "### Нормальное распределение\n",
    "\n",
    "#### Известная дисперсия\n",
    "\n",
    "\n",
    "$P( \\bar{X} - z_{(1-\\alpha/2)} \\frac{\\sigma}{\\sqrt n}\\leqslant mu \\leqslant \\bar{X} +  z_{(1-\\alpha/2)} \\frac{\\sigma}{\\sqrt n}) = 1 - \\alpha$\n",
    "\n",
    "Нам необходимо найти границы, в которых находится среднее значение, в данном случае x с чертой — это выборочное среднее,\n",
    "\n",
    "σ — это известная дисперсия по генеральной совокупности, то есть по всему распределению,\n",
    "\n",
    "n — это размер выборки.\n",
    "\n",
    "И здесь непонятным остается параметр z. "
   ]
  },
  {
   "cell_type": "code",
   "execution_count": 2,
   "metadata": {},
   "outputs": [],
   "source": [
    "def show_svg(url):\n",
    "    return SVG(url)"
   ]
  },
  {
   "cell_type": "markdown",
   "metadata": {},
   "source": [
    "Как мы помним, существует правило двух и трех сигм, что 95 % значений содержатся в пределах ±2σ, и 99 % значений содержатся в интервале ±3σ. "
   ]
  },
  {
   "cell_type": "markdown",
   "metadata": {},
   "source": [
    "Зафиксируем некоторое исходное распределение с некоторыми параметрами среднего и сигма."
   ]
  },
  {
   "cell_type": "code",
   "execution_count": 3,
   "metadata": {},
   "outputs": [],
   "source": [
    "population = stats.norm.rvs(loc=2, scale=5, size=100000)"
   ]
  },
  {
   "cell_type": "markdown",
   "metadata": {},
   "source": [
    "Делаем семпл из этого распределения\n",
    "\n",
    "Для этого можно воспользоваться методом на np.random.choice, где мы передаем исходное распределение и указываем, какой размер выборки мы хотим получить.\n"
   ]
  },
  {
   "cell_type": "code",
   "execution_count": 4,
   "metadata": {},
   "outputs": [],
   "source": [
    "sample_size = 100\n",
    "sample = np.random.choice(a = population, size = sample_size)"
   ]
  },
  {
   "cell_type": "markdown",
   "metadata": {},
   "source": [
    "Давайте дальше найдем выборочное среднее и дисперсию по генеральной совокупности."
   ]
  },
  {
   "cell_type": "code",
   "execution_count": 5,
   "metadata": {},
   "outputs": [],
   "source": [
    "sample_mean = sample.mean()\n",
    "st_dev = population.std()"
   ]
  },
  {
   "cell_type": "code",
   "execution_count": 6,
   "metadata": {},
   "outputs": [
    {
     "data": {
      "text/plain": [
       "2.570025630379072"
      ]
     },
     "execution_count": 6,
     "metadata": {},
     "output_type": "execute_result"
    }
   ],
   "source": [
    "sample_mean"
   ]
  },
  {
   "cell_type": "code",
   "execution_count": 7,
   "metadata": {},
   "outputs": [
    {
     "data": {
      "text/plain": [
       "5.0029018216247705"
      ]
     },
     "execution_count": 7,
     "metadata": {},
     "output_type": "execute_result"
    }
   ],
   "source": [
    "st_dev"
   ]
  },
  {
   "cell_type": "markdown",
   "metadata": {},
   "source": [
    "И затем мы можем подсчитать соответствующее z-value.\n",
    "\n",
    "Здесь мы используем функцию, которая называется probability percentile function (ppf). Это функция, обратная функции распределения. \n",
    "\n",
    "Здесь мы просто задаем процент и вычисляем сразу же z-value. "
   ]
  },
  {
   "cell_type": "code",
   "execution_count": 8,
   "metadata": {},
   "outputs": [
    {
     "name": "stdout",
     "output_type": "stream",
     "text": [
      "z-value: 1.959963984540054\n"
     ]
    }
   ],
   "source": [
    "z_value = stats.norm.ppf(q = 0.975)\n",
    "print('z-value:', z_value)"
   ]
  },
  {
   "cell_type": "markdown",
   "metadata": {},
   "source": [
    "Заметим, что нормальное распределение симметрично, и поэтому нам достаточно найти z-value с одного конца, потому что в силу симметричности левая граница будет равна правой, но с противоположным знаком. "
   ]
  },
  {
   "cell_type": "code",
   "execution_count": 9,
   "metadata": {},
   "outputs": [
    {
     "data": {
      "text/plain": [
       "-1.9599639845400545"
      ]
     },
     "execution_count": 9,
     "metadata": {},
     "output_type": "execute_result"
    }
   ],
   "source": [
    "stats.norm.ppf(q = 0.025)"
   ]
  },
  {
   "cell_type": "markdown",
   "metadata": {},
   "source": [
    "Все полученные выше вычисления соберем в одну функцию"
   ]
  },
  {
   "cell_type": "code",
   "execution_count": 10,
   "metadata": {},
   "outputs": [
    {
     "name": "stdout",
     "output_type": "stream",
     "text": [
      "Confidence interval: (1.589474891521634, 3.5505763692365098)\n"
     ]
    }
   ],
   "source": [
    "interval = z_value * (st_dev / np.sqrt(sample_size))\n",
    "conf_inv = (sample_mean - interval, sample_mean + interval)\n",
    "\n",
    "print('Confidence interval:', conf_inv)"
   ]
  },
  {
   "cell_type": "code",
   "execution_count": 11,
   "metadata": {},
   "outputs": [],
   "source": [
    "def compute_ci(sample, st_dev):\n",
    "    \n",
    "    z_value = stats.norm.ppf(q = 0.975)\n",
    "    sample_size = len(sample)\n",
    "    interval = z_value * (st_dev / np.sqrt(sample_size))\n",
    "    conv_inv = (sample_mean - interval, sample_mean + interval)\n",
    "    \n",
    "    return conf_inv"
   ]
  },
  {
   "cell_type": "markdown",
   "metadata": {},
   "source": [
    "Найдем дов интервал для большей выборки. Разброс стал меньше, значит вторая оценка предпочтительнее первой, и мы смогли численно это показать. Чем больше выборка, тем точнее можно оценить параметры распределения."
   ]
  },
  {
   "cell_type": "code",
   "execution_count": 12,
   "metadata": {},
   "outputs": [
    {
     "name": "stdout",
     "output_type": "stream",
     "text": [
      "conf interval for 2000 sample size: (1.589474891521634, 3.5505763692365098)\n"
     ]
    }
   ],
   "source": [
    "np.random.choice(5)\n",
    "sample_size = 2000\n",
    "sample = np.random.choice(a = population, size = sample_size)\n",
    "\n",
    "ci = compute_ci(sample, st_dev)\n",
    "\n",
    "print('conf interval for 2000 sample size:', ci)"
   ]
  },
  {
   "cell_type": "markdown",
   "metadata": {},
   "source": [
    "#### Неизвестная дисперсия"
   ]
  },
  {
   "cell_type": "markdown",
   "metadata": {},
   "source": [
    "Как вы можете заметить, в предыдущей задаче для поиска дов интервала рассматривалась довольно большая выборка, что позволяло по ней оценить диспресию. На практике не всегда размер выборки бывает большим, и нельзя оценить дисперсию. \n",
    "\n",
    "Здесь на помощь приходит распределение Стьюдента - как мы уже говорили, распределение Стьюдента может заменить нормальное, если неизвестна дисперсия и размер выборки достаточно маленький.\n",
    "\n",
    "Степень свободы: размер выборки - 1\n",
    "\n",
    "$${P}\\left( \\bar{X} - t_{1-\\frac{\\alpha}{2},n-1} \\frac{S}{\\sqrt{n}} \\le \\mu \\le \\bar{X} + t_{1-\\frac{\\alpha}{2},n-1} \\frac{S}{\\sqrt{n}}\\right) = 1-\\alpha$$"
   ]
  },
  {
   "cell_type": "markdown",
   "metadata": {},
   "source": [
    "Алгоритм поиска доверительного интервала не отличается, только z-value заменяется на t-value:"
   ]
  },
  {
   "cell_type": "code",
   "execution_count": 13,
   "metadata": {},
   "outputs": [],
   "source": [
    "def compute_ci_t(sample, alpha = 0.95):\n",
    "    \n",
    "    n = sample.shape[0]\n",
    "    mu, se = np.mean(sample), stats.sem(sample)\n",
    "    bound = se * stats.t.ppf((1 + alpha) / 2.0, n-1)\n",
    "    \n",
    "    return mu - bound, mu + bound"
   ]
  },
  {
   "cell_type": "code",
   "execution_count": 14,
   "metadata": {},
   "outputs": [
    {
     "name": "stdout",
     "output_type": "stream",
     "text": [
      "conf interval with t test for 2000 sample size: (1.0886731140077819, 4.382022526515977)\n"
     ]
    }
   ],
   "source": [
    "sample = np.random.choice(a = population, size = 30)\n",
    "ci_t = compute_ci_t(sample, alpha = 0.95)\n",
    "print(\"conf interval with t test for 2000 sample size:\", ci_t)"
   ]
  },
  {
   "cell_type": "markdown",
   "metadata": {},
   "source": [
    "Мы видим, что в этом случае доверительный интервал стал сильно больше, потому что дисперсия неизвестна. Поэтому имеет смысл его расширять."
   ]
  },
  {
   "cell_type": "markdown",
   "metadata": {},
   "source": [
    "#### Что делать, если неизвестно распределение"
   ]
  },
  {
   "cell_type": "markdown",
   "metadata": {},
   "source": [
    "В этом случае нам поможет ЦПТ - вспомним, что распределение средних есть нормальное распределение, а для нормального распределения мы знаем как строить доверительный интервал. Рассмотрим на примере поездок такси в Мехико:"
   ]
  },
  {
   "cell_type": "code",
   "execution_count": 15,
   "metadata": {},
   "outputs": [],
   "source": [
    "taxi_mex = pd.read_csv('taxi-routes/mex_clean.csv')"
   ]
  },
  {
   "cell_type": "code",
   "execution_count": 16,
   "metadata": {},
   "outputs": [],
   "source": [
    "def generate_distribution_sample(data, sample_size, dist_size):\n",
    "    \n",
    "    sample_means = []\n",
    "    for i in tqdm(range(dist_size)):\n",
    "        sample = np.random.choice(a = data, size = sample_size)\n",
    "        sample_means.append(np.mean(sample))\n",
    "        \n",
    "    return sample_means"
   ]
  },
  {
   "cell_type": "code",
   "execution_count": 17,
   "metadata": {},
   "outputs": [],
   "source": [
    "sample_size = 10000\n",
    "dist_size = 50000"
   ]
  },
  {
   "cell_type": "code",
   "execution_count": 18,
   "metadata": {},
   "outputs": [
    {
     "name": "stderr",
     "output_type": "stream",
     "text": [
      "100%|██████████| 50000/50000 [00:07<00:00, 6705.91it/s]\n"
     ]
    }
   ],
   "source": [
    "sample_means = generate_distribution_sample(taxi_mex['dist_meters']/1000, sample_size, dist_size)"
   ]
  },
  {
   "cell_type": "code",
   "execution_count": 19,
   "metadata": {},
   "outputs": [
    {
     "data": {
      "image/png": "[encoded data removed]",
      "text/plain": [
       "<Figure size 432x288 with 1 Axes>"
      ]
     },
     "metadata": {},
     "output_type": "display_data"
    }
   ],
   "source": [
    "plt.hist(sample_means, bins=100);\n",
    "plt.xlabel('distance in km');"
   ]
  },
  {
   "cell_type": "code",
   "execution_count": 20,
   "metadata": {},
   "outputs": [
    {
     "name": "stdout",
     "output_type": "stream",
     "text": [
      "conf interval for bootstrap: (6.459914864999999, 6.90667046)\n"
     ]
    }
   ],
   "source": [
    "np.sort(sample_means)\n",
    "lb = np.percentile(sample_means, 2.5)\n",
    "ub = np.percentile(sample_means, 97.5)\n",
    "print(\"conf interval for bootstrap:\", (lb, ub))"
   ]
  }
 ],
 "metadata": {
  "kernelspec": {
   "display_name": "Python 3",
   "language": "python",
   "name": "python3"
  },
  "language_info": {
   "codemirror_mode": {
    "name": "ipython",
    "version": 3
   },
   "file_extension": ".py",
   "mimetype": "text/x-python",
   "name": "python",
   "nbconvert_exporter": "python",
   "pygments_lexer": "ipython3",
   "version": "3.7.1"
  }
 },
 "nbformat": 4,
 "nbformat_minor": 4
}
